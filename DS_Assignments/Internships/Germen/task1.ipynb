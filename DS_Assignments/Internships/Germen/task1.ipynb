{
 "cells": [
  {
   "cell_type": "markdown",
   "id": "a06311ce",
   "metadata": {
    "id": "a06311ce"
   },
   "source": [
    "<center>\n",
    "    <H1>\n",
    "        Rectangles Intersection\n",
    "    </H1>\n",
    "</center>\n",
    "\n",
    "<hr style=\"height:2px\">\n",
    "\n",
    "<center>\n",
    "    <H3>\n",
    "        Problem\n",
    "    </H3>\n",
    "</center>\n",
    "\n",
    "You're given two rectangles. Each rectangle is represented as the coordinates of two opposing vertices, `[[x1,y1],[x2,y2]]`. Each rectangle has two of its sides parallel to the X-axis and has the other two sides parallel to the Y-axis.\n",
    "\n",
    "<BR>\n",
    "<p style=\"font-weight: bold; text-align: center\">\n",
    "Write a function that returns <u><code>True</code></u> if the two rectangles intersect. Otherwise, return <u><code>False</code></u>.\n",
    "</p>\n",
    "<BR>\n",
    "\n",
    "For two rectangles to be intersecting, there has to be a surface area common between them that is greater than zero. On a related note, two rectangles are NOT considered intersecting if they are merely adjacent and touching side-to-side (because the common surface area between them is zero).\n",
    "\n",
    "<hr style=\"height:2px\">\n",
    "\n",
    "<center>\n",
    "    <H3>\n",
    "        Sample Inputs & Outputs\n",
    "    </H3>\n",
    "</center>\n",
    "\n",
    "Sample input(s) and output(s) are given below. Note that the examples below are not exhaustive and that we will try your solution on other examples that are held back for verification later. Do try to account for as many cases as you can. Good Luck!\n",
    "\n",
    "#### Example 1\n",
    "```\n",
    "Input: rect1 = [[1,2],[3,4]], rect2 = [[2,1],[5,3]]\n",
    "Output: True\n",
    "Explanation: The two rectangles partially intersect\n",
    "```\n",
    "\n",
    "#### Example 2\n",
    "```\n",
    "Input: rect1 = [[3,2],[8,9]], rect2 = [[4,4],[6,7]]\n",
    "Output: True\n",
    "Explanation: One of the two rectangles is entirely inside the other\n",
    "```\n",
    "\n",
    "#### Example 3\n",
    "```\n",
    "Input: rect1 = [[1,2],[3,4]], rect2 = [[11,1],[9,5]]\n",
    "Output: False\n",
    "Explanation: The two rectangles do not intersect\n",
    "```\n",
    "\n",
    "#### Constraints:\n",
    "- `x1`, `y1`, `x2` and `y2` are all integers\n",
    "- Input rectangles are parallel to the X- and Y- axes\n",
    "\n",
    "<hr style=\"height:2px\">"
   ]
  },
  {
   "cell_type": "markdown",
   "id": "23c2b7d1",
   "metadata": {
    "id": "23c2b7d1"
   },
   "source": [
    "Please fill in the function below, then try your solution on the examples given at the bottom of this notebook.\n",
    "\n",
    "**Do NOT import or use any external libraries. AVOID `import` statements in your solution (e.g. `import numpy as np`).\n",
    "Use only base Python functions and pre-loaded libraries.**\n",
    "\n",
    "*You are free to add your own helper functions to be called by the function below.*\n",
    "\n",
    "Examples of functions/methods that you may use:\n",
    "   - min()\n",
    "   - max()\n",
    "   - len()\n",
    "   - type()\n",
    "   - range()\n",
    "   - reversed()\n",
    "   - list.sort()\n",
    "   - list.append()\n",
    "   - list.extend()\n",
    "   - list.pop()\n",
    "   - list.remove()"
   ]
  },
  {
   "cell_type": "code",
   "execution_count": null,
   "id": "f879ef3b",
   "metadata": {
    "id": "f879ef3b"
   },
   "outputs": [],
   "source": [
    "def intersectingRectangles(rect1, rect2):\n",
    "    x1, y1 = rect1[0]\n",
    "    x2, y2 = rect1[1]\n",
    "    x3, y3 = rect2[0]\n",
    "    x4, y4 = rect2[1] \n",
    "\n",
    "    # Calculate the coordinates of the edges of each rectangle\n",
    "    left_edge1 = x1\n",
    "    right_edge1 = x1 + x2\n",
    "    top_edge1 = y1\n",
    "    bottom_edge1 = y1 + y2\n",
    "\n",
    "    left_edge2 = x3\n",
    "    right_edge2 = x3 + x4\n",
    "    top_edge2 = y3\n",
    "    bottom_edge2 = y3 + y4\n",
    "\n",
    "    # Check for intersection\n",
    "    if (right_edge1 >= left_edge2 and left_edge1 <= right_edge2 and\n",
    "            bottom_edge1 >= top_edge2 and top_edge1 <= bottom_edge2):\n",
    "        return True\n",
    "    else:\n",
    "        return False\n"
   ]
  },
  {
   "cell_type": "code",
   "execution_count": 19,
   "id": "fbca7e08",
   "metadata": {
    "id": "fbca7e08",
    "outputId": "05a41723-6d48-42a2-a3d1-8a44c440edeb"
   },
   "outputs": [
    {
     "data": {
      "text/plain": [
       "True"
      ]
     },
     "execution_count": 19,
     "metadata": {},
     "output_type": "execute_result"
    }
   ],
   "source": [
    "intersectingRectangles(rect1 = [[1,2],[3,4]], rect2 = [[2,1],[5,3]])  # Expected: True"
   ]
  },
  {
   "cell_type": "code",
   "execution_count": 20,
   "id": "65dbc7c9",
   "metadata": {
    "id": "65dbc7c9",
    "outputId": "8ff52e83-8785-432f-c674-c9a362731d97"
   },
   "outputs": [
    {
     "data": {
      "text/plain": [
       "True"
      ]
     },
     "execution_count": 20,
     "metadata": {},
     "output_type": "execute_result"
    }
   ],
   "source": [
    "intersectingRectangles(rect1 = [[3,2],[8,9]], rect2 = [[4,4],[6,7]])  # Expected: True"
   ]
  },
  {
   "cell_type": "code",
   "execution_count": null,
   "id": "88768cf0",
   "metadata": {
    "id": "88768cf0",
    "outputId": "5f81b6f1-578e-4471-a9f8-b16bf71a7260"
   },
   "outputs": [
    {
     "data": {
      "text/plain": [
       "False"
      ]
     },
     "execution_count": 10,
     "metadata": {},
     "output_type": "execute_result"
    }
   ],
   "source": [
    "intersectingRectangles(rect1 = [[1,2],[3,4]], rect2 = [[11,1],[9,5]])  # Expected: False"
   ]
  },
  {
   "cell_type": "code",
   "execution_count": null,
   "id": "ff86f9a7",
   "metadata": {
    "id": "ff86f9a7",
    "outputId": "47c89bf2-7162-4912-ba8a-39c49f1aef70"
   },
   "outputs": [
    {
     "data": {
      "text/plain": [
       "True"
      ]
     },
     "execution_count": 11,
     "metadata": {},
     "output_type": "execute_result"
    }
   ],
   "source": [
    "intersectingRectangles(rect1 = [[2,2],[6,7]], rect2 = [[1,3],[7,6]])  # Expected: True"
   ]
  },
  {
   "cell_type": "code",
   "execution_count": null,
   "id": "6d000b57",
   "metadata": {
    "id": "6d000b57",
    "outputId": "bbf7956b-b1a0-4b5f-9517-c3fd8ef1c92d"
   },
   "outputs": [
    {
     "data": {
      "text/plain": [
       "True"
      ]
     },
     "execution_count": 12,
     "metadata": {},
     "output_type": "execute_result"
    }
   ],
   "source": [
    "intersectingRectangles(rect1 = [[6,2],[2,7]], rect2 = [[1,3],[7,6]])  # Expected: True"
   ]
  },
  {
   "cell_type": "code",
   "execution_count": null,
   "id": "6980f131",
   "metadata": {
    "id": "6980f131",
    "outputId": "bd77eb8a-f5d3-4a59-f3a2-0ac82ebf4309"
   },
   "outputs": [
    {
     "data": {
      "text/plain": [
       "True"
      ]
     },
     "execution_count": 13,
     "metadata": {},
     "output_type": "execute_result"
    }
   ],
   "source": [
    "intersectingRectangles(rect1 = [[6,2],[2,7]], rect2 = [[1,1],[8,8]])  # Expected: True"
   ]
  },
  {
   "cell_type": "code",
   "execution_count": 21,
   "id": "406fb36a",
   "metadata": {
    "id": "406fb36a",
    "outputId": "84e13d73-a8ba-454e-a1ac-ef4d9c11ed66"
   },
   "outputs": [
    {
     "data": {
      "text/plain": [
       "True"
      ]
     },
     "execution_count": 21,
     "metadata": {},
     "output_type": "execute_result"
    }
   ],
   "source": [
    "intersectingRectangles(rect1 = [[6,2],[2,7]], rect2 = [[3,3],[5,6]])  # Expected: True"
   ]
  },
  {
   "cell_type": "code",
   "execution_count": 22,
   "id": "26a6f9a3",
   "metadata": {
    "id": "26a6f9a3",
    "outputId": "979ec419-0333-44f4-8a54-a73b5ebf4bbd"
   },
   "outputs": [
    {
     "data": {
      "text/plain": [
       "False"
      ]
     },
     "execution_count": 22,
     "metadata": {},
     "output_type": "execute_result"
    }
   ],
   "source": [
    "intersectingRectangles(rect1 = [[2,2],[6,7]], rect2 = [[1,10],[7,13]])  # Expected: False"
   ]
  },
  {
   "cell_type": "code",
   "execution_count": null,
   "id": "689c6607",
   "metadata": {},
   "outputs": [],
   "source": []
  }
 ],
 "metadata": {
  "colab": {
   "provenance": []
  },
  "kernelspec": {
   "display_name": "Python 3 (ipykernel)",
   "language": "python",
   "name": "python3"
  },
  "language_info": {
   "codemirror_mode": {
    "name": "ipython",
    "version": 3
   },
   "file_extension": ".py",
   "mimetype": "text/x-python",
   "name": "python",
   "nbconvert_exporter": "python",
   "pygments_lexer": "ipython3",
   "version": "3.11.4"
  }
 },
 "nbformat": 4,
 "nbformat_minor": 5
}
