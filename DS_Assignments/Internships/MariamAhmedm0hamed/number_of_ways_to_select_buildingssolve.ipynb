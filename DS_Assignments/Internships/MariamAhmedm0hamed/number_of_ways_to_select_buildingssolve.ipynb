{
  "cells": [
    {
      "cell_type": "markdown",
      "id": "0e41cfb2",
      "metadata": {
        "id": "0e41cfb2"
      },
      "source": [
        "<center>\n",
        "    <H1>\n",
        "        Number of Ways to Select Buildings\n",
        "    </H1>\n",
        "</center>\n",
        "\n",
        "<hr style=\"height:2px\">\n",
        "\n",
        "<center>\n",
        "    <H3>\n",
        "        Problem\n",
        "    </H3>\n",
        "</center>\n",
        "\n",
        "You are given a 0-indexed binary string `s` which represents the types of buildings along a street where:\n",
        "```\n",
        "s[i] = '0' denotes that the ith building is an office and\n",
        "s[i] = '1' denotes that the ith building is a restaurant.\n",
        "```\n",
        "\n",
        "As a city official, you would like to **select** 3 buildings for random inspection. However, to ensure variety, **no two consecutive** buildings out of the **selected** buildings can be of the same type.\n",
        "\n",
        "- For example, given `s = \"001101\"`, we cannot select the *1st*, *3rd*, and *5th* buildings as that would form `\"011\"` which is **not** allowed due to having two consecutive buildings of the same type.\n",
        "\n",
        "<BR>\n",
        "<p style=\"font-weight: bold; text-align: center\">\n",
        "Write a function that returns <u>the number of valid ways to select 3 buildings</u>.\n",
        "</p>\n",
        "<BR>\n",
        "\n",
        "<hr style=\"height:2px\">\n",
        "\n",
        "<center>\n",
        "    <H3>\n",
        "        Sample Inputs & Outputs\n",
        "    </H3>\n",
        "</center>\n",
        "\n",
        "Sample input(s) and output(s) are given below. Note that the examples below are not exhaustive and that we will try your solution on other examples that are held back for verification later. Do try to account for as many cases as you can. Good Luck!\n",
        "\n",
        "#### Example 1\n",
        "```\n",
        "Input: s = \"001101\"\n",
        "Output: 6\n",
        "Explanation:\n",
        "The following sets of indices selected are valid:\n",
        "- [0,2,4] from \"001101\" forms \"010\"\n",
        "- [0,3,4] from \"001101\" forms \"010\"\n",
        "- [1,2,4] from \"001101\" forms \"010\"\n",
        "- [1,3,4] from \"001101\" forms \"010\"\n",
        "- [2,4,5] from \"001101\" forms \"101\"\n",
        "- [3,4,5] from \"001101\" forms \"101\"\n",
        "No other selection is valid. Thus, there are 6 total ways.\n",
        "```\n",
        "\n",
        "#### Example 2\n",
        "```\n",
        "Input: s = \"11100\"\n",
        "Output: 0\n",
        "Explanation: It can be shown that there are no valid selections.\n",
        "```\n",
        "\n",
        "#### Constraints:\n",
        "- `3 <= s.length <= 10^5`\n",
        "- `s[i]` is either `0` or `1`\n",
        "\n",
        "<hr style=\"height:2px\">"
      ]
    },
    {
      "cell_type": "markdown",
      "id": "7d9e9b2c",
      "metadata": {
        "id": "7d9e9b2c"
      },
      "source": [
        "Please fill in the function below, then try your solution on the examples given at the bottom of this notebook.\n",
        "\n",
        "**Do NOT import or use any external libraries. AVOID `import` statements in your solution (e.g. `import numpy as np`).\n",
        "Use only base Python functions and pre-loaded libraries.**\n",
        "\n",
        "*You are free to add your own helper functions to be called by the function below.*\n",
        "\n",
        "Examples of functions/methods that you may use:\n",
        "   - min()\n",
        "   - max()\n",
        "   - len()\n",
        "   - type()\n",
        "   - range()\n",
        "   - reversed()\n",
        "   - list.sort()\n",
        "   - list.append()\n",
        "   - list.extend()\n",
        "   - list.pop()\n",
        "   - list.remove()"
      ]
    },
    {
      "cell_type": "code",
      "execution_count": null,
      "id": "a2f438dc",
      "metadata": {
        "id": "a2f438dc"
      },
      "outputs": [],
      "source": [
        "def numberOfWays(s):\n",
        "    ## YOUR SOLUTION GOES HERE...\n",
        "      \n",
        "         ways_valid= 0\n",
        "        one = zero = zero_one = one_zero = 0\n",
        "        for c in s:\n",
        "            if c == '0':\n",
        "                zero += 1\n",
        "                one_zero += one\n",
        "                ways_valid += zero_one\n",
        "            else:\n",
        "                one += 1    \n",
        "                zero_one += zero \n",
        "                ways_valid += one_zero\n",
        "    \n",
        "    return ways_valid"
      ]
    },
    {
      "cell_type": "code",
      "execution_count": null,
      "id": "2d21d568",
      "metadata": {
        "id": "2d21d568",
        "outputId": "04a2788c-d9a0-478b-fee0-1198b96a42ba"
      },
      "outputs": [
        {
          "data": {
            "text/plain": [
              "6"
            ]
          },
          "execution_count": 3,
          "metadata": {},
          "output_type": "execute_result"
        }
      ],
      "source": [
        "numberOfWays('001101')  # Expected: 6"
      ]
    },
    {
      "cell_type": "code",
      "execution_count": null,
      "id": "145edb77",
      "metadata": {
        "id": "145edb77",
        "outputId": "026b8d98-0804-482b-ba84-1d3ca58aa3e3"
      },
      "outputs": [
        {
          "data": {
            "text/plain": [
              "0"
            ]
          },
          "execution_count": 4,
          "metadata": {},
          "output_type": "execute_result"
        }
      ],
      "source": [
        "numberOfWays('11100')  # Expected: 0"
      ]
    },
    {
      "cell_type": "code",
      "execution_count": null,
      "id": "df361d33",
      "metadata": {
        "id": "df361d33",
        "outputId": "e1dc1f45-19be-41de-d786-5423db744f22"
      },
      "outputs": [
        {
          "data": {
            "text/plain": [
              "8"
            ]
          },
          "execution_count": 5,
          "metadata": {},
          "output_type": "execute_result"
        }
      ],
      "source": [
        "numberOfWays('110011')  # Expected: 8\n"
      ]
    },
    {
      "cell_type": "code",
      "execution_count": null,
      "id": "03727015",
      "metadata": {
        "id": "03727015",
        "outputId": "73a4b3b8-08e3-4d9d-9c83-7de0ac282e45"
      },
      "outputs": [
        {
          "data": {
            "text/plain": [
              "12"
            ]
          },
          "execution_count": 6,
          "metadata": {},
          "output_type": "execute_result"
        }
      ],
      "source": [
        "numberOfWays('1100110')  # Expected: 12\n"
      ]
    },
    {
      "cell_type": "code",
      "execution_count": null,
      "id": "a9ac729f",
      "metadata": {
        "id": "a9ac729f"
      },
      "outputs": [],
      "source": []
    }
  ],
  "metadata": {
    "colab": {
      "provenance": []
    },
    "kernelspec": {
      "display_name": "Python 3 (ipykernel)",
      "language": "python",
      "name": "python3"
    },
    "language_info": {
      "codemirror_mode": {
        "name": "ipython",
        "version": 3
      },
      "file_extension": ".py",
      "mimetype": "text/x-python",
      "name": "python",
      "nbconvert_exporter": "python",
      "pygments_lexer": "ipython3",
      "version": "3.9.13"
    }
  },
  "nbformat": 4,
  "nbformat_minor": 5
}
