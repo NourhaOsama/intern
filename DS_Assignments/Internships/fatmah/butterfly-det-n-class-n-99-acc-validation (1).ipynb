{
 "cells": [
  {
   "cell_type": "markdown",
   "id": "7b298217",
   "metadata": {
    "papermill": {
     "duration": 0.00881,
     "end_time": "2023-10-16T10:53:11.291433",
     "exception": false,
     "start_time": "2023-10-16T10:53:11.282623",
     "status": "completed"
    },
    "tags": []
   },
   "source": [
    "<div style=\"background-color: #3b3745; padding: 30px; margin: 10px; border-radius: 10px; box-shadow: 0 2px 4px rgba(0, 0, 0, 0.5);\">\n",
    "  <h2 style=\"font-size: 36px; color: #fff; text-align: center; text-shadow: 2px 2px 4px rgba(0, 0, 0, 0.3);\">Explore Image processing with CNN model</h2>\n",
    "</div>\n"
   ]
  },
  {
   "cell_type": "markdown",
   "id": "ccb866bc",
   "metadata": {
    "papermill": {
     "duration": 0.00627,
     "end_time": "2023-10-16T10:53:11.304895",
     "exception": false,
     "start_time": "2023-10-16T10:53:11.298625",
     "status": "completed"
    },
    "tags": []
   },
   "source": [
    "# <div style=\"padding: 30px;color:white;margin:10;font-size:60%;text-align:left;display:fill;border-radius:10px;background-color:#FFFFFF;overflow:hidden;background-color:#3b3745\"><b><span style='color:#F1A424'>1 |</span></b> <b>Butterfly detection</b></div>\n",
    "    \n",
    "- <b>Data Processing</b>\n",
    "- <b>Label Encoding</b>\n",
    "- <b>Adding non butterfly images</b>\n",
    "    - <b>Imbalanced data visualization</b> \n",
    "    - <b>Data augmentation</b> \n",
    "- <b>Image Processing</b>\n",
    "- <b>Splitting data training and testing</b>\n",
    "- <b>Building model (Detection)</b>\n",
    "    "
   ]
  },
  {
   "cell_type": "markdown",
   "id": "11238621",
   "metadata": {
    "papermill": {
     "duration": 0.006776,
     "end_time": "2023-10-16T10:53:11.318302",
     "exception": false,
     "start_time": "2023-10-16T10:53:11.311526",
     "status": "completed"
    },
    "tags": []
   },
   "source": [
    "# <div style=\"padding: 30px;color:white;margin:10;font-size:60%;text-align:left;display:fill;border-radius:10px;background-color:#FFFFFF;overflow:hidden;background-color:#3b3745\"><b><span style='color:#F1A424'>2 |</span></b> <b>Butterfly Classification</b></div>    \n",
    "- <b>Splitting data</b>\n",
    "- <b>Building Model</b></div>\n"
   ]
  },
  {
   "cell_type": "code",
   "execution_count": 1,
   "id": "4ecc6f07",
   "metadata": {
    "_cell_guid": "b1076dfc-b9ad-4769-8c92-a6c4dae69d19",
    "_uuid": "8f2839f25d086af736a60e9eeb907d3b93b6e0e5",
    "execution": {
     "iopub.execute_input": "2023-10-16T10:53:11.333977Z",
     "iopub.status.busy": "2023-10-16T10:53:11.333192Z",
     "iopub.status.idle": "2023-10-16T10:53:11.496485Z",
     "shell.execute_reply": "2023-10-16T10:53:11.495452Z"
    },
    "papermill": {
     "duration": 0.173704,
     "end_time": "2023-10-16T10:53:11.498738",
     "exception": false,
     "start_time": "2023-10-16T10:53:11.325034",
     "status": "completed"
    },
    "tags": []
   },
   "outputs": [],
   "source": [
    "import numpy as np # linear algebra\n",
    "import pandas as pd # data processing, CSV file I/O (e.g. pd.read_csv)\n",
    "import os\n",
    "import matplotlib.pyplot as plt\n",
    "import cv2 as cv\n",
    "import warnings \n",
    "warnings.filterwarnings('ignore')"
   ]
  },
  {
   "cell_type": "markdown",
   "id": "6bfbe52e",
   "metadata": {
    "papermill": {
     "duration": 0.006835,
     "end_time": "2023-10-16T10:53:11.513061",
     "exception": false,
     "start_time": "2023-10-16T10:53:11.506226",
     "status": "completed"
    },
    "tags": []
   },
   "source": [
    "# <div style=\"padding: 30px;color:white;margin:10;font-size:60%;text-align:left;display:fill;border-radius:10px;background-color:#FFFFFF;overflow:hidden;background-color:#3b3745\"><b><span style='color:#F1A424'>1 |</span></b> <b>Butterfly detection</b></div>"
   ]
  },
  {
   "cell_type": "markdown",
   "id": "3384a299",
   "metadata": {
    "papermill": {
     "duration": 0.006708,
     "end_time": "2023-10-16T10:53:11.526947",
     "exception": false,
     "start_time": "2023-10-16T10:53:11.520239",
     "status": "completed"
    },
    "tags": []
   },
   "source": [
    "<div>\n",
    "  <h2 style=\"font-size: 24px; color: #F1A424; text-align: center;\">Data Processing </h2>\n",
    "</div>"
   ]
  },
  {
   "cell_type": "code",
   "execution_count": 2,
   "id": "01e5f250",
   "metadata": {
    "execution": {
     "iopub.execute_input": "2023-10-16T10:53:11.541722Z",
     "iopub.status.busy": "2023-10-16T10:53:11.541401Z",
     "iopub.status.idle": "2023-10-16T10:53:11.612215Z",
     "shell.execute_reply": "2023-10-16T10:53:11.611274Z"
    },
    "papermill": {
     "duration": 0.080594,
     "end_time": "2023-10-16T10:53:11.614341",
     "exception": false,
     "start_time": "2023-10-16T10:53:11.533747",
     "status": "completed"
    },
    "tags": []
   },
   "outputs": [
    {
     "data": {
      "text/html": [
       "<div>\n",
       "<style scoped>\n",
       "    .dataframe tbody tr th:only-of-type {\n",
       "        vertical-align: middle;\n",
       "    }\n",
       "\n",
       "    .dataframe tbody tr th {\n",
       "        vertical-align: top;\n",
       "    }\n",
       "\n",
       "    .dataframe thead th {\n",
       "        text-align: right;\n",
       "    }\n",
       "</style>\n",
       "<table border=\"1\" class=\"dataframe\">\n",
       "  <thead>\n",
       "    <tr style=\"text-align: right;\">\n",
       "      <th></th>\n",
       "      <th>filename</th>\n",
       "      <th>label</th>\n",
       "    </tr>\n",
       "  </thead>\n",
       "  <tbody>\n",
       "    <tr>\n",
       "      <th>3689</th>\n",
       "      <td>Image_3690.jpg</td>\n",
       "      <td>ORANGE TIP</td>\n",
       "    </tr>\n",
       "    <tr>\n",
       "      <th>2145</th>\n",
       "      <td>Image_2146.jpg</td>\n",
       "      <td>QUESTION MARK</td>\n",
       "    </tr>\n",
       "    <tr>\n",
       "      <th>6243</th>\n",
       "      <td>Image_6244.jpg</td>\n",
       "      <td>PURPLE HAIRSTREAK</td>\n",
       "    </tr>\n",
       "    <tr>\n",
       "      <th>1311</th>\n",
       "      <td>Image_1312.jpg</td>\n",
       "      <td>ELBOWED PIERROT</td>\n",
       "    </tr>\n",
       "    <tr>\n",
       "      <th>5392</th>\n",
       "      <td>Image_5393.jpg</td>\n",
       "      <td>EASTERN COMA</td>\n",
       "    </tr>\n",
       "  </tbody>\n",
       "</table>\n",
       "</div>"
      ],
      "text/plain": [
       "            filename              label\n",
       "3689  Image_3690.jpg         ORANGE TIP\n",
       "2145  Image_2146.jpg      QUESTION MARK\n",
       "6243  Image_6244.jpg  PURPLE HAIRSTREAK\n",
       "1311  Image_1312.jpg    ELBOWED PIERROT\n",
       "5392  Image_5393.jpg       EASTERN COMA"
      ]
     },
     "execution_count": 2,
     "metadata": {},
     "output_type": "execute_result"
    }
   ],
   "source": [
    "df_train = pd.read_csv(\"/kaggle/input/butterfly-image-classification/Training_set.csv\")\n",
    "df_test = pd.read_csv(\"/kaggle/input/butterfly-image-classification/Testing_set.csv\")\n",
    "df_train.sample(5)"
   ]
  },
  {
   "cell_type": "code",
   "execution_count": 3,
   "id": "0891c15c",
   "metadata": {
    "execution": {
     "iopub.execute_input": "2023-10-16T10:53:11.631186Z",
     "iopub.status.busy": "2023-10-16T10:53:11.630438Z",
     "iopub.status.idle": "2023-10-16T10:53:11.638002Z",
     "shell.execute_reply": "2023-10-16T10:53:11.637363Z"
    },
    "papermill": {
     "duration": 0.017424,
     "end_time": "2023-10-16T10:53:11.639689",
     "exception": false,
     "start_time": "2023-10-16T10:53:11.622265",
     "status": "completed"
    },
    "tags": []
   },
   "outputs": [
    {
     "data": {
      "text/html": [
       "<div>\n",
       "<style scoped>\n",
       "    .dataframe tbody tr th:only-of-type {\n",
       "        vertical-align: middle;\n",
       "    }\n",
       "\n",
       "    .dataframe tbody tr th {\n",
       "        vertical-align: top;\n",
       "    }\n",
       "\n",
       "    .dataframe thead th {\n",
       "        text-align: right;\n",
       "    }\n",
       "</style>\n",
       "<table border=\"1\" class=\"dataframe\">\n",
       "  <thead>\n",
       "    <tr style=\"text-align: right;\">\n",
       "      <th></th>\n",
       "      <th>filename</th>\n",
       "    </tr>\n",
       "  </thead>\n",
       "  <tbody>\n",
       "    <tr>\n",
       "      <th>0</th>\n",
       "      <td>Image_1.jpg</td>\n",
       "    </tr>\n",
       "    <tr>\n",
       "      <th>1</th>\n",
       "      <td>Image_2.jpg</td>\n",
       "    </tr>\n",
       "    <tr>\n",
       "      <th>2</th>\n",
       "      <td>Image_3.jpg</td>\n",
       "    </tr>\n",
       "    <tr>\n",
       "      <th>3</th>\n",
       "      <td>Image_4.jpg</td>\n",
       "    </tr>\n",
       "    <tr>\n",
       "      <th>4</th>\n",
       "      <td>Image_5.jpg</td>\n",
       "    </tr>\n",
       "  </tbody>\n",
       "</table>\n",
       "</div>"
      ],
      "text/plain": [
       "      filename\n",
       "0  Image_1.jpg\n",
       "1  Image_2.jpg\n",
       "2  Image_3.jpg\n",
       "3  Image_4.jpg\n",
       "4  Image_5.jpg"
      ]
     },
     "execution_count": 3,
     "metadata": {},
     "output_type": "execute_result"
    }
   ],
   "source": [
    "df_test.head()"
   ]
  },
  {
   "cell_type": "code",
   "execution_count": 4,
   "id": "4d1e5c4c",
   "metadata": {
    "execution": {
     "iopub.execute_input": "2023-10-16T10:53:11.655421Z",
     "iopub.status.busy": "2023-10-16T10:53:11.654883Z",
     "iopub.status.idle": "2023-10-16T10:53:11.676021Z",
     "shell.execute_reply": "2023-10-16T10:53:11.674970Z"
    },
    "papermill": {
     "duration": 0.030949,
     "end_time": "2023-10-16T10:53:11.677690",
     "exception": false,
     "start_time": "2023-10-16T10:53:11.646741",
     "status": "completed"
    },
    "tags": []
   },
   "outputs": [
    {
     "name": "stdout",
     "output_type": "stream",
     "text": [
      "<class 'pandas.core.frame.DataFrame'>\n",
      "RangeIndex: 6499 entries, 0 to 6498\n",
      "Data columns (total 2 columns):\n",
      " #   Column    Non-Null Count  Dtype \n",
      "---  ------    --------------  ----- \n",
      " 0   filename  6499 non-null   object\n",
      " 1   label     6499 non-null   object\n",
      "dtypes: object(2)\n",
      "memory usage: 101.7+ KB\n"
     ]
    },
    {
     "data": {
      "text/plain": [
       "(None, (6499, 2))"
      ]
     },
     "execution_count": 4,
     "metadata": {},
     "output_type": "execute_result"
    }
   ],
   "source": [
    "df_train.info(),df_train.shape"
   ]
  },
  {
   "cell_type": "code",
   "execution_count": 5,
   "id": "af9b2f7f",
   "metadata": {
    "execution": {
     "iopub.execute_input": "2023-10-16T10:53:11.693563Z",
     "iopub.status.busy": "2023-10-16T10:53:11.692826Z",
     "iopub.status.idle": "2023-10-16T10:53:11.703747Z",
     "shell.execute_reply": "2023-10-16T10:53:11.703151Z"
    },
    "papermill": {
     "duration": 0.020423,
     "end_time": "2023-10-16T10:53:11.705309",
     "exception": false,
     "start_time": "2023-10-16T10:53:11.684886",
     "status": "completed"
    },
    "tags": []
   },
   "outputs": [
    {
     "name": "stdout",
     "output_type": "stream",
     "text": [
      "<class 'pandas.core.frame.DataFrame'>\n",
      "RangeIndex: 2786 entries, 0 to 2785\n",
      "Data columns (total 1 columns):\n",
      " #   Column    Non-Null Count  Dtype \n",
      "---  ------    --------------  ----- \n",
      " 0   filename  2786 non-null   object\n",
      "dtypes: object(1)\n",
      "memory usage: 21.9+ KB\n"
     ]
    },
    {
     "data": {
      "text/plain": [
       "(None, (2786, 1))"
      ]
     },
     "execution_count": 5,
     "metadata": {},
     "output_type": "execute_result"
    }
   ],
   "source": [
    "df_test.info(),df_test.shape"
   ]
  },
  {
   "cell_type": "code",
   "execution_count": 6,
   "id": "ed09fcd9",
   "metadata": {
    "execution": {
     "iopub.execute_input": "2023-10-16T10:53:11.721190Z",
     "iopub.status.busy": "2023-10-16T10:53:11.720721Z",
     "iopub.status.idle": "2023-10-16T10:53:11.734461Z",
     "shell.execute_reply": "2023-10-16T10:53:11.733594Z"
    },
    "papermill": {
     "duration": 0.023592,
     "end_time": "2023-10-16T10:53:11.736308",
     "exception": false,
     "start_time": "2023-10-16T10:53:11.712716",
     "status": "completed"
    },
    "tags": []
   },
   "outputs": [
    {
     "data": {
      "text/html": [
       "<div>\n",
       "<style scoped>\n",
       "    .dataframe tbody tr th:only-of-type {\n",
       "        vertical-align: middle;\n",
       "    }\n",
       "\n",
       "    .dataframe tbody tr th {\n",
       "        vertical-align: top;\n",
       "    }\n",
       "\n",
       "    .dataframe thead th {\n",
       "        text-align: right;\n",
       "    }\n",
       "</style>\n",
       "<table border=\"1\" class=\"dataframe\">\n",
       "  <thead>\n",
       "    <tr style=\"text-align: right;\">\n",
       "      <th></th>\n",
       "      <th>filename</th>\n",
       "      <th>label</th>\n",
       "    </tr>\n",
       "  </thead>\n",
       "  <tbody>\n",
       "    <tr>\n",
       "      <th>1535</th>\n",
       "      <td>Image_1536.jpg</td>\n",
       "      <td>1</td>\n",
       "    </tr>\n",
       "    <tr>\n",
       "      <th>2688</th>\n",
       "      <td>Image_2689.jpg</td>\n",
       "      <td>1</td>\n",
       "    </tr>\n",
       "    <tr>\n",
       "      <th>725</th>\n",
       "      <td>Image_726.jpg</td>\n",
       "      <td>1</td>\n",
       "    </tr>\n",
       "  </tbody>\n",
       "</table>\n",
       "</div>"
      ],
      "text/plain": [
       "            filename  label\n",
       "1535  Image_1536.jpg      1\n",
       "2688  Image_2689.jpg      1\n",
       "725    Image_726.jpg      1"
      ]
     },
     "execution_count": 6,
     "metadata": {},
     "output_type": "execute_result"
    }
   ],
   "source": [
    "df = pd.concat([df_train[['filename']],df_test[['filename']]],axis='rows')\n",
    "df['label'] = [1]*len(df)\n",
    "df.sample(3)"
   ]
  },
  {
   "cell_type": "markdown",
   "id": "ef3c683c",
   "metadata": {
    "papermill": {
     "duration": 0.00709,
     "end_time": "2023-10-16T10:53:11.750941",
     "exception": false,
     "start_time": "2023-10-16T10:53:11.743851",
     "status": "completed"
    },
    "tags": []
   },
   "source": [
    "<div>\n",
    "  <h2 style=\"font-size: 24px; color: #F1A424; text-align: center;\">Label Encoding </h2>\n",
    "</div>"
   ]
  },
  {
   "cell_type": "code",
   "execution_count": 7,
   "id": "2d92157f",
   "metadata": {
    "execution": {
     "iopub.execute_input": "2023-10-16T10:53:11.766674Z",
     "iopub.status.busy": "2023-10-16T10:53:11.766416Z",
     "iopub.status.idle": "2023-10-16T10:53:12.858426Z",
     "shell.execute_reply": "2023-10-16T10:53:12.857538Z"
    },
    "papermill": {
     "duration": 1.102028,
     "end_time": "2023-10-16T10:53:12.860179",
     "exception": false,
     "start_time": "2023-10-16T10:53:11.758151",
     "status": "completed"
    },
    "tags": []
   },
   "outputs": [
    {
     "data": {
      "text/html": [
       "<div>\n",
       "<style scoped>\n",
       "    .dataframe tbody tr th:only-of-type {\n",
       "        vertical-align: middle;\n",
       "    }\n",
       "\n",
       "    .dataframe tbody tr th {\n",
       "        vertical-align: top;\n",
       "    }\n",
       "\n",
       "    .dataframe thead th {\n",
       "        text-align: right;\n",
       "    }\n",
       "</style>\n",
       "<table border=\"1\" class=\"dataframe\">\n",
       "  <thead>\n",
       "    <tr style=\"text-align: right;\">\n",
       "      <th></th>\n",
       "      <th>filename</th>\n",
       "      <th>label</th>\n",
       "      <th>label_en</th>\n",
       "    </tr>\n",
       "  </thead>\n",
       "  <tbody>\n",
       "    <tr>\n",
       "      <th>6448</th>\n",
       "      <td>Image_6449.jpg</td>\n",
       "      <td>EASTERN DAPPLE WHITE</td>\n",
       "      <td>27</td>\n",
       "    </tr>\n",
       "    <tr>\n",
       "      <th>4891</th>\n",
       "      <td>Image_4892.jpg</td>\n",
       "      <td>CRIMSON PATCH</td>\n",
       "      <td>24</td>\n",
       "    </tr>\n",
       "    <tr>\n",
       "      <th>3195</th>\n",
       "      <td>Image_3196.jpg</td>\n",
       "      <td>WOOD SATYR</td>\n",
       "      <td>72</td>\n",
       "    </tr>\n",
       "  </tbody>\n",
       "</table>\n",
       "</div>"
      ],
      "text/plain": [
       "            filename                 label  label_en\n",
       "6448  Image_6449.jpg  EASTERN DAPPLE WHITE        27\n",
       "4891  Image_4892.jpg         CRIMSON PATCH        24\n",
       "3195  Image_3196.jpg            WOOD SATYR        72"
      ]
     },
     "execution_count": 7,
     "metadata": {},
     "output_type": "execute_result"
    }
   ],
   "source": [
    "from sklearn.preprocessing import LabelEncoder\n",
    "\n",
    "encoder = LabelEncoder()\n",
    "df_train['label_en'] = encoder.fit_transform(df_train['label'])\n",
    "df_train.sample(3)"
   ]
  },
  {
   "cell_type": "markdown",
   "id": "ee09a1a6",
   "metadata": {
    "papermill": {
     "duration": 0.007276,
     "end_time": "2023-10-16T10:53:12.875051",
     "exception": false,
     "start_time": "2023-10-16T10:53:12.867775",
     "status": "completed"
    },
    "tags": []
   },
   "source": [
    "<div>\n",
    "  <h2 style=\"font-size: 24px; color: #F1A424; text-align: center;\">Adding non butterfly images </h2>\n",
    "</div>"
   ]
  },
  {
   "cell_type": "code",
   "execution_count": 8,
   "id": "fe9278e0",
   "metadata": {
    "execution": {
     "iopub.execute_input": "2023-10-16T10:53:12.890370Z",
     "iopub.status.busy": "2023-10-16T10:53:12.889844Z",
     "iopub.status.idle": "2023-10-16T10:53:13.013320Z",
     "shell.execute_reply": "2023-10-16T10:53:13.012469Z"
    },
    "papermill": {
     "duration": 0.133407,
     "end_time": "2023-10-16T10:53:13.015316",
     "exception": false,
     "start_time": "2023-10-16T10:53:12.881909",
     "status": "completed"
    },
    "tags": []
   },
   "outputs": [],
   "source": [
    "non_target = []\n",
    "MAIN_FILE = \"/kaggle/input/unsplash-random-images-collection/unsplash-images-collection/\"\n",
    "for img in os.listdir(MAIN_FILE):\n",
    "    non_target.append(img)"
   ]
  },
  {
   "cell_type": "code",
   "execution_count": 9,
   "id": "90999950",
   "metadata": {
    "execution": {
     "iopub.execute_input": "2023-10-16T10:53:13.031564Z",
     "iopub.status.busy": "2023-10-16T10:53:13.031133Z",
     "iopub.status.idle": "2023-10-16T10:53:13.036326Z",
     "shell.execute_reply": "2023-10-16T10:53:13.035650Z"
    },
    "papermill": {
     "duration": 0.014579,
     "end_time": "2023-10-16T10:53:13.037761",
     "exception": false,
     "start_time": "2023-10-16T10:53:13.023182",
     "status": "completed"
    },
    "tags": []
   },
   "outputs": [
    {
     "data": {
      "text/plain": [
       "['photo-1635057633867-bbb11bd336b3.jpg',\n",
       " 'photo-1602485467114-f85820ce228f.jpg',\n",
       " 'photo-1633113211800-4acbb59fc254.jpg',\n",
       " 'photo-1541958409-7618fd1ad26e.jpg',\n",
       " 'photo-1638051894614-a60031fc6962.jpg',\n",
       " 'photo-1639033302448-1b98bbf802bf.jpg',\n",
       " 'photo-1637310917417-a270927f4fba.jpg',\n",
       " 'photo-1576442849893-92c987a8ef80.jpg',\n",
       " 'photo-1635967200497-6a83775bf395.jpg',\n",
       " 'photo-1635990215165-9f03a3c06d93.jpg']"
      ]
     },
     "execution_count": 9,
     "metadata": {},
     "output_type": "execute_result"
    }
   ],
   "source": [
    "non_target[:10]"
   ]
  },
  {
   "cell_type": "code",
   "execution_count": 10,
   "id": "77d1b901",
   "metadata": {
    "execution": {
     "iopub.execute_input": "2023-10-16T10:53:13.053212Z",
     "iopub.status.busy": "2023-10-16T10:53:13.052950Z",
     "iopub.status.idle": "2023-10-16T10:53:13.062534Z",
     "shell.execute_reply": "2023-10-16T10:53:13.061657Z"
    },
    "papermill": {
     "duration": 0.01928,
     "end_time": "2023-10-16T10:53:13.064202",
     "exception": false,
     "start_time": "2023-10-16T10:53:13.044922",
     "status": "completed"
    },
    "tags": []
   },
   "outputs": [
    {
     "data": {
      "text/html": [
       "<div>\n",
       "<style scoped>\n",
       "    .dataframe tbody tr th:only-of-type {\n",
       "        vertical-align: middle;\n",
       "    }\n",
       "\n",
       "    .dataframe tbody tr th {\n",
       "        vertical-align: top;\n",
       "    }\n",
       "\n",
       "    .dataframe thead th {\n",
       "        text-align: right;\n",
       "    }\n",
       "</style>\n",
       "<table border=\"1\" class=\"dataframe\">\n",
       "  <thead>\n",
       "    <tr style=\"text-align: right;\">\n",
       "      <th></th>\n",
       "      <th>filename</th>\n",
       "      <th>label</th>\n",
       "    </tr>\n",
       "  </thead>\n",
       "  <tbody>\n",
       "    <tr>\n",
       "      <th>0</th>\n",
       "      <td>photo-1635057633867-bbb11bd336b3.jpg</td>\n",
       "      <td>0</td>\n",
       "    </tr>\n",
       "    <tr>\n",
       "      <th>1</th>\n",
       "      <td>photo-1602485467114-f85820ce228f.jpg</td>\n",
       "      <td>0</td>\n",
       "    </tr>\n",
       "    <tr>\n",
       "      <th>2</th>\n",
       "      <td>photo-1633113211800-4acbb59fc254.jpg</td>\n",
       "      <td>0</td>\n",
       "    </tr>\n",
       "    <tr>\n",
       "      <th>3</th>\n",
       "      <td>photo-1541958409-7618fd1ad26e.jpg</td>\n",
       "      <td>0</td>\n",
       "    </tr>\n",
       "    <tr>\n",
       "      <th>4</th>\n",
       "      <td>photo-1638051894614-a60031fc6962.jpg</td>\n",
       "      <td>0</td>\n",
       "    </tr>\n",
       "  </tbody>\n",
       "</table>\n",
       "</div>"
      ],
      "text/plain": [
       "                               filename label\n",
       "0  photo-1635057633867-bbb11bd336b3.jpg     0\n",
       "1  photo-1602485467114-f85820ce228f.jpg     0\n",
       "2  photo-1633113211800-4acbb59fc254.jpg     0\n",
       "3     photo-1541958409-7618fd1ad26e.jpg     0\n",
       "4  photo-1638051894614-a60031fc6962.jpg     0"
      ]
     },
     "execution_count": 10,
     "metadata": {},
     "output_type": "execute_result"
    }
   ],
   "source": [
    "non_target_labels = np.c_[non_target,[0]*len(non_target)]\n",
    "non_df = pd.DataFrame(non_target_labels,columns=['filename','label'])\n",
    "non_df.head()"
   ]
  },
  {
   "cell_type": "markdown",
   "id": "799c5b2f",
   "metadata": {
    "papermill": {
     "duration": 0.007604,
     "end_time": "2023-10-16T10:53:13.078985",
     "exception": false,
     "start_time": "2023-10-16T10:53:13.071381",
     "status": "completed"
    },
    "tags": []
   },
   "source": [
    "<h2 style=\"font-size: 18px; color: #777; text-align: right; font-style: italic;\">Imbalanced data visualization</h2>"
   ]
  },
  {
   "cell_type": "code",
   "execution_count": 11,
   "id": "f1a887f3",
   "metadata": {
    "_kg_hide-input": true,
    "execution": {
     "iopub.execute_input": "2023-10-16T10:53:13.095423Z",
     "iopub.status.busy": "2023-10-16T10:53:13.095180Z",
     "iopub.status.idle": "2023-10-16T10:53:13.324472Z",
     "shell.execute_reply": "2023-10-16T10:53:13.323724Z"
    },
    "papermill": {
     "duration": 0.239868,
     "end_time": "2023-10-16T10:53:13.326359",
     "exception": false,
     "start_time": "2023-10-16T10:53:13.086491",
     "status": "completed"
    },
    "tags": []
   },
   "outputs": [
    {
     "data": {
      "text/html": [
       "        <script type=\"text/javascript\">\n",
       "        window.PlotlyConfig = {MathJaxConfig: 'local'};\n",
       "        if (window.MathJax && window.MathJax.Hub && window.MathJax.Hub.Config) {window.MathJax.Hub.Config({SVG: {font: \"STIX-Web\"}});}\n",
       "        if (typeof require !== 'undefined') {\n",
       "        require.undef(\"plotly\");\n",
       "        requirejs.config({\n",
       "            paths: {\n",
       "                'plotly': ['https://cdn.plot.ly/plotly-2.20.0.min']\n",
       "            }\n",
       "        });\n",
       "        require(['plotly'], function(Plotly) {\n",
       "            window._Plotly = Plotly;\n",
       "        });\n",
       "        }\n",
       "        </script>\n",
       "        "
      ]
     },
     "metadata": {},
     "output_type": "display_data"
    },
    {
     "data": {
      "text/html": [
       "<div>                            <div id=\"d570480a-513e-4419-b4cb-6dbae43f1ba8\" class=\"plotly-graph-div\" style=\"height:525px; width:100%;\"></div>            <script type=\"text/javascript\">                require([\"plotly\"], function(Plotly) {                    window.PLOTLYENV=window.PLOTLYENV || {};                                    if (document.getElementById(\"d570480a-513e-4419-b4cb-6dbae43f1ba8\")) {                    Plotly.newPlot(                        \"d570480a-513e-4419-b4cb-6dbae43f1ba8\",                        [{\"labels\":[\"positive\",\"Negative\"],\"values\":[9285,802],\"type\":\"pie\"}],                        {\"template\":{\"data\":{\"histogram2dcontour\":[{\"type\":\"histogram2dcontour\",\"colorbar\":{\"outlinewidth\":0,\"ticks\":\"\"},\"colorscale\":[[0.0,\"#0d0887\"],[0.1111111111111111,\"#46039f\"],[0.2222222222222222,\"#7201a8\"],[0.3333333333333333,\"#9c179e\"],[0.4444444444444444,\"#bd3786\"],[0.5555555555555556,\"#d8576b\"],[0.6666666666666666,\"#ed7953\"],[0.7777777777777778,\"#fb9f3a\"],[0.8888888888888888,\"#fdca26\"],[1.0,\"#f0f921\"]]}],\"choropleth\":[{\"type\":\"choropleth\",\"colorbar\":{\"outlinewidth\":0,\"ticks\":\"\"}}],\"histogram2d\":[{\"type\":\"histogram2d\",\"colorbar\":{\"outlinewidth\":0,\"ticks\":\"\"},\"colorscale\":[[0.0,\"#0d0887\"],[0.1111111111111111,\"#46039f\"],[0.2222222222222222,\"#7201a8\"],[0.3333333333333333,\"#9c179e\"],[0.4444444444444444,\"#bd3786\"],[0.5555555555555556,\"#d8576b\"],[0.6666666666666666,\"#ed7953\"],[0.7777777777777778,\"#fb9f3a\"],[0.8888888888888888,\"#fdca26\"],[1.0,\"#f0f921\"]]}],\"heatmap\":[{\"type\":\"heatmap\",\"colorbar\":{\"outlinewidth\":0,\"ticks\":\"\"},\"colorscale\":[[0.0,\"#0d0887\"],[0.1111111111111111,\"#46039f\"],[0.2222222222222222,\"#7201a8\"],[0.3333333333333333,\"#9c179e\"],[0.4444444444444444,\"#bd3786\"],[0.5555555555555556,\"#d8576b\"],[0.6666666666666666,\"#ed7953\"],[0.7777777777777778,\"#fb9f3a\"],[0.8888888888888888,\"#fdca26\"],[1.0,\"#f0f921\"]]}],\"heatmapgl\":[{\"type\":\"heatmapgl\",\"colorbar\":{\"outlinewidth\":0,\"ticks\":\"\"},\"colorscale\":[[0.0,\"#0d0887\"],[0.1111111111111111,\"#46039f\"],[0.2222222222222222,\"#7201a8\"],[0.3333333333333333,\"#9c179e\"],[0.4444444444444444,\"#bd3786\"],[0.5555555555555556,\"#d8576b\"],[0.6666666666666666,\"#ed7953\"],[0.7777777777777778,\"#fb9f3a\"],[0.8888888888888888,\"#fdca26\"],[1.0,\"#f0f921\"]]}],\"contourcarpet\":[{\"type\":\"contourcarpet\",\"colorbar\":{\"outlinewidth\":0,\"ticks\":\"\"}}],\"contour\":[{\"type\":\"contour\",\"colorbar\":{\"outlinewidth\":0,\"ticks\":\"\"},\"colorscale\":[[0.0,\"#0d0887\"],[0.1111111111111111,\"#46039f\"],[0.2222222222222222,\"#7201a8\"],[0.3333333333333333,\"#9c179e\"],[0.4444444444444444,\"#bd3786\"],[0.5555555555555556,\"#d8576b\"],[0.6666666666666666,\"#ed7953\"],[0.7777777777777778,\"#fb9f3a\"],[0.8888888888888888,\"#fdca26\"],[1.0,\"#f0f921\"]]}],\"surface\":[{\"type\":\"surface\",\"colorbar\":{\"outlinewidth\":0,\"ticks\":\"\"},\"colorscale\":[[0.0,\"#0d0887\"],[0.1111111111111111,\"#46039f\"],[0.2222222222222222,\"#7201a8\"],[0.3333333333333333,\"#9c179e\"],[0.4444444444444444,\"#bd3786\"],[0.5555555555555556,\"#d8576b\"],[0.6666666666666666,\"#ed7953\"],[0.7777777777777778,\"#fb9f3a\"],[0.8888888888888888,\"#fdca26\"],[1.0,\"#f0f921\"]]}],\"mesh3d\":[{\"type\":\"mesh3d\",\"colorbar\":{\"outlinewidth\":0,\"ticks\":\"\"}}],\"scatter\":[{\"fillpattern\":{\"fillmode\":\"overlay\",\"size\":10,\"solidity\":0.2},\"type\":\"scatter\"}],\"parcoords\":[{\"type\":\"parcoords\",\"line\":{\"colorbar\":{\"outlinewidth\":0,\"ticks\":\"\"}}}],\"scatterpolargl\":[{\"type\":\"scatterpolargl\",\"marker\":{\"colorbar\":{\"outlinewidth\":0,\"ticks\":\"\"}}}],\"bar\":[{\"error_x\":{\"color\":\"#2a3f5f\"},\"error_y\":{\"color\":\"#2a3f5f\"},\"marker\":{\"line\":{\"color\":\"#E5ECF6\",\"width\":0.5},\"pattern\":{\"fillmode\":\"overlay\",\"size\":10,\"solidity\":0.2}},\"type\":\"bar\"}],\"scattergeo\":[{\"type\":\"scattergeo\",\"marker\":{\"colorbar\":{\"outlinewidth\":0,\"ticks\":\"\"}}}],\"scatterpolar\":[{\"type\":\"scatterpolar\",\"marker\":{\"colorbar\":{\"outlinewidth\":0,\"ticks\":\"\"}}}],\"histogram\":[{\"marker\":{\"pattern\":{\"fillmode\":\"overlay\",\"size\":10,\"solidity\":0.2}},\"type\":\"histogram\"}],\"scattergl\":[{\"type\":\"scattergl\",\"marker\":{\"colorbar\":{\"outlinewidth\":0,\"ticks\":\"\"}}}],\"scatter3d\":[{\"type\":\"scatter3d\",\"line\":{\"colorbar\":{\"outlinewidth\":0,\"ticks\":\"\"}},\"marker\":{\"colorbar\":{\"outlinewidth\":0,\"ticks\":\"\"}}}],\"scattermapbox\":[{\"type\":\"scattermapbox\",\"marker\":{\"colorbar\":{\"outlinewidth\":0,\"ticks\":\"\"}}}],\"scatterternary\":[{\"type\":\"scatterternary\",\"marker\":{\"colorbar\":{\"outlinewidth\":0,\"ticks\":\"\"}}}],\"scattercarpet\":[{\"type\":\"scattercarpet\",\"marker\":{\"colorbar\":{\"outlinewidth\":0,\"ticks\":\"\"}}}],\"carpet\":[{\"aaxis\":{\"endlinecolor\":\"#2a3f5f\",\"gridcolor\":\"white\",\"linecolor\":\"white\",\"minorgridcolor\":\"white\",\"startlinecolor\":\"#2a3f5f\"},\"baxis\":{\"endlinecolor\":\"#2a3f5f\",\"gridcolor\":\"white\",\"linecolor\":\"white\",\"minorgridcolor\":\"white\",\"startlinecolor\":\"#2a3f5f\"},\"type\":\"carpet\"}],\"table\":[{\"cells\":{\"fill\":{\"color\":\"#EBF0F8\"},\"line\":{\"color\":\"white\"}},\"header\":{\"fill\":{\"color\":\"#C8D4E3\"},\"line\":{\"color\":\"white\"}},\"type\":\"table\"}],\"barpolar\":[{\"marker\":{\"line\":{\"color\":\"#E5ECF6\",\"width\":0.5},\"pattern\":{\"fillmode\":\"overlay\",\"size\":10,\"solidity\":0.2}},\"type\":\"barpolar\"}],\"pie\":[{\"automargin\":true,\"type\":\"pie\"}]},\"layout\":{\"autotypenumbers\":\"strict\",\"colorway\":[\"#636efa\",\"#EF553B\",\"#00cc96\",\"#ab63fa\",\"#FFA15A\",\"#19d3f3\",\"#FF6692\",\"#B6E880\",\"#FF97FF\",\"#FECB52\"],\"font\":{\"color\":\"#2a3f5f\"},\"hovermode\":\"closest\",\"hoverlabel\":{\"align\":\"left\"},\"paper_bgcolor\":\"white\",\"plot_bgcolor\":\"#E5ECF6\",\"polar\":{\"bgcolor\":\"#E5ECF6\",\"angularaxis\":{\"gridcolor\":\"white\",\"linecolor\":\"white\",\"ticks\":\"\"},\"radialaxis\":{\"gridcolor\":\"white\",\"linecolor\":\"white\",\"ticks\":\"\"}},\"ternary\":{\"bgcolor\":\"#E5ECF6\",\"aaxis\":{\"gridcolor\":\"white\",\"linecolor\":\"white\",\"ticks\":\"\"},\"baxis\":{\"gridcolor\":\"white\",\"linecolor\":\"white\",\"ticks\":\"\"},\"caxis\":{\"gridcolor\":\"white\",\"linecolor\":\"white\",\"ticks\":\"\"}},\"coloraxis\":{\"colorbar\":{\"outlinewidth\":0,\"ticks\":\"\"}},\"colorscale\":{\"sequential\":[[0.0,\"#0d0887\"],[0.1111111111111111,\"#46039f\"],[0.2222222222222222,\"#7201a8\"],[0.3333333333333333,\"#9c179e\"],[0.4444444444444444,\"#bd3786\"],[0.5555555555555556,\"#d8576b\"],[0.6666666666666666,\"#ed7953\"],[0.7777777777777778,\"#fb9f3a\"],[0.8888888888888888,\"#fdca26\"],[1.0,\"#f0f921\"]],\"sequentialminus\":[[0.0,\"#0d0887\"],[0.1111111111111111,\"#46039f\"],[0.2222222222222222,\"#7201a8\"],[0.3333333333333333,\"#9c179e\"],[0.4444444444444444,\"#bd3786\"],[0.5555555555555556,\"#d8576b\"],[0.6666666666666666,\"#ed7953\"],[0.7777777777777778,\"#fb9f3a\"],[0.8888888888888888,\"#fdca26\"],[1.0,\"#f0f921\"]],\"diverging\":[[0,\"#8e0152\"],[0.1,\"#c51b7d\"],[0.2,\"#de77ae\"],[0.3,\"#f1b6da\"],[0.4,\"#fde0ef\"],[0.5,\"#f7f7f7\"],[0.6,\"#e6f5d0\"],[0.7,\"#b8e186\"],[0.8,\"#7fbc41\"],[0.9,\"#4d9221\"],[1,\"#276419\"]]},\"xaxis\":{\"gridcolor\":\"white\",\"linecolor\":\"white\",\"ticks\":\"\",\"title\":{\"standoff\":15},\"zerolinecolor\":\"white\",\"automargin\":true,\"zerolinewidth\":2},\"yaxis\":{\"gridcolor\":\"white\",\"linecolor\":\"white\",\"ticks\":\"\",\"title\":{\"standoff\":15},\"zerolinecolor\":\"white\",\"automargin\":true,\"zerolinewidth\":2},\"scene\":{\"xaxis\":{\"backgroundcolor\":\"#E5ECF6\",\"gridcolor\":\"white\",\"linecolor\":\"white\",\"showbackground\":true,\"ticks\":\"\",\"zerolinecolor\":\"white\",\"gridwidth\":2},\"yaxis\":{\"backgroundcolor\":\"#E5ECF6\",\"gridcolor\":\"white\",\"linecolor\":\"white\",\"showbackground\":true,\"ticks\":\"\",\"zerolinecolor\":\"white\",\"gridwidth\":2},\"zaxis\":{\"backgroundcolor\":\"#E5ECF6\",\"gridcolor\":\"white\",\"linecolor\":\"white\",\"showbackground\":true,\"ticks\":\"\",\"zerolinecolor\":\"white\",\"gridwidth\":2}},\"shapedefaults\":{\"line\":{\"color\":\"#2a3f5f\"}},\"annotationdefaults\":{\"arrowcolor\":\"#2a3f5f\",\"arrowhead\":0,\"arrowwidth\":1},\"geo\":{\"bgcolor\":\"white\",\"landcolor\":\"#E5ECF6\",\"subunitcolor\":\"white\",\"showland\":true,\"showlakes\":true,\"lakecolor\":\"white\"},\"title\":{\"x\":0.05},\"mapbox\":{\"style\":\"light\"}}}},                        {\"responsive\": true}                    ).then(function(){\n",
       "                            \n",
       "var gd = document.getElementById('d570480a-513e-4419-b4cb-6dbae43f1ba8');\n",
       "var x = new MutationObserver(function (mutations, observer) {{\n",
       "        var display = window.getComputedStyle(gd).display;\n",
       "        if (!display || display === 'none') {{\n",
       "            console.log([gd, 'removed!']);\n",
       "            Plotly.purge(gd);\n",
       "            observer.disconnect();\n",
       "        }}\n",
       "}});\n",
       "\n",
       "// Listen for the removal of the full notebook cells\n",
       "var notebookContainer = gd.closest('#notebook-container');\n",
       "if (notebookContainer) {{\n",
       "    x.observe(notebookContainer, {childList: true});\n",
       "}}\n",
       "\n",
       "// Listen for the clearing of the current output cell\n",
       "var outputEl = gd.closest('.output');\n",
       "if (outputEl) {{\n",
       "    x.observe(outputEl, {childList: true});\n",
       "}}\n",
       "\n",
       "                        })                };                });            </script>        </div>"
      ]
     },
     "metadata": {},
     "output_type": "display_data"
    }
   ],
   "source": [
    "import plotly.graph_objects as go\n",
    "\n",
    "P = len(df)\n",
    "N = len(non_df)\n",
    "\n",
    "layout = go.Layout(\n",
    "    title='Imbalanced data'\n",
    ")\n",
    "def plot_pie_chart(labels, values):\n",
    "    fig = go.Figure(data=[go.Pie(labels=labels, values=values)])\n",
    "    fig.show()\n",
    "\n",
    "labels = ['positive', 'Negative']\n",
    "values = [P,N]\n",
    "plot_pie_chart(labels, values)\n"
   ]
  },
  {
   "cell_type": "markdown",
   "id": "54d7ca2b",
   "metadata": {
    "papermill": {
     "duration": 0.008284,
     "end_time": "2023-10-16T10:53:13.343219",
     "exception": false,
     "start_time": "2023-10-16T10:53:13.334935",
     "status": "completed"
    },
    "tags": []
   },
   "source": [
    "> Here you can it is very much imbalanced, so its time to balance it."
   ]
  },
  {
   "cell_type": "markdown",
   "id": "5ed5e8d1",
   "metadata": {
    "papermill": {
     "duration": 0.008306,
     "end_time": "2023-10-16T10:53:13.359927",
     "exception": false,
     "start_time": "2023-10-16T10:53:13.351621",
     "status": "completed"
    },
    "tags": []
   },
   "source": [
    "<h2 style=\"font-size: 18px; color: #777; text-align: right; font-style: italic;\">Data augmentation </h2>"
   ]
  },
  {
   "cell_type": "code",
   "execution_count": 12,
   "id": "ec444c69",
   "metadata": {
    "execution": {
     "iopub.execute_input": "2023-10-16T10:53:13.377479Z",
     "iopub.status.busy": "2023-10-16T10:53:13.377168Z",
     "iopub.status.idle": "2023-10-16T10:53:55.779422Z",
     "shell.execute_reply": "2023-10-16T10:53:55.778523Z"
    },
    "papermill": {
     "duration": 42.439719,
     "end_time": "2023-10-16T10:53:55.807753",
     "exception": false,
     "start_time": "2023-10-16T10:53:13.368034",
     "status": "completed"
    },
    "tags": []
   },
   "outputs": [
    {
     "name": "stdout",
     "output_type": "stream",
     "text": [
      "(48120, 40, 40, 3)\n"
     ]
    },
    {
     "data": {
      "image/png": "[encoded data removed]",
      "text/plain": [
       "<Figure size 640x480 with 1 Axes>"
      ]
     },
     "metadata": {},
     "output_type": "display_data"
    }
   ],
   "source": [
    "non_target = []\n",
    "IMAGE_SIZE = (40,40)\n",
    "for img in non_df['filename']:\n",
    "    img = cv.imread(\"/kaggle/input/unsplash-random-images-collection/unsplash-images-collection/\"+img)\n",
    "    img = cv.resize(img,IMAGE_SIZE)\n",
    "    non_target.append(img/255.0)\n",
    "\n",
    "from tensorflow.keras.preprocessing.image import ImageDataGenerator\n",
    "\n",
    "# Create an instance of the ImageDataGenerator class\n",
    "datagen = ImageDataGenerator(\n",
    "    rotation_range=30,  # Randomly rotate images by 30 degrees\n",
    "    width_shift_range=0.2,  # Randomly shift images horizontally by 20% of the total width\n",
    "    height_shift_range=0.2,  # Randomly shift images vertically by 20% of the total height\n",
    "    shear_range=0.3,  # Apply shear transformation with a shear angle of 30 degrees\n",
    "    zoom_range=0.3,  # Randomly zoom images by up to 30%\n",
    "    horizontal_flip=True,  # Randomly flip images horizontally\n",
    "    vertical_flip=False  # Do not perform vertical flips\n",
    ")\n",
    "\n",
    "# Example grayscale numpy array of images (3D)\n",
    "images = non_target # Shape: (num_samples, height, width)\n",
    "\n",
    "# Generate augmented grayscale images\n",
    "augmented_images = []\n",
    "\n",
    "for image in images:\n",
    "    num_generated_images = 0\n",
    "\n",
    "    while num_generated_images < 60:\n",
    "        augmented_image = datagen.random_transform(image)\n",
    "        augmented_images.append(augmented_image)\n",
    "        num_generated_images += 1\n",
    "# Convert augmented grayscale images back to a NumPy array\n",
    "augmented_images = np.array(augmented_images)\n",
    "non_target = np.squeeze(augmented_images)\n",
    "print(non_target.shape)\n",
    "plt.imshow(non_target[0])\n",
    "plt.axis('off')\n",
    "plt.show()"
   ]
  },
  {
   "cell_type": "markdown",
   "id": "61068760",
   "metadata": {
    "papermill": {
     "duration": 0.024345,
     "end_time": "2023-10-16T10:53:55.857529",
     "exception": false,
     "start_time": "2023-10-16T10:53:55.833184",
     "status": "completed"
    },
    "tags": []
   },
   "source": [
    "<div>\n",
    "  <h2 style=\"font-size: 24px; color: #F1A424; text-align: center;\">Image Processing</h2>\n",
    "</div>"
   ]
  },
  {
   "cell_type": "code",
   "execution_count": 13,
   "id": "79bc6099",
   "metadata": {
    "execution": {
     "iopub.execute_input": "2023-10-16T10:53:55.875760Z",
     "iopub.status.busy": "2023-10-16T10:53:55.874941Z",
     "iopub.status.idle": "2023-10-16T10:55:34.424819Z",
     "shell.execute_reply": "2023-10-16T10:55:34.423935Z"
    },
    "papermill": {
     "duration": 98.570075,
     "end_time": "2023-10-16T10:55:34.435549",
     "exception": false,
     "start_time": "2023-10-16T10:53:55.865474",
     "status": "completed"
    },
    "tags": []
   },
   "outputs": [
    {
     "data": {
      "image/png": "[encoded data removed]",
      "text/plain": [
       "<Figure size 640x480 with 1 Axes>"
      ]
     },
     "metadata": {},
     "output_type": "display_data"
    }
   ],
   "source": [
    "IMAGE_SIZE = (40,40)\n",
    "IMAGE_SIZE_CLASS = (60,60)\n",
    "\n",
    "train = []\n",
    "\n",
    "# it is for classification model which we will se after detection process\n",
    "train_class = [] \n",
    "train_labels = [] \n",
    "\n",
    "test = []\n",
    "\n",
    "for img,label in zip(df_train['filename'],df_train['label_en']):\n",
    "    img = cv.imread(\"/kaggle/input/butterfly-image-classification/train/\"+img)\n",
    "    det = cv.resize(img,IMAGE_SIZE)\n",
    "    clas = cv.resize(img,IMAGE_SIZE_CLASS)\n",
    "    train.append(det/255.0)\n",
    "    train_class.append(clas/255.0)\n",
    "    train_labels.append(label)\n",
    "    \n",
    "for img in df_test['filename']:\n",
    "    img = cv.imread(\"/kaggle/input/butterfly-image-classification/test/\"+img)\n",
    "    img = cv.resize(img,IMAGE_SIZE)\n",
    "    test.append(img/255.0)\n",
    "plt.imshow(train[0])\n",
    "plt.axis('off')\n",
    "plt.show()"
   ]
  },
  {
   "cell_type": "code",
   "execution_count": 14,
   "id": "11403745",
   "metadata": {
    "execution": {
     "iopub.execute_input": "2023-10-16T10:55:34.453794Z",
     "iopub.status.busy": "2023-10-16T10:55:34.452849Z",
     "iopub.status.idle": "2023-10-16T10:56:07.136141Z",
     "shell.execute_reply": "2023-10-16T10:56:07.135194Z"
    },
    "papermill": {
     "duration": 32.703235,
     "end_time": "2023-10-16T10:56:07.146970",
     "exception": false,
     "start_time": "2023-10-16T10:55:34.443735",
     "status": "completed"
    },
    "tags": []
   },
   "outputs": [
    {
     "name": "stdout",
     "output_type": "stream",
     "text": [
      "(55710, 40, 40, 3)\n"
     ]
    }
   ],
   "source": [
    "images = list(train)+list(test)\n",
    "\n",
    "# Generate augmented images\n",
    "augmented_images_target = []\n",
    "for image in images:\n",
    "    num_generated_images = 0\n",
    "\n",
    "    while num_generated_images < 6:\n",
    "        augmented_image = datagen.random_transform(image)\n",
    "        augmented_images_target.append(augmented_image)\n",
    "        num_generated_images += 1\n",
    "        \n",
    "augmented_images_target = np.array(augmented_images_target)\n",
    "target = np.squeeze(augmented_images_target)\n",
    "print(target.shape)"
   ]
  },
  {
   "cell_type": "code",
   "execution_count": 15,
   "id": "616081a8",
   "metadata": {
    "_kg_hide-input": true,
    "execution": {
     "iopub.execute_input": "2023-10-16T10:56:07.165469Z",
     "iopub.status.busy": "2023-10-16T10:56:07.164939Z",
     "iopub.status.idle": "2023-10-16T10:56:07.174137Z",
     "shell.execute_reply": "2023-10-16T10:56:07.173417Z"
    },
    "papermill": {
     "duration": 0.020162,
     "end_time": "2023-10-16T10:56:07.175841",
     "exception": false,
     "start_time": "2023-10-16T10:56:07.155679",
     "status": "completed"
    },
    "tags": []
   },
   "outputs": [
    {
     "data": {
      "text/html": [
       "<div>                            <div id=\"439806e7-6f95-41d8-8119-bce145418d98\" class=\"plotly-graph-div\" style=\"height:525px; width:100%;\"></div>            <script type=\"text/javascript\">                require([\"plotly\"], function(Plotly) {                    window.PLOTLYENV=window.PLOTLYENV || {};                                    if (document.getElementById(\"439806e7-6f95-41d8-8119-bce145418d98\")) {                    Plotly.newPlot(                        \"439806e7-6f95-41d8-8119-bce145418d98\",                        [{\"labels\":[\"positive\",\"Negative\"],\"values\":[55710,48120],\"type\":\"pie\"}],                        {\"title\":{\"text\":\"Balanced data\"},\"template\":{\"data\":{\"histogram2dcontour\":[{\"type\":\"histogram2dcontour\",\"colorbar\":{\"outlinewidth\":0,\"ticks\":\"\"},\"colorscale\":[[0.0,\"#0d0887\"],[0.1111111111111111,\"#46039f\"],[0.2222222222222222,\"#7201a8\"],[0.3333333333333333,\"#9c179e\"],[0.4444444444444444,\"#bd3786\"],[0.5555555555555556,\"#d8576b\"],[0.6666666666666666,\"#ed7953\"],[0.7777777777777778,\"#fb9f3a\"],[0.8888888888888888,\"#fdca26\"],[1.0,\"#f0f921\"]]}],\"choropleth\":[{\"type\":\"choropleth\",\"colorbar\":{\"outlinewidth\":0,\"ticks\":\"\"}}],\"histogram2d\":[{\"type\":\"histogram2d\",\"colorbar\":{\"outlinewidth\":0,\"ticks\":\"\"},\"colorscale\":[[0.0,\"#0d0887\"],[0.1111111111111111,\"#46039f\"],[0.2222222222222222,\"#7201a8\"],[0.3333333333333333,\"#9c179e\"],[0.4444444444444444,\"#bd3786\"],[0.5555555555555556,\"#d8576b\"],[0.6666666666666666,\"#ed7953\"],[0.7777777777777778,\"#fb9f3a\"],[0.8888888888888888,\"#fdca26\"],[1.0,\"#f0f921\"]]}],\"heatmap\":[{\"type\":\"heatmap\",\"colorbar\":{\"outlinewidth\":0,\"ticks\":\"\"},\"colorscale\":[[0.0,\"#0d0887\"],[0.1111111111111111,\"#46039f\"],[0.2222222222222222,\"#7201a8\"],[0.3333333333333333,\"#9c179e\"],[0.4444444444444444,\"#bd3786\"],[0.5555555555555556,\"#d8576b\"],[0.6666666666666666,\"#ed7953\"],[0.7777777777777778,\"#fb9f3a\"],[0.8888888888888888,\"#fdca26\"],[1.0,\"#f0f921\"]]}],\"heatmapgl\":[{\"type\":\"heatmapgl\",\"colorbar\":{\"outlinewidth\":0,\"ticks\":\"\"},\"colorscale\":[[0.0,\"#0d0887\"],[0.1111111111111111,\"#46039f\"],[0.2222222222222222,\"#7201a8\"],[0.3333333333333333,\"#9c179e\"],[0.4444444444444444,\"#bd3786\"],[0.5555555555555556,\"#d8576b\"],[0.6666666666666666,\"#ed7953\"],[0.7777777777777778,\"#fb9f3a\"],[0.8888888888888888,\"#fdca26\"],[1.0,\"#f0f921\"]]}],\"contourcarpet\":[{\"type\":\"contourcarpet\",\"colorbar\":{\"outlinewidth\":0,\"ticks\":\"\"}}],\"contour\":[{\"type\":\"contour\",\"colorbar\":{\"outlinewidth\":0,\"ticks\":\"\"},\"colorscale\":[[0.0,\"#0d0887\"],[0.1111111111111111,\"#46039f\"],[0.2222222222222222,\"#7201a8\"],[0.3333333333333333,\"#9c179e\"],[0.4444444444444444,\"#bd3786\"],[0.5555555555555556,\"#d8576b\"],[0.6666666666666666,\"#ed7953\"],[0.7777777777777778,\"#fb9f3a\"],[0.8888888888888888,\"#fdca26\"],[1.0,\"#f0f921\"]]}],\"surface\":[{\"type\":\"surface\",\"colorbar\":{\"outlinewidth\":0,\"ticks\":\"\"},\"colorscale\":[[0.0,\"#0d0887\"],[0.1111111111111111,\"#46039f\"],[0.2222222222222222,\"#7201a8\"],[0.3333333333333333,\"#9c179e\"],[0.4444444444444444,\"#bd3786\"],[0.5555555555555556,\"#d8576b\"],[0.6666666666666666,\"#ed7953\"],[0.7777777777777778,\"#fb9f3a\"],[0.8888888888888888,\"#fdca26\"],[1.0,\"#f0f921\"]]}],\"mesh3d\":[{\"type\":\"mesh3d\",\"colorbar\":{\"outlinewidth\":0,\"ticks\":\"\"}}],\"scatter\":[{\"fillpattern\":{\"fillmode\":\"overlay\",\"size\":10,\"solidity\":0.2},\"type\":\"scatter\"}],\"parcoords\":[{\"type\":\"parcoords\",\"line\":{\"colorbar\":{\"outlinewidth\":0,\"ticks\":\"\"}}}],\"scatterpolargl\":[{\"type\":\"scatterpolargl\",\"marker\":{\"colorbar\":{\"outlinewidth\":0,\"ticks\":\"\"}}}],\"bar\":[{\"error_x\":{\"color\":\"#2a3f5f\"},\"error_y\":{\"color\":\"#2a3f5f\"},\"marker\":{\"line\":{\"color\":\"#E5ECF6\",\"width\":0.5},\"pattern\":{\"fillmode\":\"overlay\",\"size\":10,\"solidity\":0.2}},\"type\":\"bar\"}],\"scattergeo\":[{\"type\":\"scattergeo\",\"marker\":{\"colorbar\":{\"outlinewidth\":0,\"ticks\":\"\"}}}],\"scatterpolar\":[{\"type\":\"scatterpolar\",\"marker\":{\"colorbar\":{\"outlinewidth\":0,\"ticks\":\"\"}}}],\"histogram\":[{\"marker\":{\"pattern\":{\"fillmode\":\"overlay\",\"size\":10,\"solidity\":0.2}},\"type\":\"histogram\"}],\"scattergl\":[{\"type\":\"scattergl\",\"marker\":{\"colorbar\":{\"outlinewidth\":0,\"ticks\":\"\"}}}],\"scatter3d\":[{\"type\":\"scatter3d\",\"line\":{\"colorbar\":{\"outlinewidth\":0,\"ticks\":\"\"}},\"marker\":{\"colorbar\":{\"outlinewidth\":0,\"ticks\":\"\"}}}],\"scattermapbox\":[{\"type\":\"scattermapbox\",\"marker\":{\"colorbar\":{\"outlinewidth\":0,\"ticks\":\"\"}}}],\"scatterternary\":[{\"type\":\"scatterternary\",\"marker\":{\"colorbar\":{\"outlinewidth\":0,\"ticks\":\"\"}}}],\"scattercarpet\":[{\"type\":\"scattercarpet\",\"marker\":{\"colorbar\":{\"outlinewidth\":0,\"ticks\":\"\"}}}],\"carpet\":[{\"aaxis\":{\"endlinecolor\":\"#2a3f5f\",\"gridcolor\":\"white\",\"linecolor\":\"white\",\"minorgridcolor\":\"white\",\"startlinecolor\":\"#2a3f5f\"},\"baxis\":{\"endlinecolor\":\"#2a3f5f\",\"gridcolor\":\"white\",\"linecolor\":\"white\",\"minorgridcolor\":\"white\",\"startlinecolor\":\"#2a3f5f\"},\"type\":\"carpet\"}],\"table\":[{\"cells\":{\"fill\":{\"color\":\"#EBF0F8\"},\"line\":{\"color\":\"white\"}},\"header\":{\"fill\":{\"color\":\"#C8D4E3\"},\"line\":{\"color\":\"white\"}},\"type\":\"table\"}],\"barpolar\":[{\"marker\":{\"line\":{\"color\":\"#E5ECF6\",\"width\":0.5},\"pattern\":{\"fillmode\":\"overlay\",\"size\":10,\"solidity\":0.2}},\"type\":\"barpolar\"}],\"pie\":[{\"automargin\":true,\"type\":\"pie\"}]},\"layout\":{\"autotypenumbers\":\"strict\",\"colorway\":[\"#636efa\",\"#EF553B\",\"#00cc96\",\"#ab63fa\",\"#FFA15A\",\"#19d3f3\",\"#FF6692\",\"#B6E880\",\"#FF97FF\",\"#FECB52\"],\"font\":{\"color\":\"#2a3f5f\"},\"hovermode\":\"closest\",\"hoverlabel\":{\"align\":\"left\"},\"paper_bgcolor\":\"white\",\"plot_bgcolor\":\"#E5ECF6\",\"polar\":{\"bgcolor\":\"#E5ECF6\",\"angularaxis\":{\"gridcolor\":\"white\",\"linecolor\":\"white\",\"ticks\":\"\"},\"radialaxis\":{\"gridcolor\":\"white\",\"linecolor\":\"white\",\"ticks\":\"\"}},\"ternary\":{\"bgcolor\":\"#E5ECF6\",\"aaxis\":{\"gridcolor\":\"white\",\"linecolor\":\"white\",\"ticks\":\"\"},\"baxis\":{\"gridcolor\":\"white\",\"linecolor\":\"white\",\"ticks\":\"\"},\"caxis\":{\"gridcolor\":\"white\",\"linecolor\":\"white\",\"ticks\":\"\"}},\"coloraxis\":{\"colorbar\":{\"outlinewidth\":0,\"ticks\":\"\"}},\"colorscale\":{\"sequential\":[[0.0,\"#0d0887\"],[0.1111111111111111,\"#46039f\"],[0.2222222222222222,\"#7201a8\"],[0.3333333333333333,\"#9c179e\"],[0.4444444444444444,\"#bd3786\"],[0.5555555555555556,\"#d8576b\"],[0.6666666666666666,\"#ed7953\"],[0.7777777777777778,\"#fb9f3a\"],[0.8888888888888888,\"#fdca26\"],[1.0,\"#f0f921\"]],\"sequentialminus\":[[0.0,\"#0d0887\"],[0.1111111111111111,\"#46039f\"],[0.2222222222222222,\"#7201a8\"],[0.3333333333333333,\"#9c179e\"],[0.4444444444444444,\"#bd3786\"],[0.5555555555555556,\"#d8576b\"],[0.6666666666666666,\"#ed7953\"],[0.7777777777777778,\"#fb9f3a\"],[0.8888888888888888,\"#fdca26\"],[1.0,\"#f0f921\"]],\"diverging\":[[0,\"#8e0152\"],[0.1,\"#c51b7d\"],[0.2,\"#de77ae\"],[0.3,\"#f1b6da\"],[0.4,\"#fde0ef\"],[0.5,\"#f7f7f7\"],[0.6,\"#e6f5d0\"],[0.7,\"#b8e186\"],[0.8,\"#7fbc41\"],[0.9,\"#4d9221\"],[1,\"#276419\"]]},\"xaxis\":{\"gridcolor\":\"white\",\"linecolor\":\"white\",\"ticks\":\"\",\"title\":{\"standoff\":15},\"zerolinecolor\":\"white\",\"automargin\":true,\"zerolinewidth\":2},\"yaxis\":{\"gridcolor\":\"white\",\"linecolor\":\"white\",\"ticks\":\"\",\"title\":{\"standoff\":15},\"zerolinecolor\":\"white\",\"automargin\":true,\"zerolinewidth\":2},\"scene\":{\"xaxis\":{\"backgroundcolor\":\"#E5ECF6\",\"gridcolor\":\"white\",\"linecolor\":\"white\",\"showbackground\":true,\"ticks\":\"\",\"zerolinecolor\":\"white\",\"gridwidth\":2},\"yaxis\":{\"backgroundcolor\":\"#E5ECF6\",\"gridcolor\":\"white\",\"linecolor\":\"white\",\"showbackground\":true,\"ticks\":\"\",\"zerolinecolor\":\"white\",\"gridwidth\":2},\"zaxis\":{\"backgroundcolor\":\"#E5ECF6\",\"gridcolor\":\"white\",\"linecolor\":\"white\",\"showbackground\":true,\"ticks\":\"\",\"zerolinecolor\":\"white\",\"gridwidth\":2}},\"shapedefaults\":{\"line\":{\"color\":\"#2a3f5f\"}},\"annotationdefaults\":{\"arrowcolor\":\"#2a3f5f\",\"arrowhead\":0,\"arrowwidth\":1},\"geo\":{\"bgcolor\":\"white\",\"landcolor\":\"#E5ECF6\",\"subunitcolor\":\"white\",\"showland\":true,\"showlakes\":true,\"lakecolor\":\"white\"},\"title\":{\"x\":0.05},\"mapbox\":{\"style\":\"light\"}}}},                        {\"responsive\": true}                    ).then(function(){\n",
       "                            \n",
       "var gd = document.getElementById('439806e7-6f95-41d8-8119-bce145418d98');\n",
       "var x = new MutationObserver(function (mutations, observer) {{\n",
       "        var display = window.getComputedStyle(gd).display;\n",
       "        if (!display || display === 'none') {{\n",
       "            console.log([gd, 'removed!']);\n",
       "            Plotly.purge(gd);\n",
       "            observer.disconnect();\n",
       "        }}\n",
       "}});\n",
       "\n",
       "// Listen for the removal of the full notebook cells\n",
       "var notebookContainer = gd.closest('#notebook-container');\n",
       "if (notebookContainer) {{\n",
       "    x.observe(notebookContainer, {childList: true});\n",
       "}}\n",
       "\n",
       "// Listen for the clearing of the current output cell\n",
       "var outputEl = gd.closest('.output');\n",
       "if (outputEl) {{\n",
       "    x.observe(outputEl, {childList: true});\n",
       "}}\n",
       "\n",
       "                        })                };                });            </script>        </div>"
      ]
     },
     "metadata": {},
     "output_type": "display_data"
    }
   ],
   "source": [
    "P = len(target)\n",
    "N = len(non_target)\n",
    "\n",
    "layout = go.Layout(\n",
    "    title='Balanced data'\n",
    ")\n",
    "def plot_pie_chart(labels, values):\n",
    "    fig = go.Figure(data=[go.Pie(labels=labels, values=values)],layout=layout)\n",
    "    fig.show()\n",
    "\n",
    "labels = ['positive', 'Negative']\n",
    "values = [P,N]\n",
    "plot_pie_chart(labels, values)\n"
   ]
  },
  {
   "cell_type": "code",
   "execution_count": 16,
   "id": "82ab24c0",
   "metadata": {
    "execution": {
     "iopub.execute_input": "2023-10-16T10:56:07.194062Z",
     "iopub.status.busy": "2023-10-16T10:56:07.193517Z",
     "iopub.status.idle": "2023-10-16T10:56:08.856416Z",
     "shell.execute_reply": "2023-10-16T10:56:08.855475Z"
    },
    "papermill": {
     "duration": 1.674234,
     "end_time": "2023-10-16T10:56:08.858412",
     "exception": false,
     "start_time": "2023-10-16T10:56:07.184178",
     "status": "completed"
    },
    "tags": []
   },
   "outputs": [
    {
     "data": {
      "text/plain": [
       "((103830, 40, 40, 3), (103830,))"
      ]
     },
     "execution_count": 16,
     "metadata": {},
     "output_type": "execute_result"
    }
   ],
   "source": [
    "X = np.array(list(target)+list(non_target))\n",
    "y = np.array([1]*len(target)+[0]*len(list(non_target)))\n",
    "\n",
    "X.shape,y.shape"
   ]
  },
  {
   "cell_type": "markdown",
   "id": "a5a94f05",
   "metadata": {
    "papermill": {
     "duration": 0.008644,
     "end_time": "2023-10-16T10:56:08.876339",
     "exception": false,
     "start_time": "2023-10-16T10:56:08.867695",
     "status": "completed"
    },
    "tags": []
   },
   "source": [
    "<div>\n",
    "  <h2 style=\"font-size: 24px; color: #F1A424; text-align: center;\">Splitting Images into training and testing</h2>\n",
    "</div>"
   ]
  },
  {
   "cell_type": "code",
   "execution_count": 17,
   "id": "5e54e9af",
   "metadata": {
    "execution": {
     "iopub.execute_input": "2023-10-16T10:56:08.895520Z",
     "iopub.status.busy": "2023-10-16T10:56:08.895193Z",
     "iopub.status.idle": "2023-10-16T10:56:10.605201Z",
     "shell.execute_reply": "2023-10-16T10:56:10.604362Z"
    },
    "papermill": {
     "duration": 1.721846,
     "end_time": "2023-10-16T10:56:10.607025",
     "exception": false,
     "start_time": "2023-10-16T10:56:08.885179",
     "status": "completed"
    },
    "tags": []
   },
   "outputs": [
    {
     "data": {
      "text/plain": [
       "((77872, 40, 40, 3), (25958, 40, 40, 3), (77872,), (25958,))"
      ]
     },
     "execution_count": 17,
     "metadata": {},
     "output_type": "execute_result"
    }
   ],
   "source": [
    "from sklearn.model_selection import train_test_split\n",
    "X_train,X_test,y_train,y_test = train_test_split(X,y,stratify=y)\n",
    "X_train.shape,X_test.shape,y_train.shape,y_test.shape"
   ]
  },
  {
   "cell_type": "markdown",
   "id": "a3cd37d1",
   "metadata": {
    "papermill": {
     "duration": 0.008918,
     "end_time": "2023-10-16T10:56:10.625735",
     "exception": false,
     "start_time": "2023-10-16T10:56:10.616817",
     "status": "completed"
    },
    "tags": []
   },
   "source": [
    "<div>\n",
    "  <h2 style=\"font-size: 24px; color: #F1A424; text-align: center;\">Building CNN model (Detection)</h2>\n",
    "</div>"
   ]
  },
  {
   "cell_type": "code",
   "execution_count": 18,
   "id": "d8b978f7",
   "metadata": {
    "execution": {
     "iopub.execute_input": "2023-10-16T10:56:10.644725Z",
     "iopub.status.busy": "2023-10-16T10:56:10.644455Z",
     "iopub.status.idle": "2023-10-16T10:56:10.648383Z",
     "shell.execute_reply": "2023-10-16T10:56:10.647539Z"
    },
    "papermill": {
     "duration": 0.015285,
     "end_time": "2023-10-16T10:56:10.649980",
     "exception": false,
     "start_time": "2023-10-16T10:56:10.634695",
     "status": "completed"
    },
    "tags": []
   },
   "outputs": [],
   "source": [
    "import tensorflow as tf\n",
    "from tensorflow import keras"
   ]
  },
  {
   "cell_type": "code",
   "execution_count": 19,
   "id": "3f11423c",
   "metadata": {
    "execution": {
     "iopub.execute_input": "2023-10-16T10:56:10.668886Z",
     "iopub.status.busy": "2023-10-16T10:56:10.668658Z",
     "iopub.status.idle": "2023-10-16T11:03:50.680027Z",
     "shell.execute_reply": "2023-10-16T11:03:50.679300Z"
    },
    "papermill": {
     "duration": 460.022443,
     "end_time": "2023-10-16T11:03:50.681467",
     "exception": false,
     "start_time": "2023-10-16T10:56:10.659024",
     "status": "completed"
    },
    "tags": []
   },
   "outputs": [
    {
     "name": "stdout",
     "output_type": "stream",
     "text": [
      "Epoch 1/6\n",
      "2434/2434 [==============================] - 78s 32ms/step - loss: 0.2817 - accuracy: 0.8812\n",
      "Epoch 2/6\n",
      "2434/2434 [==============================] - 77s 31ms/step - loss: 0.1822 - accuracy: 0.9276\n",
      "Epoch 3/6\n",
      "2434/2434 [==============================] - 75s 31ms/step - loss: 0.1350 - accuracy: 0.9467\n",
      "Epoch 4/6\n",
      "2434/2434 [==============================] - 75s 31ms/step - loss: 0.1056 - accuracy: 0.9583\n",
      "Epoch 5/6\n",
      "2434/2434 [==============================] - 76s 31ms/step - loss: 0.0853 - accuracy: 0.9671\n",
      "Epoch 6/6\n",
      "2434/2434 [==============================] - 75s 31ms/step - loss: 0.0703 - accuracy: 0.9739\n"
     ]
    },
    {
     "data": {
      "text/plain": [
       "<keras.callbacks.History at 0x7d623b627f70>"
      ]
     },
     "execution_count": 19,
     "metadata": {},
     "output_type": "execute_result"
    }
   ],
   "source": [
    "# Define the CNN model\n",
    "model = keras.Sequential()\n",
    "model.add(keras.layers.Conv2D(32, kernel_size=(3, 3), activation='relu', input_shape=(40, 40, 3)))\n",
    "model.add(keras.layers.MaxPooling2D(pool_size=(2, 2)))\n",
    "model.add(keras.layers.Conv2D(64, kernel_size=(3, 3), activation='relu'))\n",
    "model.add(keras.layers.MaxPooling2D(pool_size=(2, 2)))\n",
    "model.add(keras.layers.Flatten())\n",
    "model.add(keras.layers.Dense(64, activation='relu'))\n",
    "model.add(keras.layers.Dense(1, activation='sigmoid'))\n",
    "\n",
    "# Compile the model\n",
    "model.compile(optimizer='adam', loss='binary_crossentropy', metrics=['accuracy'])\n",
    "\n",
    "# Train the model\n",
    "model.fit(X_train, y_train, epochs=6, batch_size=32)"
   ]
  },
  {
   "cell_type": "code",
   "execution_count": 20,
   "id": "ffc14633",
   "metadata": {
    "execution": {
     "iopub.execute_input": "2023-10-16T11:03:51.409183Z",
     "iopub.status.busy": "2023-10-16T11:03:51.408856Z",
     "iopub.status.idle": "2023-10-16T11:03:58.936898Z",
     "shell.execute_reply": "2023-10-16T11:03:58.936168Z"
    },
    "papermill": {
     "duration": 7.919954,
     "end_time": "2023-10-16T11:03:58.938587",
     "exception": false,
     "start_time": "2023-10-16T11:03:51.018633",
     "status": "completed"
    },
    "tags": []
   },
   "outputs": [
    {
     "name": "stdout",
     "output_type": "stream",
     "text": [
      "812/812 [==============================] - 7s 9ms/step - loss: 0.1493 - accuracy: 0.9453\n"
     ]
    },
    {
     "data": {
      "text/plain": [
       "[0.149335116147995, 0.9452577233314514]"
      ]
     },
     "execution_count": 20,
     "metadata": {},
     "output_type": "execute_result"
    }
   ],
   "source": [
    "model.evaluate(X_test,y_test)"
   ]
  },
  {
   "cell_type": "markdown",
   "id": "518dd95e",
   "metadata": {
    "papermill": {
     "duration": 0.346338,
     "end_time": "2023-10-16T11:03:59.665488",
     "exception": false,
     "start_time": "2023-10-16T11:03:59.319150",
     "status": "completed"
    },
    "tags": []
   },
   "source": [
    "<div>\n",
    "  <h2 style=\"font-size: 24px; color: #F1A424; text-align: center;\">Detection Model evaluation</h2>\n",
    "</div>"
   ]
  },
  {
   "cell_type": "markdown",
   "id": "8fa2484a",
   "metadata": {
    "papermill": {
     "duration": 0.341034,
     "end_time": "2023-10-16T11:04:00.408210",
     "exception": false,
     "start_time": "2023-10-16T11:04:00.067176",
     "status": "completed"
    },
    "tags": []
   },
   "source": [
    "<div>\n",
    "  <h2 style=\"font-size: 18px; color: #777; text-align: right; font-style: italic;\">confusion matrix</h2>\n",
    "</div>"
   ]
  },
  {
   "cell_type": "code",
   "execution_count": 21,
   "id": "908a81c8",
   "metadata": {
    "execution": {
     "iopub.execute_input": "2023-10-16T11:04:01.096486Z",
     "iopub.status.busy": "2023-10-16T11:04:01.095602Z",
     "iopub.status.idle": "2023-10-16T11:04:10.615634Z",
     "shell.execute_reply": "2023-10-16T11:04:10.614983Z"
    },
    "papermill": {
     "duration": 9.863207,
     "end_time": "2023-10-16T11:04:10.617488",
     "exception": false,
     "start_time": "2023-10-16T11:04:00.754281",
     "status": "completed"
    },
    "tags": []
   },
   "outputs": [
    {
     "name": "stdout",
     "output_type": "stream",
     "text": [
      "812/812 [==============================] - 8s 9ms/step\n"
     ]
    },
    {
     "data": {
      "text/plain": [
       "array([1, 1, 1, ..., 0, 0, 1])"
      ]
     },
     "execution_count": 21,
     "metadata": {},
     "output_type": "execute_result"
    }
   ],
   "source": [
    "tensors = tf.convert_to_tensor(np.array(X_test))\n",
    "probabilities = model.predict(tensors)\n",
    "threshold = 0.5\n",
    "y_pred = (probabilities > threshold).astype(int)[:,0]\n",
    "y_pred"
   ]
  },
  {
   "cell_type": "code",
   "execution_count": 22,
   "id": "ca1b8dec",
   "metadata": {
    "execution": {
     "iopub.execute_input": "2023-10-16T11:04:11.408380Z",
     "iopub.status.busy": "2023-10-16T11:04:11.407733Z",
     "iopub.status.idle": "2023-10-16T11:04:11.828238Z",
     "shell.execute_reply": "2023-10-16T11:04:11.827381Z"
    },
    "papermill": {
     "duration": 0.797498,
     "end_time": "2023-10-16T11:04:11.830350",
     "exception": false,
     "start_time": "2023-10-16T11:04:11.032852",
     "status": "completed"
    },
    "tags": []
   },
   "outputs": [
    {
     "data": {
      "image/png": "[encoded data removed]",
      "text/plain": [
       "<Figure size 640x480 with 2 Axes>"
      ]
     },
     "metadata": {},
     "output_type": "display_data"
    }
   ],
   "source": [
    "import plotly.graph_objects as go\n",
    "from sklearn.metrics import confusion_matrix,classification_report\n",
    "from seaborn import heatmap as hm\n",
    "\n",
    "cm = confusion_matrix(y_test,y_pred)\n",
    "hm(cm,annot=True,fmt='')\n",
    "plt.xlabel(\"preidcte\")\n",
    "plt.ylabel(\"actual\")\n",
    "plt.show()"
   ]
  },
  {
   "cell_type": "markdown",
   "id": "68ec7ae6",
   "metadata": {
    "papermill": {
     "duration": 0.402878,
     "end_time": "2023-10-16T11:04:12.585240",
     "exception": false,
     "start_time": "2023-10-16T11:04:12.182362",
     "status": "completed"
    },
    "tags": []
   },
   "source": [
    "<div>\n",
    "  <h2 style=\"font-size: 18px; color: #777; text-align: right; font-style: italic;\">classification report</h2>\n",
    "</div>"
   ]
  },
  {
   "cell_type": "code",
   "execution_count": 23,
   "id": "c13e1452",
   "metadata": {
    "execution": {
     "iopub.execute_input": "2023-10-16T11:04:13.298810Z",
     "iopub.status.busy": "2023-10-16T11:04:13.298449Z",
     "iopub.status.idle": "2023-10-16T11:04:13.347580Z",
     "shell.execute_reply": "2023-10-16T11:04:13.346893Z"
    },
    "papermill": {
     "duration": 0.400869,
     "end_time": "2023-10-16T11:04:13.349261",
     "exception": false,
     "start_time": "2023-10-16T11:04:12.948392",
     "status": "completed"
    },
    "tags": []
   },
   "outputs": [
    {
     "name": "stdout",
     "output_type": "stream",
     "text": [
      "              precision    recall  f1-score   support\n",
      "\n",
      "           0       0.98      0.90      0.94     12030\n",
      "           1       0.92      0.98      0.95     13928\n",
      "\n",
      "    accuracy                           0.95     25958\n",
      "   macro avg       0.95      0.94      0.94     25958\n",
      "weighted avg       0.95      0.95      0.95     25958\n",
      "\n"
     ]
    }
   ],
   "source": [
    "cr = classification_report(y_test,y_pred)\n",
    "print(cr)"
   ]
  },
  {
   "cell_type": "markdown",
   "id": "a10c9b8c",
   "metadata": {
    "papermill": {
     "duration": 0.35086,
     "end_time": "2023-10-16T11:04:14.103242",
     "exception": false,
     "start_time": "2023-10-16T11:04:13.752382",
     "status": "completed"
    },
    "tags": []
   },
   "source": [
    "# <div style=\"padding: 30px;color:white;margin:10;font-size:60%;text-align:left;display:fill;border-radius:10px;background-color:#FFFFFF;overflow:hidden;background-color:#3b3745\"><b><span style='color:#F1A424'>2 |</span></b> <b>Butterfly classification</b></div>"
   ]
  },
  {
   "cell_type": "markdown",
   "id": "ca5e7d2a",
   "metadata": {
    "papermill": {
     "duration": 0.348827,
     "end_time": "2023-10-16T11:04:14.807223",
     "exception": false,
     "start_time": "2023-10-16T11:04:14.458396",
     "status": "completed"
    },
    "tags": []
   },
   "source": [
    "<div>\n",
    "  <h2 style=\"font-size: 24px; color: #F1A424; text-align: center;\">Splitting images</h2>\n",
    "</div>"
   ]
  },
  {
   "cell_type": "code",
   "execution_count": 24,
   "id": "33f711fb",
   "metadata": {
    "execution": {
     "iopub.execute_input": "2023-10-16T11:04:15.561996Z",
     "iopub.status.busy": "2023-10-16T11:04:15.561455Z",
     "iopub.status.idle": "2023-10-16T11:04:15.934960Z",
     "shell.execute_reply": "2023-10-16T11:04:15.934310Z"
    },
    "papermill": {
     "duration": 0.726955,
     "end_time": "2023-10-16T11:04:15.936785",
     "exception": false,
     "start_time": "2023-10-16T11:04:15.209830",
     "status": "completed"
    },
    "tags": []
   },
   "outputs": [
    {
     "data": {
      "text/plain": [
       "((4874, 60, 60, 3), (1625, 60, 60, 3), (4874,), (1625,))"
      ]
     },
     "execution_count": 24,
     "metadata": {},
     "output_type": "execute_result"
    }
   ],
   "source": [
    "train_class_np = np.array(train_class)\n",
    "labels_np = np.array(train_labels)\n",
    "\n",
    "X_train,X_test,y_train,y_test = train_test_split(train_class_np,labels_np,stratify=labels_np)\n",
    "X_train.shape,X_test.shape,y_train.shape,y_test.shape"
   ]
  },
  {
   "cell_type": "markdown",
   "id": "3411ea82",
   "metadata": {
    "papermill": {
     "duration": 0.418793,
     "end_time": "2023-10-16T11:04:16.718826",
     "exception": false,
     "start_time": "2023-10-16T11:04:16.300033",
     "status": "completed"
    },
    "tags": []
   },
   "source": [
    "<div>\n",
    "  <h2 style=\"font-size: 24px; color: #F1A424; text-align: center;\">Building model (classification)</h2>\n",
    "</div>"
   ]
  },
  {
   "cell_type": "code",
   "execution_count": 25,
   "id": "23f12b82",
   "metadata": {
    "execution": {
     "iopub.execute_input": "2023-10-16T11:04:17.407069Z",
     "iopub.status.busy": "2023-10-16T11:04:17.406426Z",
     "iopub.status.idle": "2023-10-16T11:05:32.804899Z",
     "shell.execute_reply": "2023-10-16T11:05:32.804300Z"
    },
    "papermill": {
     "duration": 75.743301,
     "end_time": "2023-10-16T11:05:32.807060",
     "exception": false,
     "start_time": "2023-10-16T11:04:17.063759",
     "status": "completed"
    },
    "tags": []
   },
   "outputs": [
    {
     "name": "stdout",
     "output_type": "stream",
     "text": [
      "Epoch 1/6\n",
      "153/153 [==============================] - 15s 96ms/step - loss: 3.9580 - accuracy: 0.0753\n",
      "Epoch 2/6\n",
      "153/153 [==============================] - 12s 79ms/step - loss: 2.5691 - accuracy: 0.3250\n",
      "Epoch 3/6\n",
      "153/153 [==============================] - 12s 78ms/step - loss: 1.8150 - accuracy: 0.4986\n",
      "Epoch 4/6\n",
      "153/153 [==============================] - 12s 77ms/step - loss: 1.3819 - accuracy: 0.6018\n",
      "Epoch 5/6\n",
      "153/153 [==============================] - 12s 80ms/step - loss: 1.0248 - accuracy: 0.7023\n",
      "Epoch 6/6\n",
      "153/153 [==============================] - 12s 75ms/step - loss: 0.7263 - accuracy: 0.8014\n"
     ]
    },
    {
     "data": {
      "text/plain": [
       "<keras.callbacks.History at 0x7d61cd188190>"
      ]
     },
     "execution_count": 25,
     "metadata": {},
     "output_type": "execute_result"
    }
   ],
   "source": [
    "# Define the CNN model\n",
    "model_classification = keras.Sequential()\n",
    "model_classification.add(keras.layers.Conv2D(32, kernel_size=(3, 3), activation='relu', input_shape=(60, 60, 3)))\n",
    "model_classification.add(keras.layers.MaxPooling2D(pool_size=(2, 2)))\n",
    "model_classification.add(keras.layers.Conv2D(64, kernel_size=(3, 3), activation='relu'))\n",
    "model_classification.add(keras.layers.MaxPooling2D(pool_size=(2, 2)))\n",
    "model_classification.add(keras.layers.Flatten())\n",
    "model_classification.add(keras.layers.Dense(64, activation='relu'))\n",
    "model_classification.add(keras.layers.Dense(len(np.unique(labels_np)), activation='softmax'))\n",
    "\n",
    "# Compile the model\n",
    "model_classification.compile(optimizer='adam', loss='sparse_categorical_crossentropy', metrics=['accuracy'])\n",
    "\n",
    "# Train the model\n",
    "model_classification.fit(X_train, y_train, epochs=6, batch_size=32)"
   ]
  },
  {
   "cell_type": "code",
   "execution_count": 26,
   "id": "850154ca",
   "metadata": {
    "execution": {
     "iopub.execute_input": "2023-10-16T11:05:33.658752Z",
     "iopub.status.busy": "2023-10-16T11:05:33.658047Z",
     "iopub.status.idle": "2023-10-16T11:05:34.820571Z",
     "shell.execute_reply": "2023-10-16T11:05:34.819839Z"
    },
    "papermill": {
     "duration": 1.614513,
     "end_time": "2023-10-16T11:05:34.822574",
     "exception": false,
     "start_time": "2023-10-16T11:05:33.208061",
     "status": "completed"
    },
    "tags": []
   },
   "outputs": [
    {
     "name": "stdout",
     "output_type": "stream",
     "text": [
      "51/51 [==============================] - 1s 19ms/step - loss: 2.2957 - accuracy: 0.4671\n"
     ]
    },
    {
     "data": {
      "text/plain": [
       "[2.295729637145996, 0.4670769274234772]"
      ]
     },
     "execution_count": 26,
     "metadata": {},
     "output_type": "execute_result"
    }
   ],
   "source": [
    "model_classification.evaluate(X_test,y_test)"
   ]
  },
  {
   "cell_type": "code",
   "execution_count": 27,
   "id": "df37d7f4",
   "metadata": {
    "execution": {
     "iopub.execute_input": "2023-10-16T11:05:35.637035Z",
     "iopub.status.busy": "2023-10-16T11:05:35.636670Z",
     "iopub.status.idle": "2023-10-16T11:05:37.078290Z",
     "shell.execute_reply": "2023-10-16T11:05:37.077435Z"
    },
    "papermill": {
     "duration": 1.855721,
     "end_time": "2023-10-16T11:05:37.079980",
     "exception": false,
     "start_time": "2023-10-16T11:05:35.224259",
     "status": "completed"
    },
    "tags": []
   },
   "outputs": [
    {
     "name": "stdout",
     "output_type": "stream",
     "text": [
      "51/51 [==============================] - 1s 19ms/step\n",
      "[40, 0, 8, 47, 25, 44, 7, 52, 27, 43, 20, 22, 65, 69, 28, 4, 72, 20, 33, 12, 51, 58, 59, 33, 57, 55, 47, 17, 36, 54, 30, 26, 43, 14, 40, 0, 10, 61, 10, 3, 40, 1, 37, 65, 42, 43, 8, 61, 5, 36, 65, 54, 30, 30, 53, 28, 8, 13, 8, 40, 69, 50, 44, 6, 38, 38, 69, 72, 39, 23, 36, 7, 74, 44, 4, 44, 33, 65, 58, 8, 14, 70, 30, 42, 35, 58, 32, 37, 24, 61, 5, 28, 53, 8, 45, 38, 73, 54, 67, 22, 40, 43, 38, 61, 19, 50, 46, 55, 1, 20, 58, 48, 35, 46, 55, 45, 9, 24, 57, 8, 73, 29, 10, 45, 43, 50, 26, 24, 57, 62, 20, 24, 67, 41, 15, 43, 10, 63, 62, 44, 26, 18, 20, 52, 7, 50, 43, 13, 57, 44, 49, 71, 25, 51, 72, 10, 43, 49, 61, 19, 11, 40, 68, 65, 27, 55, 61, 71, 37, 66, 0, 34, 29, 54, 53, 66, 49, 7, 64, 47, 63, 8, 66, 28, 28, 8, 22, 60, 17, 5, 43, 23, 45, 8, 20, 65, 51, 71, 42, 36, 19, 18, 48, 67, 46, 44, 74, 5, 65, 69, 22, 73, 36, 36, 23, 50, 1, 55, 10, 54, 0, 46, 73, 7, 44, 34, 68, 32, 40, 55, 44, 55, 4, 3, 24, 73, 67, 0, 13, 57, 50, 28, 72, 37, 5, 21, 33, 38, 35, 9, 45, 14, 64, 43, 40, 37, 71, 38, 66, 38, 6, 30, 45, 13, 22, 37, 55, 15, 43, 18, 36, 46, 4, 66, 0, 58, 8, 74, 20, 61, 2, 40, 48, 55, 4, 4, 0, 28, 55, 24, 17, 73, 24, 6, 55, 7, 36, 35, 35, 47, 70, 38, 28, 23, 53, 21, 21, 23, 63, 4, 55, 5, 74, 2, 44, 37, 54, 44, 19, 24, 7, 42, 6, 70, 55, 26, 7, 32, 8, 39, 62, 74, 55, 60, 44, 1, 20, 44, 8, 70, 48, 54, 10, 29, 32, 47, 19, 17, 71, 17, 51, 72, 67, 38, 8, 63, 36, 43, 15, 65, 28, 56, 0, 5, 13, 6, 53, 45, 66, 23, 44, 44, 53, 4, 70, 63, 0, 72, 38, 5, 34, 28, 34, 35, 2, 6, 65, 12, 8, 16, 42, 56, 50, 42, 49, 0, 46, 54, 53, 66, 36, 45, 32, 27, 43, 13, 26, 5, 71, 5, 12, 61, 66, 38, 0, 54, 54, 50, 44, 47, 7, 61, 33, 23, 51, 28, 24, 40, 54, 5, 37, 53, 36, 74, 49, 73, 23, 73, 23, 32, 39, 21, 45, 5, 46, 50, 26, 6, 42, 54, 19, 33, 43, 34, 47, 67, 5, 8, 44, 7, 5, 13, 24, 4, 3, 61, 45, 61, 64, 55, 13, 28, 5, 63, 62, 45, 33, 29, 37, 42, 24, 0, 69, 0, 28, 23, 70, 62, 8, 57, 36, 73, 27, 64, 71, 10, 31, 66, 8, 64, 69, 31, 22, 13, 57, 74, 51, 13, 53, 54, 68, 22, 10, 33, 23, 19, 39, 32, 39, 53, 62, 47, 25, 8, 38, 40, 38, 43, 9, 55, 18, 28, 54, 6, 65, 9, 45, 43, 5, 29, 69, 16, 45, 63, 1, 31, 3, 17, 4, 22, 40, 35, 14, 15, 7, 5, 28, 30, 45, 57, 27, 37, 72, 44, 38, 58, 44, 33, 44, 45, 18, 55, 26, 66, 0, 49, 43, 61, 48, 74, 10, 44, 30, 66, 65, 29, 13, 22, 21, 0, 60, 51, 29, 70, 46, 9, 8, 14, 12, 20, 61, 11, 22, 15, 47, 44, 29, 12, 14, 61, 20, 46, 26, 0, 49, 46, 21, 9, 5, 13, 21, 12, 12, 65, 40, 54, 51, 45, 66, 34, 8, 59, 70, 17, 14, 34, 1, 40, 9, 42, 8, 1, 51, 63, 63, 20, 37, 67, 31, 40, 66, 29, 36, 58, 64, 46, 54, 20, 55, 9, 10, 44, 66, 8, 21, 8, 63, 35, 7, 42, 51, 46, 8, 3, 56, 35, 29, 10, 43, 71, 13, 58, 45, 65, 34, 3, 51, 73, 36, 33, 9, 15, 74, 38, 34, 46, 17, 28, 8, 15, 55, 32, 22, 66, 23, 73, 20, 6, 55, 61, 55, 34, 26, 0, 35, 8, 16, 23, 27, 36, 34, 55, 8, 70, 50, 65, 54, 34, 10, 9, 38, 73, 38, 17, 32, 0, 69, 46, 19, 14, 18, 17, 66, 6, 71, 10, 14, 3, 2, 43, 54, 44, 14, 36, 24, 8, 4, 18, 19, 72, 72, 74, 70, 36, 63, 13, 22, 27, 57, 68, 5, 50, 31, 64, 6, 31, 24, 55, 12, 13, 53, 39, 55, 20, 38, 44, 71, 1, 35, 36, 68, 55, 35, 44, 24, 62, 8, 6, 44, 30, 36, 34, 1, 6, 63, 40, 53, 1, 59, 0, 23, 58, 24, 8, 54, 15, 45, 18, 38, 61, 5, 28, 5, 8, 46, 38, 44, 21, 57, 12, 34, 58, 54, 8, 69, 34, 14, 3, 6, 12, 45, 0, 32, 42, 55, 50, 8, 22, 8, 40, 8, 50, 55, 8, 15, 29, 32, 4, 55, 37, 17, 54, 46, 32, 14, 8, 40, 23, 23, 29, 44, 0, 40, 51, 47, 61, 44, 16, 53, 50, 45, 57, 19, 46, 3, 0, 28, 22, 6, 44, 29, 57, 53, 33, 46, 38, 48, 29, 42, 59, 49, 46, 43, 43, 73, 55, 34, 40, 42, 1, 50, 15, 54, 12, 71, 63, 4, 67, 13, 61, 38, 15, 50, 8, 14, 0, 13, 67, 13, 35, 8, 58, 34, 24, 44, 74, 70, 33, 50, 13, 39, 61, 14, 15, 17, 54, 40, 42, 46, 23, 65, 7, 4, 5, 63, 53, 8, 61, 37, 54, 47, 51, 40, 8, 35, 18, 69, 67, 5, 7, 24, 58, 0, 71, 71, 15, 62, 14, 10, 40, 49, 64, 61, 70, 45, 20, 1, 32, 44, 25, 27, 34, 3, 10, 62, 57, 32, 20, 8, 3, 39, 42, 28, 57, 8, 10, 32, 45, 12, 32, 51, 10, 0, 4, 5, 36, 45, 66, 18, 8, 6, 9, 64, 18, 10, 54, 34, 37, 70, 10, 40, 13, 45, 15, 50, 65, 42, 42, 13, 37, 45, 14, 52, 24, 20, 29, 56, 53, 13, 66, 53, 31, 65, 50, 73, 56, 58, 54, 57, 51, 45, 55, 57, 20, 37, 15, 12, 36, 20, 50, 3, 29, 18, 50, 36, 14, 57, 8, 6, 12, 61, 66, 30, 35, 57, 34, 8, 18, 72, 25, 20, 61, 70, 13, 33, 11, 44, 69, 49, 20, 20, 32, 14, 50, 3, 74, 34, 31, 28, 8, 38, 57, 32, 61, 72, 21, 73, 49, 63, 63, 19, 65, 8, 50, 23, 51, 0, 50, 30, 10, 55, 37, 11, 31, 33, 40, 67, 45, 17, 61, 5, 8, 45, 25, 39, 55, 23, 42, 63, 64, 8, 62, 59, 20, 54, 64, 23, 70, 61, 62, 8, 47, 15, 57, 70, 12, 44, 6, 40, 57, 28, 65, 72, 50, 31, 19, 65, 10, 8, 40, 50, 12, 0, 5, 62, 73, 13, 50, 4, 40, 8, 35, 18, 8, 5, 61, 28, 73, 36, 49, 69, 57, 60, 22, 47, 21, 36, 14, 69, 22, 57, 1, 57, 62, 45, 51, 54, 0, 43, 8, 1, 13, 32, 43, 28, 33, 13, 48, 45, 58, 14, 13, 49, 29, 34, 8, 7, 59, 34, 12, 24, 37, 6, 44, 40, 74, 34, 28, 58, 70, 69, 43, 16, 31, 42, 5, 33, 55, 34, 23, 26, 2, 45, 20, 29, 47, 37, 18, 38, 74, 54, 33, 2, 47, 21, 19, 73, 14, 11, 3, 3, 44, 13, 63, 13, 73, 55, 45, 70, 25, 17, 25, 74, 70, 38, 63, 70, 29, 43, 55, 24, 36, 68, 36, 7, 12, 57, 66, 20, 17, 65, 69, 30, 1, 5, 57, 15, 13, 33, 60, 45, 44, 6, 64, 36, 50, 62, 57, 45, 62, 45, 71, 35, 45, 12, 65, 40, 33, 48, 37, 19, 57, 72, 70, 61, 15, 49, 8, 9, 10, 62, 27, 43, 0, 2, 5, 42, 46, 12, 1, 25, 13, 0, 49, 63, 12, 68, 58, 54, 67, 54, 44, 37, 29, 67, 16, 13, 32, 72, 17, 33, 34, 60, 37, 45, 22, 21, 58, 38, 6, 18, 14, 67, 14, 70, 20, 55, 51, 15, 5, 4, 28, 25, 51, 27, 50, 33, 13, 54, 72, 7, 44, 46, 8, 20, 13, 38, 40, 55, 0, 68, 8, 63, 64, 73, 21, 24, 28, 5, 21, 37, 32, 71, 55, 55, 53, 44, 11, 63, 74, 64, 35, 71, 44, 73, 7, 49, 62, 24, 10, 7, 61, 36, 66, 52, 24, 65, 51, 0, 42, 18, 63, 43, 55, 67, 54, 50, 68, 74, 64, 7, 26, 37, 50, 35, 70, 7, 8, 53, 9, 1, 57, 53, 37, 4, 45, 63, 53, 0, 46, 45, 65, 74, 44, 21, 34, 67, 5, 11, 12, 11, 47, 59, 21, 65, 60, 64, 17, 66, 70, 49, 29, 24, 22, 12, 38, 42, 32, 40, 55, 20, 27, 55, 65, 35, 54, 35, 45, 22, 29, 34, 36, 40, 35, 70, 47, 62, 61, 47, 66, 23, 43, 1, 9, 46, 39, 8, 43, 18, 20, 18, 62, 29, 73, 63, 73, 51, 72, 66, 18, 63, 55, 32, 5, 4, 70, 55, 53, 72, 36, 69, 44, 29, 61, 11, 23, 50, 5, 61, 22, 17, 66, 14, 51, 23, 44, 36, 34, 55, 63, 44, 72, 8, 2, 74, 42, 44, 9, 43, 23, 63, 11, 18, 74, 63, 1, 35, 57, 65, 23, 33, 20, 9, 8, 32, 61, 0, 18, 37, 44, 32, 5, 8, 38, 16]\n"
     ]
    }
   ],
   "source": [
    "probabilities = model_classification.predict(np.array(X_test))\n",
    "y_pred = [np.argmax(img) for img in probabilities]\n",
    "print(y_pred)"
   ]
  },
  {
   "cell_type": "code",
   "execution_count": 28,
   "id": "9798979a",
   "metadata": {
    "execution": {
     "iopub.execute_input": "2023-10-16T11:05:37.950720Z",
     "iopub.status.busy": "2023-10-16T11:05:37.950239Z",
     "iopub.status.idle": "2023-10-16T11:05:38.013910Z",
     "shell.execute_reply": "2023-10-16T11:05:38.012854Z"
    },
    "papermill": {
     "duration": 0.471502,
     "end_time": "2023-10-16T11:05:38.015780",
     "exception": false,
     "start_time": "2023-10-16T11:05:37.544278",
     "status": "completed"
    },
    "tags": []
   },
   "outputs": [
    {
     "name": "stdout",
     "output_type": "stream",
     "text": [
      "1/1 [==============================] - 0s 19ms/step\n"
     ]
    },
    {
     "data": {
      "text/plain": [
       "array([[1.7765606e-02, 7.8495168e-07, 3.5439237e-04, 8.2361765e-07,\n",
       "        6.0688570e-02, 2.3918644e-06, 2.2353481e-09, 6.4119253e-05,\n",
       "        3.7245598e-01, 1.4223799e-07, 1.5624137e-04, 7.3149390e-06,\n",
       "        2.1091871e-06, 2.0291081e-01, 7.0481479e-07, 1.6161759e-07,\n",
       "        4.6899466e-05, 8.2733069e-04, 9.3107827e-02, 4.3761011e-06,\n",
       "        1.0675760e-03, 3.0379754e-04, 1.3971926e-02, 3.0570773e-06,\n",
       "        1.4395702e-06, 1.3103456e-05, 7.0146133e-09, 5.3572366e-03,\n",
       "        6.1347375e-05, 9.2275557e-05, 1.6016686e-05, 1.9934723e-05,\n",
       "        2.0848461e-04, 4.3444857e-06, 8.3591631e-03, 2.1903418e-06,\n",
       "        1.4799049e-05, 3.7957253e-08, 4.8905823e-02, 4.3468168e-05,\n",
       "        3.1817388e-03, 1.3032624e-03, 2.6756770e-04, 1.9417728e-07,\n",
       "        5.8668679e-09, 3.0513913e-06, 1.9803157e-03, 1.2949680e-01,\n",
       "        6.0926641e-07, 6.7194344e-07, 1.0211670e-05, 1.8129995e-07,\n",
       "        3.2523364e-02, 4.8592033e-06, 6.3662060e-06, 2.0947251e-03,\n",
       "        1.1907683e-04, 6.1716594e-07, 4.7218096e-09, 7.6847509e-06,\n",
       "        6.9767819e-10, 6.2723833e-05, 1.0662787e-03, 3.0812993e-07,\n",
       "        2.4563857e-08, 1.5554174e-06, 5.7291782e-06, 8.5278813e-08,\n",
       "        2.0181444e-05, 6.0092227e-04, 1.6211268e-05, 2.2183035e-09,\n",
       "        3.7938985e-04, 2.6978046e-06, 2.4654248e-09]], dtype=float32)"
      ]
     },
     "execution_count": 28,
     "metadata": {},
     "output_type": "execute_result"
    }
   ],
   "source": [
    "probabilities = model_classification.predict(np.array([X_test[2]]))\n",
    "probabilities"
   ]
  },
  {
   "cell_type": "markdown",
   "id": "c8f96c13",
   "metadata": {
    "papermill": {
     "duration": 0.408262,
     "end_time": "2023-10-16T11:05:38.832914",
     "exception": false,
     "start_time": "2023-10-16T11:05:38.424652",
     "status": "completed"
    },
    "tags": []
   },
   "source": [
    "# <div style=\"padding: 30px;color:white;margin:10;font-size:60%;text-align:left;display:fill;border-radius:10px;background-color:#FFFFFF;overflow:hidden;background-color:#3b3745\"><b><span style='color:#F1A424'>3 |</span></b> <b>Conclusion</b></div>\n",
    "\n",
    "In this Kaggle notebook, we have walked through the process of building a Convolutional Neural Network (CNN) model for butterfly image detection and classification. The main purpose of this notebook was to teach new coders how to perform image processing and train a deep neural network.\n",
    "\n",
    "Here's a summary of the steps we covered:\n",
    "\n",
    "### Data Processing\n",
    "We began by preprocessing the butterfly image dataset, which involved resizing the images, normalizing pixel values, and splitting the data into training and testing sets. These steps ensured that the data was properly prepared for training the CNN model.\n",
    "\n",
    "### Image Processing and Augmentation\n",
    "To enhance the model's performance and address the issue of limited training data, we applied image processing techniques such as rotation, flipping, and zooming. Data augmentation increased the diversity of the training set and improved the model's ability to generalize to new, unseen butterfly images.\n",
    "\n",
    "### Building the CNN Model\n",
    "We then constructed a CNN model architecture using popular deep learning frameworks such as TensorFlow or PyTorch.\n",
    "\n",
    "### Model Evaluation and Visualization\n",
    "After training the model, we evaluated its performance using metrics such as accuracy, precision, recall, and F1 score. We also visualized the model's predictions on test images to gain insights into its capabilities and potential areas for improvement.\n",
    "\n",
    "Overall, this notebook provided a step-by-step guide on image processing and training a CNN model for butterfly detection and classification. By following the provided code and explanations, new coders can gain hands-on experience in working with image data and deep neural networks, helping them to develop their skills in the exciting field of computer vision."
   ]
  },
  {
   "cell_type": "code",
   "execution_count": null,
   "id": "25db1d59",
   "metadata": {
    "papermill": {
     "duration": 0.398449,
     "end_time": "2023-10-16T11:05:39.715648",
     "exception": false,
     "start_time": "2023-10-16T11:05:39.317199",
     "status": "completed"
    },
    "tags": []
   },
   "outputs": [],
   "source": []
  }
 ],
 "metadata": {
  "kernelspec": {
   "display_name": "Python 3",
   "language": "python",
   "name": "python3"
  },
  "language_info": {
   "codemirror_mode": {
    "name": "ipython",
    "version": 3
   },
   "file_extension": ".py",
   "mimetype": "text/x-python",
   "name": "python",
   "nbconvert_exporter": "python",
   "pygments_lexer": "ipython3",
   "version": "3.10.10"
  },
  "papermill": {
   "default_parameters": {},
   "duration": 761.225832,
   "end_time": "2023-10-16T11:05:43.186814",
   "environment_variables": {},
   "exception": null,
   "input_path": "__notebook__.ipynb",
   "output_path": "__notebook__.ipynb",
   "parameters": {},
   "start_time": "2023-10-16T10:53:01.960982",
   "version": "2.4.0"
  }
 },
 "nbformat": 4,
 "nbformat_minor": 5
}
