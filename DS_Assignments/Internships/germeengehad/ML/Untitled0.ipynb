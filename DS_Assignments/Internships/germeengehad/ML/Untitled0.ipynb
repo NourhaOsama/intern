{
 "cells": [
  {
   "cell_type": "code",
   "execution_count": 3,
   "metadata": {
    "colab": {
     "base_uri": "https://localhost:8080/"
    },
    "id": "zm9bYy2_Rgk4",
    "outputId": "7ac43c4e-18a1-413a-e3c9-1bfe28301fff"
   },
   "outputs": [
    {
     "name": "stdout",
     "output_type": "stream",
     "text": [
      "[12. 14. 16.]\n"
     ]
    }
   ],
   "source": [
    "from sklearn.linear_model import LinearRegression\n",
    "import numpy as np\n",
    "\n",
    "\n",
    "x=np.array([[1],[2],[3],[4],[5]])\n",
    "y=np.array([2,4,6,8,10])\n",
    "\n",
    "model=LinearRegression()\n",
    "model.fit(x,y)\n",
    "\n",
    "x_new=np.array([[6],[7],[8]])\n",
    "y_pred=model.predict(x_new)\n",
    "print(y_pred)\n",
    "\n"
   ]
  },
  {
   "cell_type": "code",
   "execution_count": 4,
   "metadata": {
    "colab": {
     "base_uri": "https://localhost:8080/"
    },
    "id": "moMhYJIQXLVz",
    "outputId": "f319d2c8-c023-439b-96da-52b25043b2af"
   },
   "outputs": [
    {
     "name": "stdout",
     "output_type": "stream",
     "text": [
      "The predicted value for x=6 is y=5.8\n"
     ]
    }
   ],
   "source": [
    "X = [1, 2, 3, 4, 5]\n",
    "y = [2, 4, 5, 4, 5]\n",
    "\n",
    "\n",
    "mean_X = sum(X) / len(X)\n",
    "mean_y = sum(y) / len(y)\n",
    "\n",
    "\n",
    "\n",
    "m = sum((X[i] - mean_X) * (y[i] - mean_y) for i in range(len(X))) / sum((X[i] - mean_X)**2 for i in range(len(X)))\n",
    "c = mean_y - m * mean_X\n",
    "\n",
    "\n",
    "def predict(x):\n",
    "    return m * x + c\n",
    "\n",
    "\n",
    "x_test = 6\n",
    "y_pred = predict(x_test)\n",
    "print(f\"The predicted value for x={x_test} is y={y_pred}\")"
   ]
  },
  {
   "cell_type": "code",
   "execution_count": 8,
   "metadata": {
    "colab": {
     "base_uri": "https://localhost:8080/"
    },
    "id": "VPpRZB5lr__5",
    "outputId": "3a7c0d76-8c7a-424d-8154-ea5212c59584"
   },
   "outputs": [
    {
     "name": "stdout",
     "output_type": "stream",
     "text": [
      "RSS: 0.43000000000000055\n"
     ]
    }
   ],
   "source": [
    "y_actual = [2, 4, 6, 8, 10]\n",
    "y_predicted = [1.5, 4.2, 5.8, 7.9, 9.7]\n",
    "\n",
    "residuals = [y_actual[i] - y_predicted[i] for i in range(len(y_actual))]\n",
    "rss = sum([residual ** 2 for residual in residuals])\n",
    "\n",
    "print('RSS:', rss)"
   ]
  },
  {
   "cell_type": "code",
   "execution_count": 9,
   "metadata": {
    "colab": {
     "base_uri": "https://localhost:8080/"
    },
    "id": "pJ96S6qCwE_F",
    "outputId": "e1f6dfa7-4d6e-47d1-a6c7-483fe94c1245"
   },
   "outputs": [
    {
     "name": "stdout",
     "output_type": "stream",
     "text": [
      "RSS: 0.43000000000000055\n"
     ]
    }
   ],
   "source": [
    "import numpy as np\n",
    "\n",
    "y_actual = np.array([2, 4, 6, 8, 10])\n",
    "y_predicted = np.array([1.5, 4.2, 5.8, 7.9, 9.7])\n",
    "\n",
    "residuals = y_actual - y_predicted\n",
    "rss = np.sum(residuals**2)\n",
    "\n",
    "print('RSS:', rss)"
   ]
  },
  {
   "cell_type": "code",
   "execution_count": 22,
   "metadata": {
    "id": "3hJ6abJeIkDF"
   },
   "outputs": [],
   "source": [
    "y_mean = np.mean(y)"
   ]
  },
  {
   "cell_type": "code",
   "execution_count": 23,
   "metadata": {
    "colab": {
     "base_uri": "https://localhost:8080/"
    },
    "id": "SUhYrATeIDyt",
    "outputId": "81f87b5f-6ea6-482a-a9ab-dac5ea4a0faf"
   },
   "outputs": [
    {
     "name": "stdout",
     "output_type": "stream",
     "text": [
      "0.957\n"
     ]
    }
   ],
   "source": [
    "tss = np.sum((y - y_mean)**2)\n",
    "r_2 = 1 - (rss/tss)\n",
    "print (r_2)"
   ]
  },
  {
   "cell_type": "code",
   "execution_count": null,
   "metadata": {
    "id": "UMjgwF3tQlu0"
   },
   "outputs": [],
   "source": [
    "y_mean=np.mean(y)\n",
    "tss = np.sum((y - y_mean)**2)\n",
    "r_2 = 1 - (rss/tss)\n",
    "print (r_2)"
   ]
  },
  {
   "cell_type": "code",
   "execution_count": 1,
   "metadata": {
    "colab": {
     "base_uri": "https://localhost:8080/",
     "height": 401
    },
    "id": "CLN8eN7K61ox",
    "outputId": "97325d7b-2e13-43c1-d148-950937d2dbb3"
   },
   "outputs": [
    {
     "name": "stdout",
     "output_type": "stream",
     "text": [
      "Coefficients: beta1 = 0.7, beta2 = 0.7, intercept = -0.8999999999999995\n",
      "Prediction for (7, 6): 8.2\n",
      "RSS: 10.0\n",
      "R-squared: 0.0\n"
     ]
    }
   ],
   "source": [
    "import numpy as np\n",
    "\n",
    "X1 = [2, 3, 4, 5, 6]\n",
    "X2 = [1, 2, 3, 4, 5]\n",
    "y = [3, 4, 2, 5, 6]\n",
    "\n",
    "mean_X1 = np.mean(X1)\n",
    "mean_X2 = np.mean(X2)\n",
    "mean_y = np.mean(y)\n",
    "\n",
    "m1 = sum((X1[i] - mean_X1) * (y[i] - mean_y) for i in range(len(X1))) / sum((X1[i] - mean_X1) ** 2 for i in range(len(X1)))\n",
    "m2 = sum((X2[i] - mean_X2) * (y[i] - mean_y) for i in range(len(X2))) / sum((X2[i] - mean_X2) ** 2 for i in range(len(X2)))\n",
    "\n",
    "c = mean_y - m1 * mean_X1 - m2 * mean_X2\n",
    "\n",
    "print(f'Coefficients: beta1 = {m1}, beta2 = {m2}, intercept = {c}')\n",
    "\n",
    "def predict(x1, x2):\n",
    "    return c + m1 * x1 + m2 * x2\n",
    "\n",
    "x1_new = 7\n",
    "x2_new = 6\n",
    "prediction = predict(x1_new, x2_new)\n",
    "print(f'Prediction for ({x1_new}, {x2_new}): {prediction}')\n",
    "\n",
    "residuals = [y[i] - predict(X1[i], X2[i]) for i in range(len(y))]\n",
    "rss = sum(residual ** 2 for residual in residuals)\n",
    "\n",
    "print('RSS:', rss)\n",
    "\n",
    "y_mean = np.mean(y)\n",
    "tss = np.sum((y - y_mean) ** 2)\n",
    "r_squared = 1 - (rss / tss)\n",
    "print('R-squared:', r_squared)"
   ]
  },
  {
   "cell_type": "code",
   "execution_count": 19,
   "metadata": {
    "colab": {
     "base_uri": "https://localhost:8080/"
    },
    "id": "gZ6Y1hZgAMYg",
    "outputId": "338867f4-2e4a-4934-91df-4139ca97002a"
   },
   "outputs": [
    {
     "name": "stdout",
     "output_type": "stream",
     "text": [
      "Coefficients: beta1 = 0.7, beta2 = 0.7, beta3 = 0.7 ,beta4 = 0.7, beta5 = 0.7,intercept = -26.099999999999994\n",
      "Prediction for (7, 6, 8, 9, 3): -2.9999999999999973\n"
     ]
    }
   ],
   "source": [
    "X1 = [2, 3, 4, 5, 6]\n",
    "X2 = [1, 2, 3, 4, 5]\n",
    "X3=  [5 ,6 ,7, 8 ,9]\n",
    "X4=  [10 ,11 ,12 ,13 ,14]\n",
    "X5=  [15 ,16 ,17 ,18 ,19]\n",
    "y =  [3, 4, 2, 5, 6]\n",
    "\n",
    "\n",
    "mean_X1 = sum(X1) / len(X1)\n",
    "mean_X2 = sum(X2) / len(X2)\n",
    "mean_X3 = sum(X3) / len(X3)\n",
    "mean_X4 = sum(X4) / len(X4)\n",
    "mean_X5 = sum(X5) / len(X5)\n",
    "mean_y = sum(y) / len(y)\n",
    "\n",
    "\n",
    "m1 = sum((X1[i] - mean_X1) * (y[i] - mean_y) for i in range(len(X1))) / (sum((X1[i] - mean_X1)**2 for i in range(len(X1))))\n",
    "\n",
    "m2 = sum((X2[i] - mean_X2) * (y[i] - mean_y) for i in range(len(X2))) / (sum((X2[i] - mean_X2)**2 for i in range(len(X2))))\n",
    "\n",
    "m3 = sum((X3[i] - mean_X3) * (y[i] - mean_y) for i in range(len(X3))) / (sum((X3[i] - mean_X3)**2 for i in range(len(X3))))\n",
    "\n",
    "m4 = sum((X4[i] - mean_X4) * (y[i] - mean_y) for i in range(len(X4))) / (sum((X4[i] - mean_X4)**2 for i in range(len(X4))))\n",
    "\n",
    "m5 = sum((X5[i] - mean_X5) * (y[i] - mean_y) for i in range(len(X5))) / (sum((X5[i] - mean_X5)**2 for i in range(len(X5))))\n",
    "\n",
    "\n",
    "\n",
    "c = mean_y - m1 * mean_X1 - m2 * mean_X2 - m3 * mean_X3 - m4 * mean_X4 - m5 * mean_X5\n",
    "\n",
    "print(f'Coefficients: beta1 = {m1}, beta2 = {m2}, beta3 = {m3} ,beta4 = {m4}, beta5 = {m5},intercept = {c}')\n",
    "\n",
    "\n",
    "def predict(x1, x2, x3, x4, x5):\n",
    "    return c + m1* x1 + m2* x2 + m3* x3 + m4* x4+ m5* x5\n",
    "\n",
    "\n",
    "x1_new = 7\n",
    "x2_new = 6\n",
    "x3_new = 8\n",
    "x4_new = 9\n",
    "x5_new = 3\n",
    "\n",
    "prediction = predict(x1_new, x2_new, x3_new, x4_new, x5_new)\n",
    "print(f'Prediction for ({x1_new}, {x2_new}, {x3_new}, {x4_new}, {x5_new}): {prediction}')"
   ]
  },
  {
   "cell_type": "code",
   "execution_count": 12,
   "metadata": {
    "colab": {
     "base_uri": "https://localhost:8080/"
    },
    "id": "8UNcGNCW91xA",
    "outputId": "0c3197c2-5860-4424-81f2-f8e8c50d0feb"
   },
   "outputs": [
    {
     "name": "stdout",
     "output_type": "stream",
     "text": [
      "Coefficients: [0.35 0.35]\n",
      "Intercept: 1.5499999999999998\n",
      "Prediction for [[7 6]]: [6.1]\n"
     ]
    }
   ],
   "source": [
    "from sklearn.linear_model import LinearRegression\n",
    "import numpy as np\n",
    "\n",
    "X = np.array([[2, 1],\n",
    "              [3, 2],\n",
    "              [4, 3],\n",
    "              [5, 4],\n",
    "              [6, 5]])\n",
    "\n",
    "y = np.array([3, 4, 2, 5, 6])\n",
    "\n",
    "\n",
    "model = LinearRegression()\n",
    "model.fit(X, y)\n",
    "\n",
    "\n",
    "print(f'Coefficients: {model.coef_}')\n",
    "print(f'Intercept: {model.intercept_}')\n",
    "\n",
    "\n",
    "new_data = np.array([[7, 6]])\n",
    "prediction = model.predict(new_data)\n",
    "\n",
    "print(f'Prediction for {new_data}: {prediction}')\n"
   ]
  },
  {
   "cell_type": "code",
   "execution_count": 4,
   "metadata": {},
   "outputs": [
    {
     "name": "stdout",
     "output_type": "stream",
     "text": [
      "Coefficients: [ 0.86666667 -0.16666667]\n",
      "Intercept: 1.033333333333333\n",
      "Predicted values: [0.7333333333333374, 0.5666666666666713]\n"
     ]
    }
   ],
   "source": [
    "import numpy as np\n",
    "\n",
    "# Sample input data\n",
    "X = [[2, 1], [3, 2], [4, 3], [5, 4], [6, 5]]  # Input features\n",
    "y = [3, 4, 2, 5, 6]  # Target variable\n",
    "\n",
    "# Add a column of ones to X for the intercept term\n",
    "X = [[1] + x for x in X]\n",
    "\n",
    "# Calculate the pseudoinverse of X\n",
    "X_pseudoinv = np.linalg.pinv(X)\n",
    "\n",
    "# Calculate the coefficients\n",
    "coefficients = np.dot(X_pseudoinv, y)\n",
    "\n",
    "# Extract the intercept and the remaining coefficients\n",
    "intercept = coefficients[0]\n",
    "remaining_coefficients = coefficients[1:]\n",
    "\n",
    "# Predict on new data\n",
    "X_new = [[1, 7, 6], [1, 8, 7]]  # New input features\n",
    "y_pred = [intercept + sum(coeff * x for coeff, x in zip(remaining_coefficients, x_new)) for x_new in X_new]\n",
    "\n",
    "# Print the coefficients, intercept, and predicted values\n",
    "print(\"Coefficients:\", remaining_coefficients)\n",
    "print(\"Intercept:\", intercept)\n",
    "print(\"Predicted values:\", y_pred)"
   ]
  },
  {
   "cell_type": "code",
   "execution_count": null,
   "metadata": {},
   "outputs": [],
   "source": []
  }
 ],
 "metadata": {
  "colab": {
   "provenance": []
  },
  "kernelspec": {
   "display_name": "Python 3 (ipykernel)",
   "language": "python",
   "name": "python3"
  },
  "language_info": {
   "codemirror_mode": {
    "name": "ipython",
    "version": 3
   },
   "file_extension": ".py",
   "mimetype": "text/x-python",
   "name": "python",
   "nbconvert_exporter": "python",
   "pygments_lexer": "ipython3",
   "version": "3.11.4"
  }
 },
 "nbformat": 4,
 "nbformat_minor": 1
}
