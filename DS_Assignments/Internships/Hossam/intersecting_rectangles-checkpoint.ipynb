{
 "cells": [
  {
   "cell_type": "markdown",
   "id": "a06311ce",
   "metadata": {
    "id": "a06311ce"
   },
   "source": [
    "<center>\n",
    "    <H1>\n",
    "        Rectangles Intersection\n",
    "    </H1>\n",
    "</center>\n",
    "\n",
    "<hr style=\"height:2px\">\n",
    "\n",
    "<center>\n",
    "    <H3>\n",
    "        Problem\n",
    "    </H3>\n",
    "</center>\n",
    "\n",
    "You're given two rectangles. Each rectangle is represented as the coordinates of two opposing vertices, `[[x1,y1],[x2,y2]]`. Each rectangle has two of its sides parallel to the X-axis and has the other two sides parallel to the Y-axis.\n",
    "\n",
    "<BR>\n",
    "<p style=\"font-weight: bold; text-align: center\">\n",
    "Write a function that returns <u><code>True</code></u> if the two rectangles intersect. Otherwise, return <u><code>False</code></u>.\n",
    "</p>\n",
    "<BR>\n",
    "\n",
    "For two rectangles to be intersecting, there has to be a surface area common between them that is greater than zero. On a related note, two rectangles are NOT considered intersecting if they are merely adjacent and touching side-to-side (because the common surface area between them is zero).\n",
    "\n",
    "<hr style=\"height:2px\">\n",
    "\n",
    "<center>\n",
    "    <H3>\n",
    "        Sample Inputs & Outputs\n",
    "    </H3>\n",
    "</center>\n",
    "\n",
    "Sample input(s) and output(s) are given below. Note that the examples below are not exhaustive and that we will try your solution on other examples that are held back for verification later. Do try to account for as many cases as you can. Good Luck!\n",
    "\n",
    "#### Example 1\n",
    "```\n",
    "Input: rect1 = [[1,2],[3,4]], rect2 = [[2,1],[5,3]]\n",
    "Output: True\n",
    "Explanation: The two rectangles partially intersect\n",
    "```\n",
    "\n",
    "#### Example 2\n",
    "```\n",
    "Input: rect1 = [[3,2],[8,9]], rect2 = [[4,4],[6,7]]\n",
    "Output: True\n",
    "Explanation: One of the two rectangles is entirely inside the other\n",
    "```\n",
    "\n",
    "#### Example 3\n",
    "```\n",
    "Input: rect1 = [[1,2],[3,4]], rect2 = [[11,1],[9,5]]\n",
    "Output: False\n",
    "Explanation: The two rectangles do not intersect\n",
    "```\n",
    "\n",
    "#### Constraints:\n",
    "- `x1`, `y1`, `x2` and `y2` are all integers\n",
    "- Input rectangles are parallel to the X- and Y- axes\n",
    "\n",
    "<hr style=\"height:2px\">"
   ]
  },
  {
   "cell_type": "markdown",
   "id": "23c2b7d1",
   "metadata": {
    "id": "23c2b7d1"
   },
   "source": [
    "Please fill in the function below, then try your solution on the examples given at the bottom of this notebook.\n",
    "\n",
    "**Do NOT import or use any external libraries. AVOID `import` statements in your solution (e.g. `import numpy as np`).\n",
    "Use only base Python functions and pre-loaded libraries.**\n",
    "\n",
    "*You are free to add your own helper functions to be called by the function below.*\n",
    "\n",
    "Examples of functions/methods that you may use:\n",
    "   - min()\n",
    "   - max()\n",
    "   - len()\n",
    "   - type()\n",
    "   - range()\n",
    "   - reversed()\n",
    "   - list.sort()\n",
    "   - list.append()\n",
    "   - list.extend()\n",
    "   - list.pop()\n",
    "   - list.remove()"
   ]
  },
  {
   "cell_type": "code",
   "execution_count": 133,
   "id": "f879ef3b",
   "metadata": {
    "id": "f879ef3b"
   },
   "outputs": [],
   "source": [
    "def intersectingRectangles(rect1, rect2):\n",
    "    x1, y1 = rect1[0]\n",
    "    x2, y2 = rect1[1]\n",
    "    x3, y3 = rect2[0]\n",
    "    x4, y4 = rect2[1]\n",
    "    \n",
    "    if x3 >= x2 or x1 >= x4:\n",
    "        return False\n",
    "    \n",
    "    if y3 >= y2 or y1 >= y4:\n",
    "        return False\n",
    "    \n",
    "    return True"
   ]
  },
  {
   "cell_type": "code",
   "execution_count": 134,
   "id": "fbca7e08",
   "metadata": {
    "id": "fbca7e08",
    "outputId": "c68041e4-b109-4308-a209-0792fd5975cc"
   },
   "outputs": [
    {
     "data": {
      "text/plain": [
       "True"
      ]
     },
     "execution_count": 134,
     "metadata": {},
     "output_type": "execute_result"
    }
   ],
   "source": [
    "intersectingRectangles(rect1 = [[1,2],[3,4]], rect2 = [[2,1],[5,3]])  # Expected: True"
   ]
  },
  {
   "cell_type": "code",
   "execution_count": 135,
   "id": "65dbc7c9",
   "metadata": {
    "id": "65dbc7c9",
    "outputId": "300bc4ec-0d20-4c9a-a590-a65a96b2cdc3"
   },
   "outputs": [
    {
     "data": {
      "text/plain": [
       "True"
      ]
     },
     "execution_count": 135,
     "metadata": {},
     "output_type": "execute_result"
    }
   ],
   "source": [
    "intersectingRectangles(rect1 = [[3,2],[8,9]], rect2 = [[4,4],[6,7]])  # Expected: True"
   ]
  },
  {
   "cell_type": "code",
   "execution_count": 136,
   "id": "88768cf0",
   "metadata": {
    "id": "88768cf0",
    "outputId": "06e69ee9-02fc-4b63-8706-1ae1e9e17fc2"
   },
   "outputs": [
    {
     "data": {
      "text/plain": [
       "False"
      ]
     },
     "execution_count": 136,
     "metadata": {},
     "output_type": "execute_result"
    }
   ],
   "source": [
    "intersectingRectangles(rect1 = [[1,2],[3,4]], rect2 = [[11,1],[9,5]])  # Expected: False"
   ]
  },
  {
   "cell_type": "code",
   "execution_count": 137,
   "id": "ff86f9a7",
   "metadata": {
    "id": "ff86f9a7",
    "outputId": "4dd55d0f-99de-4985-f571-d4271472c890"
   },
   "outputs": [
    {
     "data": {
      "text/plain": [
       "True"
      ]
     },
     "execution_count": 137,
     "metadata": {},
     "output_type": "execute_result"
    }
   ],
   "source": [
    "intersectingRectangles(rect1 = [[2,2],[6,7]], rect2 = [[1,3],[7,6]])  # Expected: True"
   ]
  },
  {
   "cell_type": "code",
   "execution_count": 138,
   "id": "6d000b57",
   "metadata": {
    "id": "6d000b57",
    "outputId": "fede2a2b-a640-43fd-edc5-095fb66bb7b2"
   },
   "outputs": [
    {
     "data": {
      "text/plain": [
       "True"
      ]
     },
     "execution_count": 138,
     "metadata": {},
     "output_type": "execute_result"
    }
   ],
   "source": [
    "intersectingRectangles(rect1 = [[6,2],[2,7]], rect2 = [[1,3],[7,6]])  # Expected: True"
   ]
  },
  {
   "cell_type": "code",
   "execution_count": 139,
   "id": "6980f131",
   "metadata": {
    "id": "6980f131",
    "outputId": "41bbc8af-8fa4-4d48-d357-b5e878430e68"
   },
   "outputs": [
    {
     "data": {
      "text/plain": [
       "True"
      ]
     },
     "execution_count": 139,
     "metadata": {},
     "output_type": "execute_result"
    }
   ],
   "source": [
    "intersectingRectangles(rect1 = [[6,2],[2,7]], rect2 = [[1,1],[8,8]])  # Expected: True"
   ]
  },
  {
   "cell_type": "code",
   "execution_count": 143,
   "id": "406fb36a",
   "metadata": {
    "id": "406fb36a",
    "outputId": "4983a2d3-0b7d-41d4-ce69-2e24c3bb47d3"
   },
   "outputs": [
    {
     "data": {
      "text/plain": [
       "False"
      ]
     },
     "execution_count": 143,
     "metadata": {},
     "output_type": "execute_result"
    }
   ],
   "source": [
    "intersectingRectangles(rect1 = [[6,2],[2,7]], rect2 = [[3,3],[5,6]])  # Expected: True"
   ]
  },
  {
   "cell_type": "code",
   "execution_count": 141,
   "id": "26a6f9a3",
   "metadata": {
    "id": "26a6f9a3",
    "outputId": "7965c7f5-84a5-465f-f3c7-3da6c743d940"
   },
   "outputs": [
    {
     "data": {
      "text/plain": [
       "False"
      ]
     },
     "execution_count": 141,
     "metadata": {},
     "output_type": "execute_result"
    }
   ],
   "source": [
    "intersectingRectangles(rect1 = [[2,2],[6,7]], rect2 = [[1,10],[7,13]])  # Expected: False"
   ]
  },
  {
   "cell_type": "code",
   "execution_count": null,
   "id": "9095f5f6",
   "metadata": {
    "id": "9095f5f6"
   },
   "outputs": [],
   "source": []
  },
  {
   "cell_type": "code",
   "execution_count": null,
   "id": "e87ad354",
   "metadata": {},
   "outputs": [],
   "source": []
  }
 ],
 "metadata": {
  "colab": {
   "provenance": []
  },
  "kernelspec": {
   "display_name": "Python 3 (ipykernel)",
   "language": "python",
   "name": "python3"
  },
  "language_info": {
   "codemirror_mode": {
    "name": "ipython",
    "version": 3
   },
   "file_extension": ".py",
   "mimetype": "text/x-python",
   "name": "python",
   "nbconvert_exporter": "python",
   "pygments_lexer": "ipython3",
   "version": "3.11.4"
  }
 },
 "nbformat": 4,
 "nbformat_minor": 5
}
