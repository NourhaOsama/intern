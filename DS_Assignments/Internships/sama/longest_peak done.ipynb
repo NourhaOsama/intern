{
  "cells": [
    {
      "cell_type": "markdown",
      "id": "2f7fd661",
      "metadata": {
        "id": "2f7fd661"
      },
      "source": [
        "<center>\n",
        "    <H1>\n",
        "        Longest Peak\n",
        "    </H1>\n",
        "</center>\n",
        "\n",
        "<hr style=\"height:2px\">\n",
        "\n",
        "<center>\n",
        "    <H3>\n",
        "        Problem\n",
        "    </H3>\n",
        "</center>\n",
        "\n",
        "<BR>\n",
        "<p style=\"font-weight: bold; text-align: center\">\n",
        "Write a function that takes in an array of integers and returns <u>the length of the longest peak in the array</u>.\n",
        "</p>\n",
        "<BR>\n",
        "\n",
        "A peak is defined as adjacent integers in the array that are **strictly** increasing until they reach a tip (the highest value in the peak), at which point they become **strictly** decreasing. At least three integers are required to form a peak.\n",
        "\n",
        "For example, the integers `1, 4, 10, 2` form a peak, but the integers `4, 0, 10` don't and neither do the integers `1, 2, 2, 0`. Similarly, the integers `1, 2, 3` don't form a peak because they aren't strictly decreasing after the `3`.\n",
        "\n",
        "<hr style=\"height:2px\">\n",
        "\n",
        "<center>\n",
        "    <H3>\n",
        "        Sample Inputs & Outputs\n",
        "    </H3>\n",
        "</center>\n",
        "\n",
        "Sample input(s) and output(s) are given below. Note that the examples below are not exhaustive and that we will try your solution on other examples that are held back for verification later. Do try to account for as many cases as you can. Good Luck!\n",
        "\n",
        "#### Example\n",
        "```\n",
        "Input: array = [1, 2, 3, 3, 4, 0, 10, 6, 5, -1, -3, 2, 3]\n",
        "Output: 6\n",
        "Explanation: 6 is the length of the longest peak: [0, 10, 6, 5, -1, -3]\n",
        "```\n",
        "\n",
        "<hr style=\"height:2px\">"
      ]
    },
    {
      "cell_type": "markdown",
      "id": "e41fbd7b",
      "metadata": {
        "id": "e41fbd7b"
      },
      "source": [
        "Please fill in the function below, then try your solution on the examples given at the bottom of this notebook.\n",
        "\n",
        "**Do NOT import or use any external libraries. AVOID `import` statements in your solution (e.g. `import numpy as np`).\n",
        "Use only base Python functions and pre-loaded libraries.**\n",
        "\n",
        "*You are free to add your own helper functions to be called by the function below.*\n",
        "\n",
        "Examples of functions/methods that you may use:\n",
        "   - min()\n",
        "   - max()\n",
        "   - len()\n",
        "   - type()\n",
        "   - range()\n",
        "   - reversed()\n",
        "   - list.sort()\n",
        "   - list.append()\n",
        "   - list.extend()\n",
        "   - list.pop()\n",
        "   - list.remove()"
      ]
    },
    {
      "cell_type": "code",
      "execution_count": 3,
      "id": "6d291f34",
      "metadata": {
        "id": "6d291f34"
      },
      "outputs": [],
      "source": [
        "\n",
        "def longestPeak(arr):\n",
        "\tn = len(arr)\n",
        "\tif n < 3: # base condition for having the mountain\n",
        "\t\treturn 0\n",
        "\tans = 0\n",
        "\ti = 1\n",
        "\twhile i <= n - 2:\n",
        "\t\tif arr[i] > arr[i - 1] and arr[i] > arr[i + 1]:\n",
        "\t\t\tcount = 0\n",
        "\t\t\t# now we find the index where a peak is present\n",
        "\t\t\tj = i # making a temporary element to help us traverse the array using two pointer techniques\n",
        "\t\t\twhile j > 0 and arr[j] > arr[j - 1]:\n",
        "\t\t\t\tcount += 1\n",
        "\t\t\t\tj -= 1\n",
        "\t\t\twhile i <= n - 2 and arr[i] > arr[i + 1]:\n",
        "\t\t\t\tcount += 1\n",
        "\t\t\t\ti += 1\n",
        "\t\t\tans = max(ans, count)\n",
        "\t\telse:\n",
        "\t\t\ti += 1\n",
        "\tif ans > 0:\n",
        "\t\treturn ans + 1\n",
        "\treturn ans\n",
        "\n",
        "# Driver code\n",
        "\n"
      ]
    },
    {
      "cell_type": "code",
      "execution_count": null,
      "id": "c5651741",
      "metadata": {
        "id": "c5651741",
        "outputId": "29fa6a47-a568-4c32-e91a-0e774f5b6bbc",
        "colab": {
          "base_uri": "https://localhost:8080/"
        }
      },
      "outputs": [
        {
          "output_type": "execute_result",
          "data": {
            "text/plain": [
              "6"
            ]
          },
          "metadata": {},
          "execution_count": 8
        }
      ],
      "source": [
        "longestPeak([1, 2, 3, 3, 4, 0, 10, 6, 5, -1, -3, 2, 3])  # Expected: 6  ([0, 10, 6, 5, -1, -3])"
      ]
    },
    {
      "cell_type": "code",
      "execution_count": null,
      "id": "fe56770f",
      "metadata": {
        "id": "fe56770f",
        "outputId": "e7b0b882-a5b7-4ad4-befe-0e714a399b70",
        "colab": {
          "base_uri": "https://localhost:8080/"
        }
      },
      "outputs": [
        {
          "output_type": "execute_result",
          "data": {
            "text/plain": [
              "4"
            ]
          },
          "metadata": {},
          "execution_count": 9
        }
      ],
      "source": [
        "longestPeak([1, 2, 3, 3, 4, 4, -3, 2, 3, 0])"
      ]
    },
    {
      "cell_type": "code",
      "execution_count": 6,
      "id": "9bcdb77c",
      "metadata": {
        "id": "9bcdb77c",
        "colab": {
          "base_uri": "https://localhost:8080/"
        },
        "outputId": "a4c188e7-48ae-4256-dbef-d8fc11710df8"
      },
      "outputs": [
        {
          "output_type": "execute_result",
          "data": {
            "text/plain": [
              "6"
            ]
          },
          "metadata": {},
          "execution_count": 6
        }
      ],
      "source": [
        "longestPeak([1, 2, 3, 3, 4, 0, 10, 6, 5, -1, -3, 2, 3])"
      ]
    },
    {
      "cell_type": "code",
      "source": [
        "longestPeak([1, 3, 1, 4, 5, 6, 7, 8, 9, 8, 7, 6, 5])"
      ],
      "metadata": {
        "colab": {
          "base_uri": "https://localhost:8080/"
        },
        "id": "q08gISUgeP1R",
        "outputId": "675effa0-fb56-44ce-8e97-d29f621bf3b8"
      },
      "id": "q08gISUgeP1R",
      "execution_count": null,
      "outputs": [
        {
          "output_type": "execute_result",
          "data": {
            "text/plain": [
              "11"
            ]
          },
          "metadata": {},
          "execution_count": 11
        }
      ]
    },
    {
      "cell_type": "code",
      "source": [
        "longestPeak([1,2,3,2,1])"
      ],
      "metadata": {
        "colab": {
          "base_uri": "https://localhost:8080/"
        },
        "id": "7DoH02Ob5zw-",
        "outputId": "b3139556-b032-4fee-8655-b95bdc303158"
      },
      "id": "7DoH02Ob5zw-",
      "execution_count": 5,
      "outputs": [
        {
          "output_type": "execute_result",
          "data": {
            "text/plain": [
              "5"
            ]
          },
          "metadata": {},
          "execution_count": 5
        }
      ]
    }
  ],
  "metadata": {
    "kernelspec": {
      "display_name": "Python 3 (ipykernel)",
      "language": "python",
      "name": "python3"
    },
    "language_info": {
      "codemirror_mode": {
        "name": "ipython",
        "version": 3
      },
      "file_extension": ".py",
      "mimetype": "text/x-python",
      "name": "python",
      "nbconvert_exporter": "python",
      "pygments_lexer": "ipython3",
      "version": "3.9.13"
    },
    "colab": {
      "provenance": []
    }
  },
  "nbformat": 4,
  "nbformat_minor": 5
}