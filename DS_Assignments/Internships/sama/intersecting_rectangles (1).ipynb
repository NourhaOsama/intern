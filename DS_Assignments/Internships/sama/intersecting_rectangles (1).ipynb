{
  "cells": [
    {
      "cell_type": "markdown",
      "id": "a06311ce",
      "metadata": {
        "id": "a06311ce"
      },
      "source": [
        "<center>\n",
        "    <H1>\n",
        "        Rectangles Intersection\n",
        "    </H1>\n",
        "</center>\n",
        "\n",
        "<hr style=\"height:2px\">\n",
        "\n",
        "<center>\n",
        "    <H3>\n",
        "        Problem\n",
        "    </H3>\n",
        "</center>\n",
        "\n",
        "You're given two rectangles. Each rectangle is represented as the coordinates of two opposing vertices, `[[x1,y1],[x2,y2]]`. Each rectangle has two of its sides parallel to the X-axis and has the other two sides parallel to the Y-axis.\n",
        "\n",
        "<BR>\n",
        "<p style=\"font-weight: bold; text-align: center\">\n",
        "Write a function that returns <u><code>True</code></u> if the two rectangles intersect. Otherwise, return <u><code>False</code></u>.\n",
        "</p>\n",
        "<BR>\n",
        "\n",
        "For two rectangles to be intersecting, there has to be a surface area common between them that is greater than zero. On a related note, two rectangles are NOT considered intersecting if they are merely adjacent and touching side-to-side (because the common surface area between them is zero).\n",
        "\n",
        "<hr style=\"height:2px\">\n",
        "\n",
        "<center>\n",
        "    <H3>\n",
        "        Sample Inputs & Outputs\n",
        "    </H3>\n",
        "</center>\n",
        "\n",
        "Sample input(s) and output(s) are given below. Note that the examples below are not exhaustive and that we will try your solution on other examples that are held back for verification later. Do try to account for as many cases as you can. Good Luck!\n",
        "\n",
        "#### Example 1\n",
        "```\n",
        "Input: rect1 = [[1,2],[3,4]], rect2 = [[2,1],[5,3]]\n",
        "Output: True\n",
        "Explanation: The two rectangles partially intersect\n",
        "```\n",
        "\n",
        "#### Example 2\n",
        "```\n",
        "Input: rect1 = [[3,2],[8,9]], rect2 = [[4,4],[6,7]]\n",
        "Output: True\n",
        "Explanation: One of the two rectangles is entirely inside the other\n",
        "```\n",
        "\n",
        "#### Example 3\n",
        "```\n",
        "Input: rect1 = [[1,2],[3,4]], rect2 = [[11,1],[9,5]]\n",
        "Output: False\n",
        "Explanation: The two rectangles do not intersect\n",
        "```\n",
        "\n",
        "#### Constraints:\n",
        "- `x1`, `y1`, `x2` and `y2` are all integers\n",
        "- Input rectangles are parallel to the X- and Y- axes\n",
        "\n",
        "<hr style=\"height:2px\">"
      ]
    },
    {
      "cell_type": "markdown",
      "id": "23c2b7d1",
      "metadata": {
        "id": "23c2b7d1"
      },
      "source": [
        "Please fill in the function below, then try your solution on the examples given at the bottom of this notebook.\n",
        "\n",
        "**Do NOT import or use any external libraries. AVOID `import` statements in your solution (e.g. `import numpy as np`).\n",
        "Use only base Python functions and pre-loaded libraries.**\n",
        "\n",
        "*You are free to add your own helper functions to be called by the function below.*\n",
        "\n",
        "Examples of functions/methods that you may use:\n",
        "   - min()\n",
        "   - max()\n",
        "   - len()\n",
        "   - type()\n",
        "   - range()\n",
        "   - reversed()\n",
        "   - list.sort()\n",
        "   - list.append()\n",
        "   - list.extend()\n",
        "   - list.pop()\n",
        "   - list.remove()"
      ]
    },
    {
      "cell_type": "code",
      "source": [
        "def intersecting_rectangles(rect1, rect2):\n",
        "    if (\n",
        "            rect1[1][0] < rect2[0][0] or rect1[1][1] < rect2[0][1] or rect1[0][0] > rect2[1][0] or rect1[0][1] >\n",
        "            rect2[1][1]\n",
        "    ):\n",
        "        return False\n",
        "    else:\n",
        "        return True\n",
        "#Example 1\n",
        "rect1 = [[1,2],[3,4]]\n",
        "rect2 = [[2,1],[5,3]]\n",
        "result = intersecting_rectangles(rect1, rect2)\n",
        "result\n",
        "\n"
      ],
      "metadata": {
        "colab": {
          "base_uri": "https://localhost:8080/"
        },
        "id": "RziHPc7TpwQb",
        "outputId": "7f4f4413-495e-4698-b2ee-f8999f2e282a"
      },
      "id": "RziHPc7TpwQb",
      "execution_count": 35,
      "outputs": [
        {
          "output_type": "execute_result",
          "data": {
            "text/plain": [
              "True"
            ]
          },
          "metadata": {},
          "execution_count": 35
        }
      ]
    },
    {
      "cell_type": "code",
      "source": [
        "def intersecting_rectangles(rect1, rect2):\n",
        "    if (\n",
        "            rect1[1][0] < rect2[0][0] or rect1[1][1] < rect2[0][1] or rect1[0][0] > rect2[1][0] or rect1[0][1] >\n",
        "            rect2[1][1]\n",
        "    ):\n",
        "        return False\n",
        "    else:\n",
        "        return True\n",
        "#Example 2\n",
        "rect1 = [[3,2],[8,9]]\n",
        "rect2 = [[4,4],[6,7]]\n",
        "result = intersecting_rectangles(rect1, rect2)\n",
        "result\n"
      ],
      "metadata": {
        "colab": {
          "base_uri": "https://localhost:8080/"
        },
        "id": "a_96_7Ympyow",
        "outputId": "fa9016b4-7a44-4e71-9455-1a718bbc9089"
      },
      "id": "a_96_7Ympyow",
      "execution_count": 36,
      "outputs": [
        {
          "output_type": "execute_result",
          "data": {
            "text/plain": [
              "True"
            ]
          },
          "metadata": {},
          "execution_count": 36
        }
      ]
    },
    {
      "cell_type": "code",
      "source": [
        "def intersecting_rectangles(rect1, rect2):\n",
        "    if (\n",
        "            rect1[1][0] < rect2[0][0] or rect1[1][1] < rect2[0][1] or rect1[0][0] > rect2[1][0] or rect1[0][1] >\n",
        "            rect2[1][1]\n",
        "    ):\n",
        "        return False\n",
        "    else:\n",
        "        return True\n",
        "#Example 2\n",
        "rect1 = [[1,2],[3,4]]\n",
        "rect2 = [[11,1],[9,5]]\n",
        "result = intersecting_rectangles(rect1, rect2)\n",
        "result"
      ],
      "metadata": {
        "colab": {
          "base_uri": "https://localhost:8080/"
        },
        "id": "kREHh_RhsQb-",
        "outputId": "83075bcb-2d91-42c1-88ad-8aabb43ad6bc"
      },
      "id": "kREHh_RhsQb-",
      "execution_count": 37,
      "outputs": [
        {
          "output_type": "execute_result",
          "data": {
            "text/plain": [
              "False"
            ]
          },
          "metadata": {},
          "execution_count": 37
        }
      ]
    }
  ],
  "metadata": {
    "kernelspec": {
      "display_name": "Python 3 (ipykernel)",
      "language": "python",
      "name": "python3"
    },
    "language_info": {
      "codemirror_mode": {
        "name": "ipython",
        "version": 3
      },
      "file_extension": ".py",
      "mimetype": "text/x-python",
      "name": "python",
      "nbconvert_exporter": "python",
      "pygments_lexer": "ipython3",
      "version": "3.9.13"
    },
    "colab": {
      "provenance": []
    }
  },
  "nbformat": 4,
  "nbformat_minor": 5
}