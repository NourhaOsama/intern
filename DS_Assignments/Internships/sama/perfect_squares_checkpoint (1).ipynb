{
  "cells": [
    {
      "cell_type": "markdown",
      "id": "2f7fd661",
      "metadata": {
        "id": "2f7fd661"
      },
      "source": [
        "<center>\n",
        "    <H1>\n",
        "        Perfect Squares\n",
        "    </H1>\n",
        "</center>\n",
        "\n",
        "<hr style=\"height:2px\">\n",
        "\n",
        "<center>\n",
        "    <H3>\n",
        "        Problem\n",
        "    </H3>\n",
        "</center>\n",
        "\n",
        "<BR>\n",
        "<p style=\"font-weight: bold; text-align: center\">\n",
        "Write a function that takes integer <code>n</code> and returns <u>the least number of perfect square numbers that sum to <code>n</code></u>.\n",
        "</p>\n",
        "<BR>\n",
        "\n",
        "A perfect square is an integer that is the square of an integer; in other words, it is the product of some integer with itself. For example, `1`, `4`, `9`, and `16` are perfect squares while `3` and `11` are not.\n",
        "\n",
        "<hr style=\"height:2px\">\n",
        "\n",
        "<center>\n",
        "    <H3>\n",
        "        Sample Inputs & Outputs\n",
        "    </H3>\n",
        "</center>\n",
        "\n",
        "Sample input(s) and output(s) are given below. Note that the examples below are not exhaustive and that we will try your solution on other examples that are held back for verification later. Do try to account for as many cases as you can. Good Luck!\n",
        "\n",
        "#### Example 1\n",
        "```\n",
        "Input: n = 12\n",
        "Output: 3\n",
        "Explanation: 12 = 4 + 4 + 4.\n",
        "```\n",
        "\n",
        "#### Example 2\n",
        "```\n",
        "Input: n = 13\n",
        "Output: 2\n",
        "Explanation: 13 = 4 + 9.\n",
        "```\n",
        "\n",
        "#### Constraints:\n",
        "- `1 <= n <= 10^4`\n",
        "\n",
        "<hr style=\"height:2px\">"
      ]
    },
    {
      "cell_type": "markdown",
      "id": "252f43ec",
      "metadata": {
        "id": "252f43ec"
      },
      "source": [
        "Please fill in the function below, then try your solution on the examples given at the bottom of this notebook.\n",
        "\n",
        "**Do NOT import or use any external libraries. AVOID `import` statements in your solution (e.g. `import numpy as np`).\n",
        "Use only base Python functions and pre-loaded libraries.**\n",
        "\n",
        "*You are free to add your own helper functions to be called by the function below.*\n",
        "\n",
        "Examples of functions/methods that you may use:\n",
        "   - min()\n",
        "   - max()\n",
        "   - len()\n",
        "   - type()\n",
        "   - range()\n",
        "   - reversed()\n",
        "   - list.sort()\n",
        "   - list.append()\n",
        "   - list.extend()\n",
        "   - list.pop()\n",
        "   - list.remove()"
      ]
    },
    {
      "cell_type": "code",
      "execution_count": 2,
      "id": "6d291f34",
      "metadata": {
        "id": "6d291f34"
      },
      "outputs": [],
      "source": [
        "def minimumsquares(n):\n",
        "    dp = [float('inf')] *(n+1)\n",
        "    dp[0] = 0\n",
        "\n",
        "    for i in range(1, n+1):\n",
        "\n",
        "        j=1\n",
        "        while j * j <= i:\n",
        "            dp[i] = min(dp[i], dp[i-j*j] + 1)\n",
        "            j += 1\n",
        "    return dp[n]\n",
        "\n"
      ]
    },
    {
      "cell_type": "code",
      "execution_count": 3,
      "id": "c5651741",
      "metadata": {
        "id": "c5651741",
        "outputId": "04397991-a4e0-4644-a0d5-5b26e54d287f",
        "colab": {
          "base_uri": "https://localhost:8080/"
        }
      },
      "outputs": [
        {
          "output_type": "execute_result",
          "data": {
            "text/plain": [
              "3"
            ]
          },
          "metadata": {},
          "execution_count": 3
        }
      ],
      "source": [
        "minimumsquares(12)  # Expected: 3  (4 + 4 + 4)"
      ]
    },
    {
      "cell_type": "code",
      "execution_count": 4,
      "id": "e7fe37fb",
      "metadata": {
        "id": "e7fe37fb",
        "outputId": "471f6272-93af-47fd-dedf-561085a9f994",
        "colab": {
          "base_uri": "https://localhost:8080/"
        }
      },
      "outputs": [
        {
          "output_type": "execute_result",
          "data": {
            "text/plain": [
              "2"
            ]
          },
          "metadata": {},
          "execution_count": 4
        }
      ],
      "source": [
        "minimumsquares(13)  # Expected: 2  (4 + 9)"
      ]
    },
    {
      "cell_type": "code",
      "execution_count": null,
      "id": "2a4de7b8",
      "metadata": {
        "id": "2a4de7b8",
        "outputId": "fb68aca5-04a2-4c6c-cea2-472c9f7f3cda",
        "colab": {
          "base_uri": "https://localhost:8080/"
        }
      },
      "outputs": [
        {
          "output_type": "execute_result",
          "data": {
            "text/plain": [
              "1"
            ]
          },
          "metadata": {},
          "execution_count": 12
        }
      ],
      "source": [
        "minimumsquares(16)  # Expected: 1  (16)"
      ]
    },
    {
      "cell_type": "code",
      "execution_count": null,
      "id": "beac0ba8",
      "metadata": {
        "id": "beac0ba8",
        "outputId": "4e923145-a036-40c2-f36a-0d242a520b59",
        "colab": {
          "base_uri": "https://localhost:8080/"
        }
      },
      "outputs": [
        {
          "output_type": "execute_result",
          "data": {
            "text/plain": [
              "3"
            ]
          },
          "metadata": {},
          "execution_count": 11
        }
      ],
      "source": [
        "minimumsquares(48)  # Expected: 3  (16 + 16 + 16)"
      ]
    },
    {
      "cell_type": "code",
      "execution_count": null,
      "id": "1fd864b3",
      "metadata": {
        "id": "1fd864b3",
        "outputId": "fd6810f1-bc7b-4f94-fea5-4a6c1616ea80",
        "colab": {
          "base_uri": "https://localhost:8080/"
        }
      },
      "outputs": [
        {
          "output_type": "execute_result",
          "data": {
            "text/plain": [
              "1"
            ]
          },
          "metadata": {},
          "execution_count": 10
        }
      ],
      "source": [
        "minimumsquares(64)  # Expected: 1\n"
      ]
    },
    {
      "cell_type": "code",
      "execution_count": null,
      "id": "b4e6c15b",
      "metadata": {
        "id": "b4e6c15b",
        "outputId": "b00677df-ac02-4c90-c1f2-f1b30687ab62",
        "colab": {
          "base_uri": "https://localhost:8080/"
        }
      },
      "outputs": [
        {
          "output_type": "execute_result",
          "data": {
            "text/plain": [
              "3"
            ]
          },
          "metadata": {},
          "execution_count": 9
        }
      ],
      "source": [
        "minimumsquares(78)  # Expected: 3  // 49 + 25 + 4\n"
      ]
    },
    {
      "cell_type": "code",
      "execution_count": null,
      "id": "07af0aaa",
      "metadata": {
        "id": "07af0aaa",
        "outputId": "0a238621-4057-448a-923e-1dd0b4a440f5",
        "colab": {
          "base_uri": "https://localhost:8080/"
        }
      },
      "outputs": [
        {
          "output_type": "execute_result",
          "data": {
            "text/plain": [
              "2"
            ]
          },
          "metadata": {},
          "execution_count": 8
        }
      ],
      "source": [
        "minimumsquares(80)  # Expected: 2  // 64 + 16\n"
      ]
    },
    {
      "cell_type": "code",
      "execution_count": null,
      "id": "948215d2",
      "metadata": {
        "id": "948215d2",
        "outputId": "1c89c3a8-1672-4316-9bd6-a01af25350fb",
        "colab": {
          "base_uri": "https://localhost:8080/"
        }
      },
      "outputs": [
        {
          "output_type": "execute_result",
          "data": {
            "text/plain": [
              "1"
            ]
          },
          "metadata": {},
          "execution_count": 7
        }
      ],
      "source": [
        "minimumsquares(121)  # Expected: 1\n"
      ]
    },
    {
      "cell_type": "code",
      "execution_count": null,
      "id": "4c1e85cc",
      "metadata": {
        "id": "4c1e85cc",
        "outputId": "3add747b-97ff-4dbc-8271-023affd8c2e3",
        "colab": {
          "base_uri": "https://localhost:8080/"
        }
      },
      "outputs": [
        {
          "output_type": "execute_result",
          "data": {
            "text/plain": [
              "2"
            ]
          },
          "metadata": {},
          "execution_count": 6
        }
      ],
      "source": [
        "minimumsquares(9925)  # Expected: 2  // 95^2 + 30^2\n",
        "\n",
        "\n"
      ]
    },
    {
      "cell_type": "code",
      "execution_count": null,
      "id": "7b88d187",
      "metadata": {
        "id": "7b88d187"
      },
      "outputs": [],
      "source": []
    }
  ],
  "metadata": {
    "kernelspec": {
      "display_name": "Python 3 (ipykernel)",
      "language": "python",
      "name": "python3"
    },
    "language_info": {
      "codemirror_mode": {
        "name": "ipython",
        "version": 3
      },
      "file_extension": ".py",
      "mimetype": "text/x-python",
      "name": "python",
      "nbconvert_exporter": "python",
      "pygments_lexer": "ipython3",
      "version": "3.9.13"
    },
    "colab": {
      "provenance": []
    }
  },
  "nbformat": 4,
  "nbformat_minor": 5
}