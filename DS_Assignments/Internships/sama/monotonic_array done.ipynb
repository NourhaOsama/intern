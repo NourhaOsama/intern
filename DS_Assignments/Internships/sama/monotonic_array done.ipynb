{
  "cells": [
    {
      "cell_type": "markdown",
      "id": "2f7fd661",
      "metadata": {
        "id": "2f7fd661"
      },
      "source": [
        "<center>\n",
        "    <H1>\n",
        "        Monotonic Array\n",
        "    </H1>\n",
        "</center>\n",
        "\n",
        "<hr style=\"height:2px\">\n",
        "\n",
        "<center>\n",
        "    <H3>\n",
        "        Problem\n",
        "    </H3>\n",
        "</center>\n",
        "\n",
        "<BR>\n",
        "<p style=\"font-weight: bold; text-align: center\">\n",
        "Write a function that takes in an array of integers and returns <u>a boolean representing whether the array is monotonic</u>.\n",
        "</p>\n",
        "<BR>\n",
        "\n",
        "An array is said to be monotonic if its elements, from left to right, are entirely non-increasing or entirely non-decreasing.\n",
        "\n",
        "Non-increasing elements aren't necessarily exclusively decreasing; they simply don't increase. Similarly, Non-decreasing elements aren't necessarily exclusively increasing; they simply don't decrease.\n",
        "\n",
        "Note that empty arrays and arrays of one element are monotonic.\n",
        "\n",
        "<hr style=\"height:2px\">\n",
        "\n",
        "<center>\n",
        "    <H3>\n",
        "        Sample Inputs & Outputs\n",
        "    </H3>\n",
        "</center>\n",
        "\n",
        "Sample input(s) and output(s) are given below. Note that the examples below are not exhaustive and that we will try your solution on other examples that are held back for verification later. Do try to account for as many cases as you can. Good Luck!\n",
        "\n",
        "#### Example 1\n",
        "```\n",
        "Input: array = [-1, -5, -10, -1100, -1100, -1101, -1102, -9001]\n",
        "Output: True\n",
        "```\n",
        "\n",
        "<hr style=\"height:2px\">"
      ]
    },
    {
      "cell_type": "markdown",
      "id": "c5a66a92",
      "metadata": {
        "id": "c5a66a92"
      },
      "source": [
        "Please fill in the function below, then try your solution on the examples given at the bottom of this notebook.\n",
        "\n",
        "**Do NOT import or use any external libraries. AVOID `import` statements in your solution (e.g. `import numpy as np`).\n",
        "Use only base Python functions and pre-loaded libraries.**\n",
        "\n",
        "*You are free to add your own helper functions to be called by the function below.*\n",
        "\n",
        "Examples of functions/methods that you may use:\n",
        "   - min()\n",
        "   - max()\n",
        "   - len()\n",
        "   - type()\n",
        "   - range()\n",
        "   - reversed()\n",
        "   - list.sort()\n",
        "   - list.append()\n",
        "   - list.extend()\n",
        "   - list.pop()\n",
        "   - list.remove()"
      ]
    },
    {
      "cell_type": "code",
      "execution_count": 15,
      "id": "6d291f34",
      "metadata": {
        "id": "6d291f34"
      },
      "outputs": [],
      "source": [
        "def isMonotonic(arr):\n",
        "  n=len(arr)\n",
        "\n",
        "  inc = dec = False\n",
        "\n",
        "  for i in range(1,n):\n",
        "\n",
        "    if arr[i] > arr[i - 1] :\n",
        "      inc = True\n",
        "\n",
        "    if arr[i] < arr[i - 1] :\n",
        "      dec = True\n",
        "\n",
        "    if inc and dec :\n",
        "      return False\n",
        "\n",
        "  return True\n"
      ]
    },
    {
      "cell_type": "code",
      "execution_count": 16,
      "id": "da44d956",
      "metadata": {
        "colab": {
          "base_uri": "https://localhost:8080/"
        },
        "id": "da44d956",
        "outputId": "2bd771b5-a858-451f-9a5f-b1f39eaaec7f"
      },
      "outputs": [
        {
          "output_type": "execute_result",
          "data": {
            "text/plain": [
              "True"
            ]
          },
          "metadata": {},
          "execution_count": 16
        }
      ],
      "source": [
        "isMonotonic([1,2,2,3,6,15,15,15,15,89]) # Expected: True"
      ]
    },
    {
      "cell_type": "code",
      "execution_count": 17,
      "id": "35dbaff3",
      "metadata": {
        "colab": {
          "base_uri": "https://localhost:8080/"
        },
        "id": "35dbaff3",
        "outputId": "b018861d-f772-444f-89e4-3b94910af6af"
      },
      "outputs": [
        {
          "output_type": "execute_result",
          "data": {
            "text/plain": [
              "False"
            ]
          },
          "metadata": {},
          "execution_count": 17
        }
      ],
      "source": [
        "isMonotonic([-8, -100, -101, -99, -500])  # Expected: False\n"
      ]
    },
    {
      "cell_type": "code",
      "execution_count": 18,
      "id": "3585d516",
      "metadata": {
        "colab": {
          "base_uri": "https://localhost:8080/"
        },
        "id": "3585d516",
        "outputId": "4b38a229-6e69-4017-be28-8b88878e8fa1"
      },
      "outputs": [
        {
          "output_type": "execute_result",
          "data": {
            "text/plain": [
              "True"
            ]
          },
          "metadata": {},
          "execution_count": 18
        }
      ],
      "source": [
        "isMonotonic([7,7,7,7,7,7,7])  # Expected: True\n"
      ]
    },
    {
      "cell_type": "code",
      "execution_count": null,
      "id": "b05247fa",
      "metadata": {
        "id": "b05247fa"
      },
      "outputs": [],
      "source": []
    }
  ],
  "metadata": {
    "kernelspec": {
      "display_name": "Python 3 (ipykernel)",
      "language": "python",
      "name": "python3"
    },
    "language_info": {
      "codemirror_mode": {
        "name": "ipython",
        "version": 3
      },
      "file_extension": ".py",
      "mimetype": "text/x-python",
      "name": "python",
      "nbconvert_exporter": "python",
      "pygments_lexer": "ipython3",
      "version": "3.9.13"
    },
    "colab": {
      "provenance": []
    }
  },
  "nbformat": 4,
  "nbformat_minor": 5
}