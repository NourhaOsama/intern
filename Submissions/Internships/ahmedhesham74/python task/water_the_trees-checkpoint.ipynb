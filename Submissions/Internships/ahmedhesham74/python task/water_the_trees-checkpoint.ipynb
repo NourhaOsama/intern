{
 "cells": [
  {
   "cell_type": "markdown",
   "id": "2f7fd661",
   "metadata": {
    "id": "2f7fd661"
   },
   "source": [
    "<center>\n",
    "    <H1>\n",
    "        Water the Trees\n",
    "    </H1>\n",
    "</center>\n",
    "\n",
    "<hr style=\"height:2px\">\n",
    "\n",
    "<center>\n",
    "    <H3>\n",
    "        Problem\n",
    "    </H3>\n",
    "</center>\n",
    "\n",
    "There are $n$ trees in a park, numbered from $1$ to $n$. The initial height of the $i$-th tree is $h_i$.\n",
    "\n",
    "You want to water these trees, so they all grow to the same height. The watering process goes as follows. You start watering trees at day 1. During the $j$-th day you can:\n",
    "\n",
    "- Choose a tree and water it. If the day is odd (e.g. $1$,$3$,$5$,$7$,…), then the height of the tree increases by $1$. If the day is even (e.g. $2$,$4$,$6$,$8$,…), then the height of the tree increases by $2$.\n",
    "- Or skip a day without watering any tree.\n",
    "\n",
    "Note that you can't water more than one tree in a day.\n",
    "\n",
    "<BR>\n",
    "<p style=\"font-weight: bold; text-align: center\">\n",
    "Write a function that takes in an array of <code>n</code> trees (integers) and returns <BR><u>the minimum number of days required to water the trees so that they grow to the same height</u>.\n",
    "</p>\n",
    "<BR>\n",
    "\n",
    "<hr style=\"height:2px\">\n",
    "\n",
    "<center>\n",
    "    <H3>\n",
    "        Sample Inputs & Outputs\n",
    "    </H3>\n",
    "</center>\n",
    "\n",
    "Sample input(s) and output(s) are given below. Note that the examples below are not exhaustive and that we will try your solution on other examples that are held back for verification later. Do try to account for as many cases as you can. Good Luck!\n",
    "\n",
    "#### Example 1\n",
    "```\n",
    "Input: array = [1, 2, 4]\n",
    "Output: 4\n",
    "Explanation:\n",
    "    - Initial state is [1, 2, 4]\n",
    "    - On day 1, water the 1st tree (grows to 2). Sequence is now [2, 2, 4].\n",
    "    - On day 2, water the 2nd tree, (grows to 4). Sequence is now [2, 4, 4].\n",
    "    - On day 3, skip.\n",
    "    - On day 4, water the 1st tree (grows to 4). Sequence is now [4, 4, 4].\n",
    "```\n",
    "\n",
    "#### Example 2\n",
    "```\n",
    "Input: array = [4, 4, 3, 5, 5]\n",
    "Output: 3\n",
    "```\n",
    "\n",
    "#### Example 3\n",
    "```\n",
    "Input: array = [2, 5, 4, 8, 3, 7, 4]\n",
    "Output: 16\n",
    "```\n",
    "\n",
    "<hr style=\"height:2px\">"
   ]
  },
  {
   "cell_type": "markdown",
   "id": "474d5c43",
   "metadata": {
    "id": "474d5c43"
   },
   "source": [
    "Please fill in the function below, then try your solution on the examples given at the bottom of this notebook.\n",
    "\n",
    "**Do NOT import or use any external libraries. AVOID `import` statements in your solution (e.g. `import numpy as np`).\n",
    "Use only base Python functions and pre-loaded libraries.**\n",
    "\n",
    "*You are free to add your own helper functions to be called by the function below.*\n",
    "\n",
    "Examples of functions/methods that you may use:\n",
    "   - min()\n",
    "   - max()\n",
    "   - len()\n",
    "   - type()\n",
    "   - range()\n",
    "   - reversed()\n",
    "   - list.sort()\n",
    "   - list.append()\n",
    "   - list.extend()\n",
    "   - list.pop()\n",
    "   - list.remove()"
   ]
  },
  {
   "cell_type": "code",
   "execution_count": 10,
   "id": "6d291f34",
   "metadata": {
    "id": "6d291f34"
   },
   "outputs": [],
   "source": [
    "def minimumDays(array):\n",
    "    ## write your solution here!\n",
    "\n",
    "    def find_days (array):\n",
    "        max_height = max(array)\n",
    "        ones , twos = 0 ,0\n",
    "        for height in array :\n",
    "            ones += (max_height - height) % 2\n",
    "            twos += (max_height - height) //2\n",
    "        if ones > twos :\n",
    "            return ones *2-1\n",
    "        elif  ones == twos :\n",
    "            return ones *2\n",
    "        twos = (twos -ones ) * 2\n",
    "        return ones * 2 + twos // 3 * 2 + twos % 3\n",
    "\n",
    "\n",
    "    max_height =max (array)\n",
    "8\n",
    "    return find_days(array)"
   ]
  },
  {
   "cell_type": "code",
   "execution_count": 11,
   "id": "c5651741",
   "metadata": {
    "colab": {
     "base_uri": "https://localhost:8080/"
    },
    "executionInfo": {
     "elapsed": 377,
     "status": "ok",
     "timestamp": 1690883710703,
     "user": {
      "displayName": "Sohaib Wael",
      "userId": "06436269751343587339"
     },
     "user_tz": -180
    },
    "id": "c5651741",
    "outputId": "ba406595-5e16-4632-c367-342f3a4f35f7"
   },
   "outputs": [
    {
     "data": {
      "text/plain": [
       "4"
      ]
     },
     "execution_count": 11,
     "metadata": {},
     "output_type": "execute_result"
    }
   ],
   "source": [
    "minimumDays([1, 2, 4])  # Expected: 4"
   ]
  },
  {
   "cell_type": "code",
   "execution_count": 12,
   "id": "12d02f9d",
   "metadata": {
    "colab": {
     "base_uri": "https://localhost:8080/"
    },
    "executionInfo": {
     "elapsed": 2,
     "status": "ok",
     "timestamp": 1690883716609,
     "user": {
      "displayName": "Sohaib Wael",
      "userId": "06436269751343587339"
     },
     "user_tz": -180
    },
    "id": "12d02f9d",
    "outputId": "f51e8227-f1dd-4d0c-9c21-8a5ffda8d1b6"
   },
   "outputs": [
    {
     "data": {
      "text/plain": [
       "3"
      ]
     },
     "execution_count": 12,
     "metadata": {},
     "output_type": "execute_result"
    }
   ],
   "source": [
    "minimumDays([4, 4, 3, 5, 5])  # Expected: 3"
   ]
  },
  {
   "cell_type": "code",
   "execution_count": 13,
   "id": "d7b681a0",
   "metadata": {
    "colab": {
     "base_uri": "https://localhost:8080/"
    },
    "executionInfo": {
     "elapsed": 9,
     "status": "ok",
     "timestamp": 1678110341378,
     "user": {
      "displayName": "Sohaib Wael",
      "userId": "06436269751343587339"
     },
     "user_tz": -120
    },
    "id": "d7b681a0",
    "outputId": "a96314d8-49e5-4f6e-f1d1-826f96edf205"
   },
   "outputs": [
    {
     "data": {
      "text/plain": [
       "16"
      ]
     },
     "execution_count": 13,
     "metadata": {},
     "output_type": "execute_result"
    }
   ],
   "source": [
    "minimumDays([2, 5, 4, 8, 3, 7, 4])  # Expected: 16"
   ]
  },
  {
   "cell_type": "code",
   "execution_count": 14,
   "id": "1c5651e0",
   "metadata": {
    "colab": {
     "base_uri": "https://localhost:8080/"
    },
    "executionInfo": {
     "elapsed": 8,
     "status": "ok",
     "timestamp": 1678110341378,
     "user": {
      "displayName": "Sohaib Wael",
      "userId": "06436269751343587339"
     },
     "user_tz": -120
    },
    "id": "1c5651e0",
    "outputId": "b4e380f9-d6b0-4608-e14d-96f3c49de62a"
   },
   "outputs": [
    {
     "data": {
      "text/plain": [
       "3"
      ]
     },
     "execution_count": 14,
     "metadata": {},
     "output_type": "execute_result"
    }
   ],
   "source": [
    "minimumDays([4,3,1])  # Expected: 3\n"
   ]
  },
  {
   "cell_type": "code",
   "execution_count": 15,
   "id": "909730e1",
   "metadata": {
    "colab": {
     "base_uri": "https://localhost:8080/"
    },
    "executionInfo": {
     "elapsed": 8,
     "status": "ok",
     "timestamp": 1678110341379,
     "user": {
      "displayName": "Sohaib Wael",
      "userId": "06436269751343587339"
     },
     "user_tz": -120
    },
    "id": "909730e1",
    "outputId": "899d50e1-97d9-4dff-8493-69e70efc8010"
   },
   "outputs": [
    {
     "data": {
      "text/plain": [
       "4"
      ]
     },
     "execution_count": 15,
     "metadata": {},
     "output_type": "execute_result"
    }
   ],
   "source": [
    "minimumDays([5,4,1])  # Expected: 4\n"
   ]
  },
  {
   "cell_type": "code",
   "execution_count": 16,
   "id": "71341302",
   "metadata": {
    "colab": {
     "base_uri": "https://localhost:8080/"
    },
    "executionInfo": {
     "elapsed": 8,
     "status": "ok",
     "timestamp": 1678110341379,
     "user": {
      "displayName": "Sohaib Wael",
      "userId": "06436269751343587339"
     },
     "user_tz": -120
    },
    "id": "71341302",
    "outputId": "b04a711f-bc38-4500-ec11-603e96996a28"
   },
   "outputs": [
    {
     "data": {
      "text/plain": [
       "4"
      ]
     },
     "execution_count": 16,
     "metadata": {},
     "output_type": "execute_result"
    }
   ],
   "source": [
    "minimumDays([6,5,2])  # Expected: 4\n"
   ]
  },
  {
   "cell_type": "code",
   "execution_count": 17,
   "id": "a2d3d0ee",
   "metadata": {
    "colab": {
     "base_uri": "https://localhost:8080/"
    },
    "executionInfo": {
     "elapsed": 7,
     "status": "ok",
     "timestamp": 1678110341379,
     "user": {
      "displayName": "Sohaib Wael",
      "userId": "06436269751343587339"
     },
     "user_tz": -120
    },
    "id": "a2d3d0ee",
    "outputId": "cb47d415-fdba-4c7a-ba89-af15f4a3c116"
   },
   "outputs": [
    {
     "data": {
      "text/plain": [
       "4"
      ]
     },
     "execution_count": 17,
     "metadata": {},
     "output_type": "execute_result"
    }
   ],
   "source": [
    "minimumDays([5,2,6])  # Expected: 4"
   ]
  },
  {
   "cell_type": "code",
   "execution_count": 18,
   "id": "679bbaf0",
   "metadata": {
    "colab": {
     "base_uri": "https://localhost:8080/"
    },
    "executionInfo": {
     "elapsed": 6,
     "status": "ok",
     "timestamp": 1678110341379,
     "user": {
      "displayName": "Sohaib Wael",
      "userId": "06436269751343587339"
     },
     "user_tz": -120
    },
    "id": "679bbaf0",
    "outputId": "f3ade068-bffd-4a49-f00a-c47cbe2a0445"
   },
   "outputs": [
    {
     "data": {
      "text/plain": [
       "8"
      ]
     },
     "execution_count": 18,
     "metadata": {},
     "output_type": "execute_result"
    }
   ],
   "source": [
    "minimumDays([8,7,6,4,3])  # Expected: 8 "
   ]
  },
  {
   "cell_type": "code",
   "execution_count": null,
   "id": "3e44d8ee",
   "metadata": {
    "id": "3e44d8ee"
   },
   "outputs": [],
   "source": []
  }
 ],
 "metadata": {
  "colab": {
   "provenance": []
  },
  "kernelspec": {
   "display_name": "Python 3 (ipykernel)",
   "language": "python",
   "name": "python3"
  },
  "language_info": {
   "codemirror_mode": {
    "name": "ipython",
    "version": 3
   },
   "file_extension": ".py",
   "mimetype": "text/x-python",
   "name": "python",
   "nbconvert_exporter": "python",
   "pygments_lexer": "ipython3",
   "version": "3.9.12"
  }
 },
 "nbformat": 4,
 "nbformat_minor": 5
}
