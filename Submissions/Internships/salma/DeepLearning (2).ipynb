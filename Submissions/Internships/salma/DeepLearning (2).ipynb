{
  "nbformat": 4,
  "nbformat_minor": 0,
  "metadata": {
    "colab": {
      "provenance": []
    },
    "kernelspec": {
      "name": "python3",
      "display_name": "Python 3"
    },
    "language_info": {
      "name": "python"
    }
  },
  "cells": [
    {
      "cell_type": "code",
      "source": [
        "import pandas as pd\n",
        "import numpy as np\n",
        "from sklearn.model_selection import train_test_split\n",
        "from sklearn.preprocessing import StandardScaler, OneHotEncoder\n",
        "from sklearn.compose import ColumnTransformer\n",
        "from sklearn.pipeline import Pipeline\n",
        "from sklearn.metrics import accuracy_score, classification_report\n",
        "from tensorflow import keras\n",
        "from tensorflow.keras import layers, regularizers\n",
        "from tensorflow.keras.optimizers import RMSprop\n",
        "from tensorflow.keras.callbacks import LearningRateScheduler, EarlyStopping\n",
        "from imblearn.over_sampling import RandomOverSampler\n",
        "from sklearn.model_selection import GridSearchCV\n",
        "from sklearn.metrics import make_scorer\n",
        "from pandas.plotting import scatter_matrix\n",
        "from scipy.stats import chi2_contingency\n",
        "from helpers import categorical_univariate , categorical_bivariate\n",
        "import matplotlib.pyplot as plt\n",
        "import math\n",
        "from scipy import stats\n",
        "from scipy.stats import ttest_ind\n",
        "from pandas.core.base import duplicated\n",
        "import seaborn as sns\n",
        "\n",
        "from imblearn.pipeline import Pipeline as ImblearnPipeline\n",
        "from sklearn.model_selection import StratifiedKFold"
      ],
      "metadata": {
        "id": "xygRHxjkNJSR"
      },
      "execution_count": 1,
      "outputs": []
    },
    {
      "cell_type": "code",
      "source": [
        "data = pd.read_csv('Employee.csv')\n",
        "data"
      ],
      "metadata": {
        "colab": {
          "base_uri": "https://localhost:8080/",
          "height": 424
        },
        "id": "PLHnMEL3NLUG",
        "outputId": "e8d43252-7042-4d8c-bb84-d3598f14b12f"
      },
      "execution_count": 2,
      "outputs": [
        {
          "output_type": "execute_result",
          "data": {
            "text/plain": [
              "      Education  JoiningYear       City  PaymentTier  Age  Gender EverBenched  \\\n",
              "0     Bachelors         2017  Bangalore            3   34    Male          No   \n",
              "1     Bachelors         2013       Pune            1   28  Female          No   \n",
              "2     Bachelors         2014  New Delhi            3   38  Female          No   \n",
              "3       Masters         2016  Bangalore            3   27    Male          No   \n",
              "4       Masters         2017       Pune            3   24    Male         Yes   \n",
              "...         ...          ...        ...          ...  ...     ...         ...   \n",
              "4648  Bachelors         2013  Bangalore            3   26  Female          No   \n",
              "4649    Masters         2013       Pune            2   37    Male          No   \n",
              "4650    Masters         2018  New Delhi            3   27    Male          No   \n",
              "4651  Bachelors         2012  Bangalore            3   30    Male         Yes   \n",
              "4652  Bachelors         2015  Bangalore            3   33    Male         Yes   \n",
              "\n",
              "      ExperienceInCurrentDomain  LeaveOrNot  \n",
              "0                             0           0  \n",
              "1                             3           1  \n",
              "2                             2           0  \n",
              "3                             5           1  \n",
              "4                             2           1  \n",
              "...                         ...         ...  \n",
              "4648                          4           0  \n",
              "4649                          2           1  \n",
              "4650                          5           1  \n",
              "4651                          2           0  \n",
              "4652                          4           0  \n",
              "\n",
              "[4653 rows x 9 columns]"
            ],
            "text/html": [
              "\n",
              "  <div id=\"df-efc6e8f9-545b-4593-9493-882ac8301a3d\" class=\"colab-df-container\">\n",
              "    <div>\n",
              "<style scoped>\n",
              "    .dataframe tbody tr th:only-of-type {\n",
              "        vertical-align: middle;\n",
              "    }\n",
              "\n",
              "    .dataframe tbody tr th {\n",
              "        vertical-align: top;\n",
              "    }\n",
              "\n",
              "    .dataframe thead th {\n",
              "        text-align: right;\n",
              "    }\n",
              "</style>\n",
              "<table border=\"1\" class=\"dataframe\">\n",
              "  <thead>\n",
              "    <tr style=\"text-align: right;\">\n",
              "      <th></th>\n",
              "      <th>Education</th>\n",
              "      <th>JoiningYear</th>\n",
              "      <th>City</th>\n",
              "      <th>PaymentTier</th>\n",
              "      <th>Age</th>\n",
              "      <th>Gender</th>\n",
              "      <th>EverBenched</th>\n",
              "      <th>ExperienceInCurrentDomain</th>\n",
              "      <th>LeaveOrNot</th>\n",
              "    </tr>\n",
              "  </thead>\n",
              "  <tbody>\n",
              "    <tr>\n",
              "      <th>0</th>\n",
              "      <td>Bachelors</td>\n",
              "      <td>2017</td>\n",
              "      <td>Bangalore</td>\n",
              "      <td>3</td>\n",
              "      <td>34</td>\n",
              "      <td>Male</td>\n",
              "      <td>No</td>\n",
              "      <td>0</td>\n",
              "      <td>0</td>\n",
              "    </tr>\n",
              "    <tr>\n",
              "      <th>1</th>\n",
              "      <td>Bachelors</td>\n",
              "      <td>2013</td>\n",
              "      <td>Pune</td>\n",
              "      <td>1</td>\n",
              "      <td>28</td>\n",
              "      <td>Female</td>\n",
              "      <td>No</td>\n",
              "      <td>3</td>\n",
              "      <td>1</td>\n",
              "    </tr>\n",
              "    <tr>\n",
              "      <th>2</th>\n",
              "      <td>Bachelors</td>\n",
              "      <td>2014</td>\n",
              "      <td>New Delhi</td>\n",
              "      <td>3</td>\n",
              "      <td>38</td>\n",
              "      <td>Female</td>\n",
              "      <td>No</td>\n",
              "      <td>2</td>\n",
              "      <td>0</td>\n",
              "    </tr>\n",
              "    <tr>\n",
              "      <th>3</th>\n",
              "      <td>Masters</td>\n",
              "      <td>2016</td>\n",
              "      <td>Bangalore</td>\n",
              "      <td>3</td>\n",
              "      <td>27</td>\n",
              "      <td>Male</td>\n",
              "      <td>No</td>\n",
              "      <td>5</td>\n",
              "      <td>1</td>\n",
              "    </tr>\n",
              "    <tr>\n",
              "      <th>4</th>\n",
              "      <td>Masters</td>\n",
              "      <td>2017</td>\n",
              "      <td>Pune</td>\n",
              "      <td>3</td>\n",
              "      <td>24</td>\n",
              "      <td>Male</td>\n",
              "      <td>Yes</td>\n",
              "      <td>2</td>\n",
              "      <td>1</td>\n",
              "    </tr>\n",
              "    <tr>\n",
              "      <th>...</th>\n",
              "      <td>...</td>\n",
              "      <td>...</td>\n",
              "      <td>...</td>\n",
              "      <td>...</td>\n",
              "      <td>...</td>\n",
              "      <td>...</td>\n",
              "      <td>...</td>\n",
              "      <td>...</td>\n",
              "      <td>...</td>\n",
              "    </tr>\n",
              "    <tr>\n",
              "      <th>4648</th>\n",
              "      <td>Bachelors</td>\n",
              "      <td>2013</td>\n",
              "      <td>Bangalore</td>\n",
              "      <td>3</td>\n",
              "      <td>26</td>\n",
              "      <td>Female</td>\n",
              "      <td>No</td>\n",
              "      <td>4</td>\n",
              "      <td>0</td>\n",
              "    </tr>\n",
              "    <tr>\n",
              "      <th>4649</th>\n",
              "      <td>Masters</td>\n",
              "      <td>2013</td>\n",
              "      <td>Pune</td>\n",
              "      <td>2</td>\n",
              "      <td>37</td>\n",
              "      <td>Male</td>\n",
              "      <td>No</td>\n",
              "      <td>2</td>\n",
              "      <td>1</td>\n",
              "    </tr>\n",
              "    <tr>\n",
              "      <th>4650</th>\n",
              "      <td>Masters</td>\n",
              "      <td>2018</td>\n",
              "      <td>New Delhi</td>\n",
              "      <td>3</td>\n",
              "      <td>27</td>\n",
              "      <td>Male</td>\n",
              "      <td>No</td>\n",
              "      <td>5</td>\n",
              "      <td>1</td>\n",
              "    </tr>\n",
              "    <tr>\n",
              "      <th>4651</th>\n",
              "      <td>Bachelors</td>\n",
              "      <td>2012</td>\n",
              "      <td>Bangalore</td>\n",
              "      <td>3</td>\n",
              "      <td>30</td>\n",
              "      <td>Male</td>\n",
              "      <td>Yes</td>\n",
              "      <td>2</td>\n",
              "      <td>0</td>\n",
              "    </tr>\n",
              "    <tr>\n",
              "      <th>4652</th>\n",
              "      <td>Bachelors</td>\n",
              "      <td>2015</td>\n",
              "      <td>Bangalore</td>\n",
              "      <td>3</td>\n",
              "      <td>33</td>\n",
              "      <td>Male</td>\n",
              "      <td>Yes</td>\n",
              "      <td>4</td>\n",
              "      <td>0</td>\n",
              "    </tr>\n",
              "  </tbody>\n",
              "</table>\n",
              "<p>4653 rows × 9 columns</p>\n",
              "</div>\n",
              "    <div class=\"colab-df-buttons\">\n",
              "\n",
              "  <div class=\"colab-df-container\">\n",
              "    <button class=\"colab-df-convert\" onclick=\"convertToInteractive('df-efc6e8f9-545b-4593-9493-882ac8301a3d')\"\n",
              "            title=\"Convert this dataframe to an interactive table.\"\n",
              "            style=\"display:none;\">\n",
              "\n",
              "  <svg xmlns=\"http://www.w3.org/2000/svg\" height=\"24px\" viewBox=\"0 -960 960 960\">\n",
              "    <path d=\"M120-120v-720h720v720H120Zm60-500h600v-160H180v160Zm220 220h160v-160H400v160Zm0 220h160v-160H400v160ZM180-400h160v-160H180v160Zm440 0h160v-160H620v160ZM180-180h160v-160H180v160Zm440 0h160v-160H620v160Z\"/>\n",
              "  </svg>\n",
              "    </button>\n",
              "\n",
              "  <style>\n",
              "    .colab-df-container {\n",
              "      display:flex;\n",
              "      gap: 12px;\n",
              "    }\n",
              "\n",
              "    .colab-df-convert {\n",
              "      background-color: #E8F0FE;\n",
              "      border: none;\n",
              "      border-radius: 50%;\n",
              "      cursor: pointer;\n",
              "      display: none;\n",
              "      fill: #1967D2;\n",
              "      height: 32px;\n",
              "      padding: 0 0 0 0;\n",
              "      width: 32px;\n",
              "    }\n",
              "\n",
              "    .colab-df-convert:hover {\n",
              "      background-color: #E2EBFA;\n",
              "      box-shadow: 0px 1px 2px rgba(60, 64, 67, 0.3), 0px 1px 3px 1px rgba(60, 64, 67, 0.15);\n",
              "      fill: #174EA6;\n",
              "    }\n",
              "\n",
              "    .colab-df-buttons div {\n",
              "      margin-bottom: 4px;\n",
              "    }\n",
              "\n",
              "    [theme=dark] .colab-df-convert {\n",
              "      background-color: #3B4455;\n",
              "      fill: #D2E3FC;\n",
              "    }\n",
              "\n",
              "    [theme=dark] .colab-df-convert:hover {\n",
              "      background-color: #434B5C;\n",
              "      box-shadow: 0px 1px 3px 1px rgba(0, 0, 0, 0.15);\n",
              "      filter: drop-shadow(0px 1px 2px rgba(0, 0, 0, 0.3));\n",
              "      fill: #FFFFFF;\n",
              "    }\n",
              "  </style>\n",
              "\n",
              "    <script>\n",
              "      const buttonEl =\n",
              "        document.querySelector('#df-efc6e8f9-545b-4593-9493-882ac8301a3d button.colab-df-convert');\n",
              "      buttonEl.style.display =\n",
              "        google.colab.kernel.accessAllowed ? 'block' : 'none';\n",
              "\n",
              "      async function convertToInteractive(key) {\n",
              "        const element = document.querySelector('#df-efc6e8f9-545b-4593-9493-882ac8301a3d');\n",
              "        const dataTable =\n",
              "          await google.colab.kernel.invokeFunction('convertToInteractive',\n",
              "                                                    [key], {});\n",
              "        if (!dataTable) return;\n",
              "\n",
              "        const docLinkHtml = 'Like what you see? Visit the ' +\n",
              "          '<a target=\"_blank\" href=https://colab.research.google.com/notebooks/data_table.ipynb>data table notebook</a>'\n",
              "          + ' to learn more about interactive tables.';\n",
              "        element.innerHTML = '';\n",
              "        dataTable['output_type'] = 'display_data';\n",
              "        await google.colab.output.renderOutput(dataTable, element);\n",
              "        const docLink = document.createElement('div');\n",
              "        docLink.innerHTML = docLinkHtml;\n",
              "        element.appendChild(docLink);\n",
              "      }\n",
              "    </script>\n",
              "  </div>\n",
              "\n",
              "\n",
              "<div id=\"df-7641e036-498f-4135-9dce-255f2050cc09\">\n",
              "  <button class=\"colab-df-quickchart\" onclick=\"quickchart('df-7641e036-498f-4135-9dce-255f2050cc09')\"\n",
              "            title=\"Suggest charts.\"\n",
              "            style=\"display:none;\">\n",
              "\n",
              "<svg xmlns=\"http://www.w3.org/2000/svg\" height=\"24px\"viewBox=\"0 0 24 24\"\n",
              "     width=\"24px\">\n",
              "    <g>\n",
              "        <path d=\"M19 3H5c-1.1 0-2 .9-2 2v14c0 1.1.9 2 2 2h14c1.1 0 2-.9 2-2V5c0-1.1-.9-2-2-2zM9 17H7v-7h2v7zm4 0h-2V7h2v10zm4 0h-2v-4h2v4z\"/>\n",
              "    </g>\n",
              "</svg>\n",
              "  </button>\n",
              "\n",
              "<style>\n",
              "  .colab-df-quickchart {\n",
              "      --bg-color: #E8F0FE;\n",
              "      --fill-color: #1967D2;\n",
              "      --hover-bg-color: #E2EBFA;\n",
              "      --hover-fill-color: #174EA6;\n",
              "      --disabled-fill-color: #AAA;\n",
              "      --disabled-bg-color: #DDD;\n",
              "  }\n",
              "\n",
              "  [theme=dark] .colab-df-quickchart {\n",
              "      --bg-color: #3B4455;\n",
              "      --fill-color: #D2E3FC;\n",
              "      --hover-bg-color: #434B5C;\n",
              "      --hover-fill-color: #FFFFFF;\n",
              "      --disabled-bg-color: #3B4455;\n",
              "      --disabled-fill-color: #666;\n",
              "  }\n",
              "\n",
              "  .colab-df-quickchart {\n",
              "    background-color: var(--bg-color);\n",
              "    border: none;\n",
              "    border-radius: 50%;\n",
              "    cursor: pointer;\n",
              "    display: none;\n",
              "    fill: var(--fill-color);\n",
              "    height: 32px;\n",
              "    padding: 0;\n",
              "    width: 32px;\n",
              "  }\n",
              "\n",
              "  .colab-df-quickchart:hover {\n",
              "    background-color: var(--hover-bg-color);\n",
              "    box-shadow: 0 1px 2px rgba(60, 64, 67, 0.3), 0 1px 3px 1px rgba(60, 64, 67, 0.15);\n",
              "    fill: var(--button-hover-fill-color);\n",
              "  }\n",
              "\n",
              "  .colab-df-quickchart-complete:disabled,\n",
              "  .colab-df-quickchart-complete:disabled:hover {\n",
              "    background-color: var(--disabled-bg-color);\n",
              "    fill: var(--disabled-fill-color);\n",
              "    box-shadow: none;\n",
              "  }\n",
              "\n",
              "  .colab-df-spinner {\n",
              "    border: 2px solid var(--fill-color);\n",
              "    border-color: transparent;\n",
              "    border-bottom-color: var(--fill-color);\n",
              "    animation:\n",
              "      spin 1s steps(1) infinite;\n",
              "  }\n",
              "\n",
              "  @keyframes spin {\n",
              "    0% {\n",
              "      border-color: transparent;\n",
              "      border-bottom-color: var(--fill-color);\n",
              "      border-left-color: var(--fill-color);\n",
              "    }\n",
              "    20% {\n",
              "      border-color: transparent;\n",
              "      border-left-color: var(--fill-color);\n",
              "      border-top-color: var(--fill-color);\n",
              "    }\n",
              "    30% {\n",
              "      border-color: transparent;\n",
              "      border-left-color: var(--fill-color);\n",
              "      border-top-color: var(--fill-color);\n",
              "      border-right-color: var(--fill-color);\n",
              "    }\n",
              "    40% {\n",
              "      border-color: transparent;\n",
              "      border-right-color: var(--fill-color);\n",
              "      border-top-color: var(--fill-color);\n",
              "    }\n",
              "    60% {\n",
              "      border-color: transparent;\n",
              "      border-right-color: var(--fill-color);\n",
              "    }\n",
              "    80% {\n",
              "      border-color: transparent;\n",
              "      border-right-color: var(--fill-color);\n",
              "      border-bottom-color: var(--fill-color);\n",
              "    }\n",
              "    90% {\n",
              "      border-color: transparent;\n",
              "      border-bottom-color: var(--fill-color);\n",
              "    }\n",
              "  }\n",
              "</style>\n",
              "\n",
              "  <script>\n",
              "    async function quickchart(key) {\n",
              "      const quickchartButtonEl =\n",
              "        document.querySelector('#' + key + ' button');\n",
              "      quickchartButtonEl.disabled = true;  // To prevent multiple clicks.\n",
              "      quickchartButtonEl.classList.add('colab-df-spinner');\n",
              "      try {\n",
              "        const charts = await google.colab.kernel.invokeFunction(\n",
              "            'suggestCharts', [key], {});\n",
              "      } catch (error) {\n",
              "        console.error('Error during call to suggestCharts:', error);\n",
              "      }\n",
              "      quickchartButtonEl.classList.remove('colab-df-spinner');\n",
              "      quickchartButtonEl.classList.add('colab-df-quickchart-complete');\n",
              "    }\n",
              "    (() => {\n",
              "      let quickchartButtonEl =\n",
              "        document.querySelector('#df-7641e036-498f-4135-9dce-255f2050cc09 button');\n",
              "      quickchartButtonEl.style.display =\n",
              "        google.colab.kernel.accessAllowed ? 'block' : 'none';\n",
              "    })();\n",
              "  </script>\n",
              "</div>\n",
              "    </div>\n",
              "  </div>\n"
            ]
          },
          "metadata": {},
          "execution_count": 2
        }
      ]
    },
    {
      "cell_type": "code",
      "source": [
        "data=data.drop(columns=(\"EverBenched\"))"
      ],
      "metadata": {
        "id": "A3OUifG_VdeF"
      },
      "execution_count": 3,
      "outputs": []
    },
    {
      "cell_type": "code",
      "source": [
        "data.describe()"
      ],
      "metadata": {
        "colab": {
          "base_uri": "https://localhost:8080/",
          "height": 300
        },
        "id": "JDybNICXNiqu",
        "outputId": "8667af8c-5f0f-46fa-c3f1-041a05172bb9"
      },
      "execution_count": 4,
      "outputs": [
        {
          "output_type": "execute_result",
          "data": {
            "text/plain": [
              "       JoiningYear  PaymentTier          Age  ExperienceInCurrentDomain  \\\n",
              "count  4653.000000  4653.000000  4653.000000                4653.000000   \n",
              "mean   2015.062970     2.698259    29.393295                   2.905652   \n",
              "std       1.863377     0.561435     4.826087                   1.558240   \n",
              "min    2012.000000     1.000000    22.000000                   0.000000   \n",
              "25%    2013.000000     3.000000    26.000000                   2.000000   \n",
              "50%    2015.000000     3.000000    28.000000                   3.000000   \n",
              "75%    2017.000000     3.000000    32.000000                   4.000000   \n",
              "max    2018.000000     3.000000    41.000000                   7.000000   \n",
              "\n",
              "        LeaveOrNot  \n",
              "count  4653.000000  \n",
              "mean      0.343864  \n",
              "std       0.475047  \n",
              "min       0.000000  \n",
              "25%       0.000000  \n",
              "50%       0.000000  \n",
              "75%       1.000000  \n",
              "max       1.000000  "
            ],
            "text/html": [
              "\n",
              "  <div id=\"df-2a6cbedd-1f88-4d08-8b22-9d149538cbe0\" class=\"colab-df-container\">\n",
              "    <div>\n",
              "<style scoped>\n",
              "    .dataframe tbody tr th:only-of-type {\n",
              "        vertical-align: middle;\n",
              "    }\n",
              "\n",
              "    .dataframe tbody tr th {\n",
              "        vertical-align: top;\n",
              "    }\n",
              "\n",
              "    .dataframe thead th {\n",
              "        text-align: right;\n",
              "    }\n",
              "</style>\n",
              "<table border=\"1\" class=\"dataframe\">\n",
              "  <thead>\n",
              "    <tr style=\"text-align: right;\">\n",
              "      <th></th>\n",
              "      <th>JoiningYear</th>\n",
              "      <th>PaymentTier</th>\n",
              "      <th>Age</th>\n",
              "      <th>ExperienceInCurrentDomain</th>\n",
              "      <th>LeaveOrNot</th>\n",
              "    </tr>\n",
              "  </thead>\n",
              "  <tbody>\n",
              "    <tr>\n",
              "      <th>count</th>\n",
              "      <td>4653.000000</td>\n",
              "      <td>4653.000000</td>\n",
              "      <td>4653.000000</td>\n",
              "      <td>4653.000000</td>\n",
              "      <td>4653.000000</td>\n",
              "    </tr>\n",
              "    <tr>\n",
              "      <th>mean</th>\n",
              "      <td>2015.062970</td>\n",
              "      <td>2.698259</td>\n",
              "      <td>29.393295</td>\n",
              "      <td>2.905652</td>\n",
              "      <td>0.343864</td>\n",
              "    </tr>\n",
              "    <tr>\n",
              "      <th>std</th>\n",
              "      <td>1.863377</td>\n",
              "      <td>0.561435</td>\n",
              "      <td>4.826087</td>\n",
              "      <td>1.558240</td>\n",
              "      <td>0.475047</td>\n",
              "    </tr>\n",
              "    <tr>\n",
              "      <th>min</th>\n",
              "      <td>2012.000000</td>\n",
              "      <td>1.000000</td>\n",
              "      <td>22.000000</td>\n",
              "      <td>0.000000</td>\n",
              "      <td>0.000000</td>\n",
              "    </tr>\n",
              "    <tr>\n",
              "      <th>25%</th>\n",
              "      <td>2013.000000</td>\n",
              "      <td>3.000000</td>\n",
              "      <td>26.000000</td>\n",
              "      <td>2.000000</td>\n",
              "      <td>0.000000</td>\n",
              "    </tr>\n",
              "    <tr>\n",
              "      <th>50%</th>\n",
              "      <td>2015.000000</td>\n",
              "      <td>3.000000</td>\n",
              "      <td>28.000000</td>\n",
              "      <td>3.000000</td>\n",
              "      <td>0.000000</td>\n",
              "    </tr>\n",
              "    <tr>\n",
              "      <th>75%</th>\n",
              "      <td>2017.000000</td>\n",
              "      <td>3.000000</td>\n",
              "      <td>32.000000</td>\n",
              "      <td>4.000000</td>\n",
              "      <td>1.000000</td>\n",
              "    </tr>\n",
              "    <tr>\n",
              "      <th>max</th>\n",
              "      <td>2018.000000</td>\n",
              "      <td>3.000000</td>\n",
              "      <td>41.000000</td>\n",
              "      <td>7.000000</td>\n",
              "      <td>1.000000</td>\n",
              "    </tr>\n",
              "  </tbody>\n",
              "</table>\n",
              "</div>\n",
              "    <div class=\"colab-df-buttons\">\n",
              "\n",
              "  <div class=\"colab-df-container\">\n",
              "    <button class=\"colab-df-convert\" onclick=\"convertToInteractive('df-2a6cbedd-1f88-4d08-8b22-9d149538cbe0')\"\n",
              "            title=\"Convert this dataframe to an interactive table.\"\n",
              "            style=\"display:none;\">\n",
              "\n",
              "  <svg xmlns=\"http://www.w3.org/2000/svg\" height=\"24px\" viewBox=\"0 -960 960 960\">\n",
              "    <path d=\"M120-120v-720h720v720H120Zm60-500h600v-160H180v160Zm220 220h160v-160H400v160Zm0 220h160v-160H400v160ZM180-400h160v-160H180v160Zm440 0h160v-160H620v160ZM180-180h160v-160H180v160Zm440 0h160v-160H620v160Z\"/>\n",
              "  </svg>\n",
              "    </button>\n",
              "\n",
              "  <style>\n",
              "    .colab-df-container {\n",
              "      display:flex;\n",
              "      gap: 12px;\n",
              "    }\n",
              "\n",
              "    .colab-df-convert {\n",
              "      background-color: #E8F0FE;\n",
              "      border: none;\n",
              "      border-radius: 50%;\n",
              "      cursor: pointer;\n",
              "      display: none;\n",
              "      fill: #1967D2;\n",
              "      height: 32px;\n",
              "      padding: 0 0 0 0;\n",
              "      width: 32px;\n",
              "    }\n",
              "\n",
              "    .colab-df-convert:hover {\n",
              "      background-color: #E2EBFA;\n",
              "      box-shadow: 0px 1px 2px rgba(60, 64, 67, 0.3), 0px 1px 3px 1px rgba(60, 64, 67, 0.15);\n",
              "      fill: #174EA6;\n",
              "    }\n",
              "\n",
              "    .colab-df-buttons div {\n",
              "      margin-bottom: 4px;\n",
              "    }\n",
              "\n",
              "    [theme=dark] .colab-df-convert {\n",
              "      background-color: #3B4455;\n",
              "      fill: #D2E3FC;\n",
              "    }\n",
              "\n",
              "    [theme=dark] .colab-df-convert:hover {\n",
              "      background-color: #434B5C;\n",
              "      box-shadow: 0px 1px 3px 1px rgba(0, 0, 0, 0.15);\n",
              "      filter: drop-shadow(0px 1px 2px rgba(0, 0, 0, 0.3));\n",
              "      fill: #FFFFFF;\n",
              "    }\n",
              "  </style>\n",
              "\n",
              "    <script>\n",
              "      const buttonEl =\n",
              "        document.querySelector('#df-2a6cbedd-1f88-4d08-8b22-9d149538cbe0 button.colab-df-convert');\n",
              "      buttonEl.style.display =\n",
              "        google.colab.kernel.accessAllowed ? 'block' : 'none';\n",
              "\n",
              "      async function convertToInteractive(key) {\n",
              "        const element = document.querySelector('#df-2a6cbedd-1f88-4d08-8b22-9d149538cbe0');\n",
              "        const dataTable =\n",
              "          await google.colab.kernel.invokeFunction('convertToInteractive',\n",
              "                                                    [key], {});\n",
              "        if (!dataTable) return;\n",
              "\n",
              "        const docLinkHtml = 'Like what you see? Visit the ' +\n",
              "          '<a target=\"_blank\" href=https://colab.research.google.com/notebooks/data_table.ipynb>data table notebook</a>'\n",
              "          + ' to learn more about interactive tables.';\n",
              "        element.innerHTML = '';\n",
              "        dataTable['output_type'] = 'display_data';\n",
              "        await google.colab.output.renderOutput(dataTable, element);\n",
              "        const docLink = document.createElement('div');\n",
              "        docLink.innerHTML = docLinkHtml;\n",
              "        element.appendChild(docLink);\n",
              "      }\n",
              "    </script>\n",
              "  </div>\n",
              "\n",
              "\n",
              "<div id=\"df-b7593631-1e21-42a8-9c24-66c0809f56fe\">\n",
              "  <button class=\"colab-df-quickchart\" onclick=\"quickchart('df-b7593631-1e21-42a8-9c24-66c0809f56fe')\"\n",
              "            title=\"Suggest charts.\"\n",
              "            style=\"display:none;\">\n",
              "\n",
              "<svg xmlns=\"http://www.w3.org/2000/svg\" height=\"24px\"viewBox=\"0 0 24 24\"\n",
              "     width=\"24px\">\n",
              "    <g>\n",
              "        <path d=\"M19 3H5c-1.1 0-2 .9-2 2v14c0 1.1.9 2 2 2h14c1.1 0 2-.9 2-2V5c0-1.1-.9-2-2-2zM9 17H7v-7h2v7zm4 0h-2V7h2v10zm4 0h-2v-4h2v4z\"/>\n",
              "    </g>\n",
              "</svg>\n",
              "  </button>\n",
              "\n",
              "<style>\n",
              "  .colab-df-quickchart {\n",
              "      --bg-color: #E8F0FE;\n",
              "      --fill-color: #1967D2;\n",
              "      --hover-bg-color: #E2EBFA;\n",
              "      --hover-fill-color: #174EA6;\n",
              "      --disabled-fill-color: #AAA;\n",
              "      --disabled-bg-color: #DDD;\n",
              "  }\n",
              "\n",
              "  [theme=dark] .colab-df-quickchart {\n",
              "      --bg-color: #3B4455;\n",
              "      --fill-color: #D2E3FC;\n",
              "      --hover-bg-color: #434B5C;\n",
              "      --hover-fill-color: #FFFFFF;\n",
              "      --disabled-bg-color: #3B4455;\n",
              "      --disabled-fill-color: #666;\n",
              "  }\n",
              "\n",
              "  .colab-df-quickchart {\n",
              "    background-color: var(--bg-color);\n",
              "    border: none;\n",
              "    border-radius: 50%;\n",
              "    cursor: pointer;\n",
              "    display: none;\n",
              "    fill: var(--fill-color);\n",
              "    height: 32px;\n",
              "    padding: 0;\n",
              "    width: 32px;\n",
              "  }\n",
              "\n",
              "  .colab-df-quickchart:hover {\n",
              "    background-color: var(--hover-bg-color);\n",
              "    box-shadow: 0 1px 2px rgba(60, 64, 67, 0.3), 0 1px 3px 1px rgba(60, 64, 67, 0.15);\n",
              "    fill: var(--button-hover-fill-color);\n",
              "  }\n",
              "\n",
              "  .colab-df-quickchart-complete:disabled,\n",
              "  .colab-df-quickchart-complete:disabled:hover {\n",
              "    background-color: var(--disabled-bg-color);\n",
              "    fill: var(--disabled-fill-color);\n",
              "    box-shadow: none;\n",
              "  }\n",
              "\n",
              "  .colab-df-spinner {\n",
              "    border: 2px solid var(--fill-color);\n",
              "    border-color: transparent;\n",
              "    border-bottom-color: var(--fill-color);\n",
              "    animation:\n",
              "      spin 1s steps(1) infinite;\n",
              "  }\n",
              "\n",
              "  @keyframes spin {\n",
              "    0% {\n",
              "      border-color: transparent;\n",
              "      border-bottom-color: var(--fill-color);\n",
              "      border-left-color: var(--fill-color);\n",
              "    }\n",
              "    20% {\n",
              "      border-color: transparent;\n",
              "      border-left-color: var(--fill-color);\n",
              "      border-top-color: var(--fill-color);\n",
              "    }\n",
              "    30% {\n",
              "      border-color: transparent;\n",
              "      border-left-color: var(--fill-color);\n",
              "      border-top-color: var(--fill-color);\n",
              "      border-right-color: var(--fill-color);\n",
              "    }\n",
              "    40% {\n",
              "      border-color: transparent;\n",
              "      border-right-color: var(--fill-color);\n",
              "      border-top-color: var(--fill-color);\n",
              "    }\n",
              "    60% {\n",
              "      border-color: transparent;\n",
              "      border-right-color: var(--fill-color);\n",
              "    }\n",
              "    80% {\n",
              "      border-color: transparent;\n",
              "      border-right-color: var(--fill-color);\n",
              "      border-bottom-color: var(--fill-color);\n",
              "    }\n",
              "    90% {\n",
              "      border-color: transparent;\n",
              "      border-bottom-color: var(--fill-color);\n",
              "    }\n",
              "  }\n",
              "</style>\n",
              "\n",
              "  <script>\n",
              "    async function quickchart(key) {\n",
              "      const quickchartButtonEl =\n",
              "        document.querySelector('#' + key + ' button');\n",
              "      quickchartButtonEl.disabled = true;  // To prevent multiple clicks.\n",
              "      quickchartButtonEl.classList.add('colab-df-spinner');\n",
              "      try {\n",
              "        const charts = await google.colab.kernel.invokeFunction(\n",
              "            'suggestCharts', [key], {});\n",
              "      } catch (error) {\n",
              "        console.error('Error during call to suggestCharts:', error);\n",
              "      }\n",
              "      quickchartButtonEl.classList.remove('colab-df-spinner');\n",
              "      quickchartButtonEl.classList.add('colab-df-quickchart-complete');\n",
              "    }\n",
              "    (() => {\n",
              "      let quickchartButtonEl =\n",
              "        document.querySelector('#df-b7593631-1e21-42a8-9c24-66c0809f56fe button');\n",
              "      quickchartButtonEl.style.display =\n",
              "        google.colab.kernel.accessAllowed ? 'block' : 'none';\n",
              "    })();\n",
              "  </script>\n",
              "</div>\n",
              "    </div>\n",
              "  </div>\n"
            ]
          },
          "metadata": {},
          "execution_count": 4
        }
      ]
    },
    {
      "cell_type": "code",
      "source": [
        "data['LeaveOrNot'].value_counts()"
      ],
      "metadata": {
        "colab": {
          "base_uri": "https://localhost:8080/"
        },
        "id": "Zt0ENc_3NmlW",
        "outputId": "b9f19df0-8d27-41cb-a9b0-58082a6cdf44"
      },
      "execution_count": 5,
      "outputs": [
        {
          "output_type": "execute_result",
          "data": {
            "text/plain": [
              "0    3053\n",
              "1    1600\n",
              "Name: LeaveOrNot, dtype: int64"
            ]
          },
          "metadata": {},
          "execution_count": 5
        }
      ]
    },
    {
      "cell_type": "code",
      "source": [
        "duplicates_rows = data[data.duplicated()]\n",
        "print (\"Duplicated rows are :\")\n",
        "duplicates_rows"
      ],
      "metadata": {
        "colab": {
          "base_uri": "https://localhost:8080/",
          "height": 441
        },
        "id": "gJaCHCdnNmh1",
        "outputId": "c67884ff-1791-4e3e-c4bf-7f78a7aa8b9a"
      },
      "execution_count": 6,
      "outputs": [
        {
          "output_type": "stream",
          "name": "stdout",
          "text": [
            "Duplicated rows are :\n"
          ]
        },
        {
          "output_type": "execute_result",
          "data": {
            "text/plain": [
              "      Education  JoiningYear       City  PaymentTier  Age  Gender  \\\n",
              "111   Bachelors         2017       Pune            2   27  Female   \n",
              "130   Bachelors         2017  Bangalore            3   26  Female   \n",
              "138   Bachelors         2017  New Delhi            3   28    Male   \n",
              "160   Bachelors         2014  Bangalore            3   28  Female   \n",
              "167   Bachelors         2014  Bangalore            3   25    Male   \n",
              "...         ...          ...        ...          ...  ...     ...   \n",
              "4646  Bachelors         2013  Bangalore            3   25  Female   \n",
              "4648  Bachelors         2013  Bangalore            3   26  Female   \n",
              "4650    Masters         2018  New Delhi            3   27    Male   \n",
              "4651  Bachelors         2012  Bangalore            3   30    Male   \n",
              "4652  Bachelors         2015  Bangalore            3   33    Male   \n",
              "\n",
              "      ExperienceInCurrentDomain  LeaveOrNot  \n",
              "111                           5           1  \n",
              "130                           4           0  \n",
              "138                           2           0  \n",
              "160                           3           0  \n",
              "167                           3           0  \n",
              "...                         ...         ...  \n",
              "4646                          3           0  \n",
              "4648                          4           0  \n",
              "4650                          5           1  \n",
              "4651                          2           0  \n",
              "4652                          4           0  \n",
              "\n",
              "[2098 rows x 8 columns]"
            ],
            "text/html": [
              "\n",
              "  <div id=\"df-d364d14a-78a3-4e5c-ba69-9b4d2249ace6\" class=\"colab-df-container\">\n",
              "    <div>\n",
              "<style scoped>\n",
              "    .dataframe tbody tr th:only-of-type {\n",
              "        vertical-align: middle;\n",
              "    }\n",
              "\n",
              "    .dataframe tbody tr th {\n",
              "        vertical-align: top;\n",
              "    }\n",
              "\n",
              "    .dataframe thead th {\n",
              "        text-align: right;\n",
              "    }\n",
              "</style>\n",
              "<table border=\"1\" class=\"dataframe\">\n",
              "  <thead>\n",
              "    <tr style=\"text-align: right;\">\n",
              "      <th></th>\n",
              "      <th>Education</th>\n",
              "      <th>JoiningYear</th>\n",
              "      <th>City</th>\n",
              "      <th>PaymentTier</th>\n",
              "      <th>Age</th>\n",
              "      <th>Gender</th>\n",
              "      <th>ExperienceInCurrentDomain</th>\n",
              "      <th>LeaveOrNot</th>\n",
              "    </tr>\n",
              "  </thead>\n",
              "  <tbody>\n",
              "    <tr>\n",
              "      <th>111</th>\n",
              "      <td>Bachelors</td>\n",
              "      <td>2017</td>\n",
              "      <td>Pune</td>\n",
              "      <td>2</td>\n",
              "      <td>27</td>\n",
              "      <td>Female</td>\n",
              "      <td>5</td>\n",
              "      <td>1</td>\n",
              "    </tr>\n",
              "    <tr>\n",
              "      <th>130</th>\n",
              "      <td>Bachelors</td>\n",
              "      <td>2017</td>\n",
              "      <td>Bangalore</td>\n",
              "      <td>3</td>\n",
              "      <td>26</td>\n",
              "      <td>Female</td>\n",
              "      <td>4</td>\n",
              "      <td>0</td>\n",
              "    </tr>\n",
              "    <tr>\n",
              "      <th>138</th>\n",
              "      <td>Bachelors</td>\n",
              "      <td>2017</td>\n",
              "      <td>New Delhi</td>\n",
              "      <td>3</td>\n",
              "      <td>28</td>\n",
              "      <td>Male</td>\n",
              "      <td>2</td>\n",
              "      <td>0</td>\n",
              "    </tr>\n",
              "    <tr>\n",
              "      <th>160</th>\n",
              "      <td>Bachelors</td>\n",
              "      <td>2014</td>\n",
              "      <td>Bangalore</td>\n",
              "      <td>3</td>\n",
              "      <td>28</td>\n",
              "      <td>Female</td>\n",
              "      <td>3</td>\n",
              "      <td>0</td>\n",
              "    </tr>\n",
              "    <tr>\n",
              "      <th>167</th>\n",
              "      <td>Bachelors</td>\n",
              "      <td>2014</td>\n",
              "      <td>Bangalore</td>\n",
              "      <td>3</td>\n",
              "      <td>25</td>\n",
              "      <td>Male</td>\n",
              "      <td>3</td>\n",
              "      <td>0</td>\n",
              "    </tr>\n",
              "    <tr>\n",
              "      <th>...</th>\n",
              "      <td>...</td>\n",
              "      <td>...</td>\n",
              "      <td>...</td>\n",
              "      <td>...</td>\n",
              "      <td>...</td>\n",
              "      <td>...</td>\n",
              "      <td>...</td>\n",
              "      <td>...</td>\n",
              "    </tr>\n",
              "    <tr>\n",
              "      <th>4646</th>\n",
              "      <td>Bachelors</td>\n",
              "      <td>2013</td>\n",
              "      <td>Bangalore</td>\n",
              "      <td>3</td>\n",
              "      <td>25</td>\n",
              "      <td>Female</td>\n",
              "      <td>3</td>\n",
              "      <td>0</td>\n",
              "    </tr>\n",
              "    <tr>\n",
              "      <th>4648</th>\n",
              "      <td>Bachelors</td>\n",
              "      <td>2013</td>\n",
              "      <td>Bangalore</td>\n",
              "      <td>3</td>\n",
              "      <td>26</td>\n",
              "      <td>Female</td>\n",
              "      <td>4</td>\n",
              "      <td>0</td>\n",
              "    </tr>\n",
              "    <tr>\n",
              "      <th>4650</th>\n",
              "      <td>Masters</td>\n",
              "      <td>2018</td>\n",
              "      <td>New Delhi</td>\n",
              "      <td>3</td>\n",
              "      <td>27</td>\n",
              "      <td>Male</td>\n",
              "      <td>5</td>\n",
              "      <td>1</td>\n",
              "    </tr>\n",
              "    <tr>\n",
              "      <th>4651</th>\n",
              "      <td>Bachelors</td>\n",
              "      <td>2012</td>\n",
              "      <td>Bangalore</td>\n",
              "      <td>3</td>\n",
              "      <td>30</td>\n",
              "      <td>Male</td>\n",
              "      <td>2</td>\n",
              "      <td>0</td>\n",
              "    </tr>\n",
              "    <tr>\n",
              "      <th>4652</th>\n",
              "      <td>Bachelors</td>\n",
              "      <td>2015</td>\n",
              "      <td>Bangalore</td>\n",
              "      <td>3</td>\n",
              "      <td>33</td>\n",
              "      <td>Male</td>\n",
              "      <td>4</td>\n",
              "      <td>0</td>\n",
              "    </tr>\n",
              "  </tbody>\n",
              "</table>\n",
              "<p>2098 rows × 8 columns</p>\n",
              "</div>\n",
              "    <div class=\"colab-df-buttons\">\n",
              "\n",
              "  <div class=\"colab-df-container\">\n",
              "    <button class=\"colab-df-convert\" onclick=\"convertToInteractive('df-d364d14a-78a3-4e5c-ba69-9b4d2249ace6')\"\n",
              "            title=\"Convert this dataframe to an interactive table.\"\n",
              "            style=\"display:none;\">\n",
              "\n",
              "  <svg xmlns=\"http://www.w3.org/2000/svg\" height=\"24px\" viewBox=\"0 -960 960 960\">\n",
              "    <path d=\"M120-120v-720h720v720H120Zm60-500h600v-160H180v160Zm220 220h160v-160H400v160Zm0 220h160v-160H400v160ZM180-400h160v-160H180v160Zm440 0h160v-160H620v160ZM180-180h160v-160H180v160Zm440 0h160v-160H620v160Z\"/>\n",
              "  </svg>\n",
              "    </button>\n",
              "\n",
              "  <style>\n",
              "    .colab-df-container {\n",
              "      display:flex;\n",
              "      gap: 12px;\n",
              "    }\n",
              "\n",
              "    .colab-df-convert {\n",
              "      background-color: #E8F0FE;\n",
              "      border: none;\n",
              "      border-radius: 50%;\n",
              "      cursor: pointer;\n",
              "      display: none;\n",
              "      fill: #1967D2;\n",
              "      height: 32px;\n",
              "      padding: 0 0 0 0;\n",
              "      width: 32px;\n",
              "    }\n",
              "\n",
              "    .colab-df-convert:hover {\n",
              "      background-color: #E2EBFA;\n",
              "      box-shadow: 0px 1px 2px rgba(60, 64, 67, 0.3), 0px 1px 3px 1px rgba(60, 64, 67, 0.15);\n",
              "      fill: #174EA6;\n",
              "    }\n",
              "\n",
              "    .colab-df-buttons div {\n",
              "      margin-bottom: 4px;\n",
              "    }\n",
              "\n",
              "    [theme=dark] .colab-df-convert {\n",
              "      background-color: #3B4455;\n",
              "      fill: #D2E3FC;\n",
              "    }\n",
              "\n",
              "    [theme=dark] .colab-df-convert:hover {\n",
              "      background-color: #434B5C;\n",
              "      box-shadow: 0px 1px 3px 1px rgba(0, 0, 0, 0.15);\n",
              "      filter: drop-shadow(0px 1px 2px rgba(0, 0, 0, 0.3));\n",
              "      fill: #FFFFFF;\n",
              "    }\n",
              "  </style>\n",
              "\n",
              "    <script>\n",
              "      const buttonEl =\n",
              "        document.querySelector('#df-d364d14a-78a3-4e5c-ba69-9b4d2249ace6 button.colab-df-convert');\n",
              "      buttonEl.style.display =\n",
              "        google.colab.kernel.accessAllowed ? 'block' : 'none';\n",
              "\n",
              "      async function convertToInteractive(key) {\n",
              "        const element = document.querySelector('#df-d364d14a-78a3-4e5c-ba69-9b4d2249ace6');\n",
              "        const dataTable =\n",
              "          await google.colab.kernel.invokeFunction('convertToInteractive',\n",
              "                                                    [key], {});\n",
              "        if (!dataTable) return;\n",
              "\n",
              "        const docLinkHtml = 'Like what you see? Visit the ' +\n",
              "          '<a target=\"_blank\" href=https://colab.research.google.com/notebooks/data_table.ipynb>data table notebook</a>'\n",
              "          + ' to learn more about interactive tables.';\n",
              "        element.innerHTML = '';\n",
              "        dataTable['output_type'] = 'display_data';\n",
              "        await google.colab.output.renderOutput(dataTable, element);\n",
              "        const docLink = document.createElement('div');\n",
              "        docLink.innerHTML = docLinkHtml;\n",
              "        element.appendChild(docLink);\n",
              "      }\n",
              "    </script>\n",
              "  </div>\n",
              "\n",
              "\n",
              "<div id=\"df-df7e7263-fba4-4174-93df-b69306be444f\">\n",
              "  <button class=\"colab-df-quickchart\" onclick=\"quickchart('df-df7e7263-fba4-4174-93df-b69306be444f')\"\n",
              "            title=\"Suggest charts.\"\n",
              "            style=\"display:none;\">\n",
              "\n",
              "<svg xmlns=\"http://www.w3.org/2000/svg\" height=\"24px\"viewBox=\"0 0 24 24\"\n",
              "     width=\"24px\">\n",
              "    <g>\n",
              "        <path d=\"M19 3H5c-1.1 0-2 .9-2 2v14c0 1.1.9 2 2 2h14c1.1 0 2-.9 2-2V5c0-1.1-.9-2-2-2zM9 17H7v-7h2v7zm4 0h-2V7h2v10zm4 0h-2v-4h2v4z\"/>\n",
              "    </g>\n",
              "</svg>\n",
              "  </button>\n",
              "\n",
              "<style>\n",
              "  .colab-df-quickchart {\n",
              "      --bg-color: #E8F0FE;\n",
              "      --fill-color: #1967D2;\n",
              "      --hover-bg-color: #E2EBFA;\n",
              "      --hover-fill-color: #174EA6;\n",
              "      --disabled-fill-color: #AAA;\n",
              "      --disabled-bg-color: #DDD;\n",
              "  }\n",
              "\n",
              "  [theme=dark] .colab-df-quickchart {\n",
              "      --bg-color: #3B4455;\n",
              "      --fill-color: #D2E3FC;\n",
              "      --hover-bg-color: #434B5C;\n",
              "      --hover-fill-color: #FFFFFF;\n",
              "      --disabled-bg-color: #3B4455;\n",
              "      --disabled-fill-color: #666;\n",
              "  }\n",
              "\n",
              "  .colab-df-quickchart {\n",
              "    background-color: var(--bg-color);\n",
              "    border: none;\n",
              "    border-radius: 50%;\n",
              "    cursor: pointer;\n",
              "    display: none;\n",
              "    fill: var(--fill-color);\n",
              "    height: 32px;\n",
              "    padding: 0;\n",
              "    width: 32px;\n",
              "  }\n",
              "\n",
              "  .colab-df-quickchart:hover {\n",
              "    background-color: var(--hover-bg-color);\n",
              "    box-shadow: 0 1px 2px rgba(60, 64, 67, 0.3), 0 1px 3px 1px rgba(60, 64, 67, 0.15);\n",
              "    fill: var(--button-hover-fill-color);\n",
              "  }\n",
              "\n",
              "  .colab-df-quickchart-complete:disabled,\n",
              "  .colab-df-quickchart-complete:disabled:hover {\n",
              "    background-color: var(--disabled-bg-color);\n",
              "    fill: var(--disabled-fill-color);\n",
              "    box-shadow: none;\n",
              "  }\n",
              "\n",
              "  .colab-df-spinner {\n",
              "    border: 2px solid var(--fill-color);\n",
              "    border-color: transparent;\n",
              "    border-bottom-color: var(--fill-color);\n",
              "    animation:\n",
              "      spin 1s steps(1) infinite;\n",
              "  }\n",
              "\n",
              "  @keyframes spin {\n",
              "    0% {\n",
              "      border-color: transparent;\n",
              "      border-bottom-color: var(--fill-color);\n",
              "      border-left-color: var(--fill-color);\n",
              "    }\n",
              "    20% {\n",
              "      border-color: transparent;\n",
              "      border-left-color: var(--fill-color);\n",
              "      border-top-color: var(--fill-color);\n",
              "    }\n",
              "    30% {\n",
              "      border-color: transparent;\n",
              "      border-left-color: var(--fill-color);\n",
              "      border-top-color: var(--fill-color);\n",
              "      border-right-color: var(--fill-color);\n",
              "    }\n",
              "    40% {\n",
              "      border-color: transparent;\n",
              "      border-right-color: var(--fill-color);\n",
              "      border-top-color: var(--fill-color);\n",
              "    }\n",
              "    60% {\n",
              "      border-color: transparent;\n",
              "      border-right-color: var(--fill-color);\n",
              "    }\n",
              "    80% {\n",
              "      border-color: transparent;\n",
              "      border-right-color: var(--fill-color);\n",
              "      border-bottom-color: var(--fill-color);\n",
              "    }\n",
              "    90% {\n",
              "      border-color: transparent;\n",
              "      border-bottom-color: var(--fill-color);\n",
              "    }\n",
              "  }\n",
              "</style>\n",
              "\n",
              "  <script>\n",
              "    async function quickchart(key) {\n",
              "      const quickchartButtonEl =\n",
              "        document.querySelector('#' + key + ' button');\n",
              "      quickchartButtonEl.disabled = true;  // To prevent multiple clicks.\n",
              "      quickchartButtonEl.classList.add('colab-df-spinner');\n",
              "      try {\n",
              "        const charts = await google.colab.kernel.invokeFunction(\n",
              "            'suggestCharts', [key], {});\n",
              "      } catch (error) {\n",
              "        console.error('Error during call to suggestCharts:', error);\n",
              "      }\n",
              "      quickchartButtonEl.classList.remove('colab-df-spinner');\n",
              "      quickchartButtonEl.classList.add('colab-df-quickchart-complete');\n",
              "    }\n",
              "    (() => {\n",
              "      let quickchartButtonEl =\n",
              "        document.querySelector('#df-df7e7263-fba4-4174-93df-b69306be444f button');\n",
              "      quickchartButtonEl.style.display =\n",
              "        google.colab.kernel.accessAllowed ? 'block' : 'none';\n",
              "    })();\n",
              "  </script>\n",
              "</div>\n",
              "    </div>\n",
              "  </div>\n"
            ]
          },
          "metadata": {},
          "execution_count": 6
        }
      ]
    },
    {
      "cell_type": "code",
      "source": [
        "duplicate_count = data[data.duplicated()].shape[0]\n",
        "\n",
        "# Print the count of duplicate rows\n",
        "print(\"Number of duplicate rows:\", duplicate_count)"
      ],
      "metadata": {
        "colab": {
          "base_uri": "https://localhost:8080/"
        },
        "id": "x18C9yQ2NmdN",
        "outputId": "ad81e891-3fd3-4bb4-dc07-faf5e6d6ecfe"
      },
      "execution_count": 7,
      "outputs": [
        {
          "output_type": "stream",
          "name": "stdout",
          "text": [
            "Number of duplicate rows: 2098\n"
          ]
        }
      ]
    },
    {
      "cell_type": "code",
      "source": [
        "# Remove duplicate rows and update 'data'\n",
        "data = data.drop_duplicates()\n",
        "\n",
        "# If you want to reset the index after removing duplicates\n",
        "data.reset_index(drop=True, inplace=True)"
      ],
      "metadata": {
        "id": "58838B2jNs1O"
      },
      "execution_count": 8,
      "outputs": []
    },
    {
      "cell_type": "code",
      "source": [
        "duplicates_rows = data[data.duplicated()]\n",
        "print (\"Duplicated rows are :\")\n",
        "duplicates_rows"
      ],
      "metadata": {
        "colab": {
          "base_uri": "https://localhost:8080/",
          "height": 70
        },
        "id": "TzPJLoUpNszg",
        "outputId": "0775604f-6ab0-40ee-96d0-8859f9765ef1"
      },
      "execution_count": 9,
      "outputs": [
        {
          "output_type": "stream",
          "name": "stdout",
          "text": [
            "Duplicated rows are :\n"
          ]
        },
        {
          "output_type": "execute_result",
          "data": {
            "text/plain": [
              "Empty DataFrame\n",
              "Columns: [Education, JoiningYear, City, PaymentTier, Age, Gender, ExperienceInCurrentDomain, LeaveOrNot]\n",
              "Index: []"
            ],
            "text/html": [
              "\n",
              "  <div id=\"df-8a746532-e2b4-4abd-be96-2f8754663a26\" class=\"colab-df-container\">\n",
              "    <div>\n",
              "<style scoped>\n",
              "    .dataframe tbody tr th:only-of-type {\n",
              "        vertical-align: middle;\n",
              "    }\n",
              "\n",
              "    .dataframe tbody tr th {\n",
              "        vertical-align: top;\n",
              "    }\n",
              "\n",
              "    .dataframe thead th {\n",
              "        text-align: right;\n",
              "    }\n",
              "</style>\n",
              "<table border=\"1\" class=\"dataframe\">\n",
              "  <thead>\n",
              "    <tr style=\"text-align: right;\">\n",
              "      <th></th>\n",
              "      <th>Education</th>\n",
              "      <th>JoiningYear</th>\n",
              "      <th>City</th>\n",
              "      <th>PaymentTier</th>\n",
              "      <th>Age</th>\n",
              "      <th>Gender</th>\n",
              "      <th>ExperienceInCurrentDomain</th>\n",
              "      <th>LeaveOrNot</th>\n",
              "    </tr>\n",
              "  </thead>\n",
              "  <tbody>\n",
              "  </tbody>\n",
              "</table>\n",
              "</div>\n",
              "    <div class=\"colab-df-buttons\">\n",
              "\n",
              "  <div class=\"colab-df-container\">\n",
              "    <button class=\"colab-df-convert\" onclick=\"convertToInteractive('df-8a746532-e2b4-4abd-be96-2f8754663a26')\"\n",
              "            title=\"Convert this dataframe to an interactive table.\"\n",
              "            style=\"display:none;\">\n",
              "\n",
              "  <svg xmlns=\"http://www.w3.org/2000/svg\" height=\"24px\" viewBox=\"0 -960 960 960\">\n",
              "    <path d=\"M120-120v-720h720v720H120Zm60-500h600v-160H180v160Zm220 220h160v-160H400v160Zm0 220h160v-160H400v160ZM180-400h160v-160H180v160Zm440 0h160v-160H620v160ZM180-180h160v-160H180v160Zm440 0h160v-160H620v160Z\"/>\n",
              "  </svg>\n",
              "    </button>\n",
              "\n",
              "  <style>\n",
              "    .colab-df-container {\n",
              "      display:flex;\n",
              "      gap: 12px;\n",
              "    }\n",
              "\n",
              "    .colab-df-convert {\n",
              "      background-color: #E8F0FE;\n",
              "      border: none;\n",
              "      border-radius: 50%;\n",
              "      cursor: pointer;\n",
              "      display: none;\n",
              "      fill: #1967D2;\n",
              "      height: 32px;\n",
              "      padding: 0 0 0 0;\n",
              "      width: 32px;\n",
              "    }\n",
              "\n",
              "    .colab-df-convert:hover {\n",
              "      background-color: #E2EBFA;\n",
              "      box-shadow: 0px 1px 2px rgba(60, 64, 67, 0.3), 0px 1px 3px 1px rgba(60, 64, 67, 0.15);\n",
              "      fill: #174EA6;\n",
              "    }\n",
              "\n",
              "    .colab-df-buttons div {\n",
              "      margin-bottom: 4px;\n",
              "    }\n",
              "\n",
              "    [theme=dark] .colab-df-convert {\n",
              "      background-color: #3B4455;\n",
              "      fill: #D2E3FC;\n",
              "    }\n",
              "\n",
              "    [theme=dark] .colab-df-convert:hover {\n",
              "      background-color: #434B5C;\n",
              "      box-shadow: 0px 1px 3px 1px rgba(0, 0, 0, 0.15);\n",
              "      filter: drop-shadow(0px 1px 2px rgba(0, 0, 0, 0.3));\n",
              "      fill: #FFFFFF;\n",
              "    }\n",
              "  </style>\n",
              "\n",
              "    <script>\n",
              "      const buttonEl =\n",
              "        document.querySelector('#df-8a746532-e2b4-4abd-be96-2f8754663a26 button.colab-df-convert');\n",
              "      buttonEl.style.display =\n",
              "        google.colab.kernel.accessAllowed ? 'block' : 'none';\n",
              "\n",
              "      async function convertToInteractive(key) {\n",
              "        const element = document.querySelector('#df-8a746532-e2b4-4abd-be96-2f8754663a26');\n",
              "        const dataTable =\n",
              "          await google.colab.kernel.invokeFunction('convertToInteractive',\n",
              "                                                    [key], {});\n",
              "        if (!dataTable) return;\n",
              "\n",
              "        const docLinkHtml = 'Like what you see? Visit the ' +\n",
              "          '<a target=\"_blank\" href=https://colab.research.google.com/notebooks/data_table.ipynb>data table notebook</a>'\n",
              "          + ' to learn more about interactive tables.';\n",
              "        element.innerHTML = '';\n",
              "        dataTable['output_type'] = 'display_data';\n",
              "        await google.colab.output.renderOutput(dataTable, element);\n",
              "        const docLink = document.createElement('div');\n",
              "        docLink.innerHTML = docLinkHtml;\n",
              "        element.appendChild(docLink);\n",
              "      }\n",
              "    </script>\n",
              "  </div>\n",
              "\n",
              "    </div>\n",
              "  </div>\n"
            ]
          },
          "metadata": {},
          "execution_count": 9
        }
      ]
    },
    {
      "cell_type": "code",
      "source": [
        "# Function to Apply test statistic for all categorical colunms\n",
        "def test_statistic (column_name) :\n",
        "  # Create Contingency Table\n",
        "  contingency_table = pd.crosstab(data[column_name], data['LeaveOrNot'])\n",
        "  print(\"Our table \",contingency_table)\n",
        "\n",
        "  # Perform Chi-squared Test\n",
        "  chi2_stat, p_val, dof, expected = chi2_contingency(contingency_table)\n",
        "  print(f\"Chi-squared Statistic: {chi2_stat}\")\n",
        "  print(f\"P-value: {p_val}\")\n",
        "  print(f\"Degrees of Freedom: {dof}\")\n",
        "  print(\"Expected Frequencies:\")\n",
        "  print(expected)"
      ],
      "metadata": {
        "id": "mh9oTERSbn7_"
      },
      "execution_count": 10,
      "outputs": []
    },
    {
      "cell_type": "code",
      "source": [
        "test_statistic (\"Education\")"
      ],
      "metadata": {
        "colab": {
          "base_uri": "https://localhost:8080/"
        },
        "id": "kOVGVkrrbvXf",
        "outputId": "47fc7113-aaac-4ce4-c4cb-6125cd2a2714"
      },
      "execution_count": 11,
      "outputs": [
        {
          "output_type": "stream",
          "name": "stdout",
          "text": [
            "Our table  LeaveOrNot     0    1\n",
            "Education            \n",
            "Bachelors   1115  685\n",
            "Masters      316  284\n",
            "PHD          115   40\n",
            "Chi-squared Statistic: 29.14194876342623\n",
            "P-value: 4.6979266319467485e-07\n",
            "Degrees of Freedom: 2\n",
            "Expected Frequencies:\n",
            "[[1089.15851272  710.84148728]\n",
            " [ 363.05283757  236.94716243]\n",
            " [  93.78864971   61.21135029]]\n"
          ]
        }
      ]
    },
    {
      "cell_type": "code",
      "source": [
        "test_statistic (\"City\")"
      ],
      "metadata": {
        "colab": {
          "base_uri": "https://localhost:8080/"
        },
        "id": "PttqVbB-by9j",
        "outputId": "d39108c7-dc4e-4210-c178-373093b2d93a"
      },
      "execution_count": 12,
      "outputs": [
        {
          "output_type": "stream",
          "name": "stdout",
          "text": [
            "Our table  LeaveOrNot    0    1\n",
            "City                \n",
            "Bangalore   682  380\n",
            "New Delhi   494  248\n",
            "Pune        370  381\n",
            "Chi-squared Statistic: 57.26352247717002\n",
            "P-value: 3.676072659961153e-13\n",
            "Degrees of Freedom: 2\n",
            "Expected Frequencies:\n",
            "[[642.6035225  419.3964775 ]\n",
            " [448.97534247 293.02465753]\n",
            " [454.42113503 296.57886497]]\n"
          ]
        }
      ]
    },
    {
      "cell_type": "code",
      "source": [
        "test_statistic (\"Gender\")"
      ],
      "metadata": {
        "colab": {
          "base_uri": "https://localhost:8080/"
        },
        "id": "0gyAVsGmcEOM",
        "outputId": "8634ae9b-59b3-41a3-a42d-6534b38fe6bc"
      },
      "execution_count": 13,
      "outputs": [
        {
          "output_type": "stream",
          "name": "stdout",
          "text": [
            "Our table  LeaveOrNot    0    1\n",
            "Gender              \n",
            "Female      581  581\n",
            "Male        965  428\n",
            "Chi-squared Statistic: 97.69447939593573\n",
            "P-value: 4.8818154418592804e-23\n",
            "Degrees of Freedom: 1\n",
            "Expected Frequencies:\n",
            "[[703.11232877 458.88767123]\n",
            " [842.88767123 550.11232877]]\n"
          ]
        }
      ]
    },
    {
      "cell_type": "code",
      "source": [
        "# Select numeric values\n",
        "numeric_df = data.select_dtypes(include='number')\n",
        "id = numeric_df ['LeaveOrNot']\n",
        "numeric_df.drop (\"LeaveOrNot\", axis =1,inplace=True  )\n",
        "age = numeric_df ['Age']\n",
        "numeric_df.drop (\"Age\", axis =1,inplace=True )"
      ],
      "metadata": {
        "id": "VglU-7wJcELv"
      },
      "execution_count": 14,
      "outputs": []
    },
    {
      "cell_type": "code",
      "source": [
        "# Univariate analysis - Histograms distributions\n",
        "for column in numeric_df.columns:\n",
        "    plt.figure()\n",
        "    print (column)\n",
        "    numeric_df[column].plot(kind='hist', bins=10)\n",
        "    plt.xlabel(column)\n",
        "    plt.ylabel('Frequency')\n",
        "    plt.title(f'Histogram of {column}')\n",
        "    plt.show()"
      ],
      "metadata": {
        "colab": {
          "base_uri": "https://localhost:8080/",
          "height": 1000
        },
        "id": "kYqtiy07cEJj",
        "outputId": "caaa7583-6511-47f7-d71b-22e0833f9182"
      },
      "execution_count": 15,
      "outputs": [
        {
          "output_type": "stream",
          "name": "stdout",
          "text": [
            "JoiningYear\n"
          ]
        },
        {
          "output_type": "display_data",
          "data": {
            "text/plain": [
              "<Figure size 640x480 with 1 Axes>"
            ],
            "image/png": "[encoded data removed]"
          },
          "metadata": {}
        },
        {
          "output_type": "stream",
          "name": "stdout",
          "text": [
            "PaymentTier\n"
          ]
        },
        {
          "output_type": "display_data",
          "data": {
            "text/plain": [
              "<Figure size 640x480 with 1 Axes>"
            ],
            "image/png": "[encoded data removed]"
          },
          "metadata": {}
        },
        {
          "output_type": "stream",
          "name": "stdout",
          "text": [
            "ExperienceInCurrentDomain\n"
          ]
        },
        {
          "output_type": "display_data",
          "data": {
            "text/plain": [
              "<Figure size 640x480 with 1 Axes>"
            ],
            "image/png": "[encoded data removed]"
          },
          "metadata": {}
        }
      ]
    },
    {
      "cell_type": "code",
      "source": [
        "for column in numeric_df.columns:\n",
        "    plt.figure()\n",
        "    print(column)\n",
        "    plt.boxplot(numeric_df[column])\n",
        "    plt.xlabel(column)\n",
        "    plt.ylabel('Value')\n",
        "    plt.title(f'Box Plot of {column}')\n",
        "    plt.show()"
      ],
      "metadata": {
        "colab": {
          "base_uri": "https://localhost:8080/",
          "height": 1000
        },
        "id": "OQN47U8RcEHQ",
        "outputId": "08341afd-3776-4f5c-f4a3-92fba467ed1b"
      },
      "execution_count": 16,
      "outputs": [
        {
          "output_type": "stream",
          "name": "stdout",
          "text": [
            "JoiningYear\n"
          ]
        },
        {
          "output_type": "display_data",
          "data": {
            "text/plain": [
              "<Figure size 640x480 with 1 Axes>"
            ],
            "image/png": "[encoded data removed]"
          },
          "metadata": {}
        },
        {
          "output_type": "stream",
          "name": "stdout",
          "text": [
            "PaymentTier\n"
          ]
        },
        {
          "output_type": "display_data",
          "data": {
            "text/plain": [
              "<Figure size 640x480 with 1 Axes>"
            ],
            "image/png": "[encoded data removed]"
          },
          "metadata": {}
        },
        {
          "output_type": "stream",
          "name": "stdout",
          "text": [
            "ExperienceInCurrentDomain\n"
          ]
        },
        {
          "output_type": "display_data",
          "data": {
            "text/plain": [
              "<Figure size 640x480 with 1 Axes>"
            ],
            "image/png": "[encoded data removed]"
          },
          "metadata": {}
        }
      ]
    },
    {
      "cell_type": "code",
      "source": [
        "# Check for Multicollinearity\n",
        "scatter_matrix(data , alpha=0.8, figsize=(8, 8), diagonal='kde')\n",
        "plt.show()"
      ],
      "metadata": {
        "colab": {
          "base_uri": "https://localhost:8080/",
          "height": 722
        },
        "id": "ELdO7pXNcEEq",
        "outputId": "8bc4ea18-0459-42a4-c8bf-d69e852f09c3"
      },
      "execution_count": 17,
      "outputs": [
        {
          "output_type": "display_data",
          "data": {
            "text/plain": [
              "<Figure size 800x800 with 25 Axes>"
            ],
            "image/png": "[encoded data removed]"
          },
          "metadata": {}
        }
      ]
    },
    {
      "cell_type": "code",
      "source": [
        "def plot_skewness_all_features(df):\n",
        "    num_features = df.select_dtypes(include=['float64', 'int64'])  # Select numerical features\n",
        "    num_cols = num_features.columns\n",
        "    num_cols_count = len(num_cols)\n",
        "    num_rows = math.ceil(num_cols_count / 2)\n",
        "\n",
        "    fig, axes = plt.subplots(nrows=num_rows, ncols=2, figsize=(12, 8))\n",
        "    fig.tight_layout(pad=3.0)\n",
        "\n",
        "    for i, col in enumerate(num_cols):\n",
        "        ax = axes[i // 2, i % 2] if num_cols_count > 1 else axes[i % 2]\n",
        "        sns.distplot(df[col], ax=ax, label=f\"Skewness: {df[col].skew():.2f}\")\n",
        "        ax.set_xlabel(col)\n",
        "        ax.set_ylabel('Frequency')\n",
        "        ax.legend()\n",
        "\n",
        "    plt.show()"
      ],
      "metadata": {
        "id": "N0U1MPq0cc0o"
      },
      "execution_count": 18,
      "outputs": []
    },
    {
      "cell_type": "code",
      "source": [
        "plot_skewness_all_features(numeric_df)"
      ],
      "metadata": {
        "colab": {
          "base_uri": "https://localhost:8080/",
          "height": 1000
        },
        "id": "QXc5qGOKcfKK",
        "outputId": "7c8cbed6-af1e-4097-ff53-a2544c60963f"
      },
      "execution_count": 19,
      "outputs": [
        {
          "output_type": "stream",
          "name": "stderr",
          "text": [
            "<ipython-input-18-9b6fa234317d>:12: UserWarning: \n",
            "\n",
            "`distplot` is a deprecated function and will be removed in seaborn v0.14.0.\n",
            "\n",
            "Please adapt your code to use either `displot` (a figure-level function with\n",
            "similar flexibility) or `histplot` (an axes-level function for histograms).\n",
            "\n",
            "For a guide to updating your code to use the new functions, please see\n",
            "https://gist.github.com/mwaskom/de44147ed2974457ad6372750bbe5751\n",
            "\n",
            "  sns.distplot(df[col], ax=ax, label=f\"Skewness: {df[col].skew():.2f}\")\n",
            "<ipython-input-18-9b6fa234317d>:12: UserWarning: \n",
            "\n",
            "`distplot` is a deprecated function and will be removed in seaborn v0.14.0.\n",
            "\n",
            "Please adapt your code to use either `displot` (a figure-level function with\n",
            "similar flexibility) or `histplot` (an axes-level function for histograms).\n",
            "\n",
            "For a guide to updating your code to use the new functions, please see\n",
            "https://gist.github.com/mwaskom/de44147ed2974457ad6372750bbe5751\n",
            "\n",
            "  sns.distplot(df[col], ax=ax, label=f\"Skewness: {df[col].skew():.2f}\")\n",
            "<ipython-input-18-9b6fa234317d>:12: UserWarning: \n",
            "\n",
            "`distplot` is a deprecated function and will be removed in seaborn v0.14.0.\n",
            "\n",
            "Please adapt your code to use either `displot` (a figure-level function with\n",
            "similar flexibility) or `histplot` (an axes-level function for histograms).\n",
            "\n",
            "For a guide to updating your code to use the new functions, please see\n",
            "https://gist.github.com/mwaskom/de44147ed2974457ad6372750bbe5751\n",
            "\n",
            "  sns.distplot(df[col], ax=ax, label=f\"Skewness: {df[col].skew():.2f}\")\n"
          ]
        },
        {
          "output_type": "display_data",
          "data": {
            "text/plain": [
              "<Figure size 1200x800 with 4 Axes>"
            ],
            "image/png": "[encoded data removed]"
          },
          "metadata": {}
        }
      ]
    },
    {
      "cell_type": "code",
      "source": [
        "def test_numeric_features(df, numeric_columns, target_column):\n",
        "    results = {}\n",
        "    for column in numeric_columns:\n",
        "        category_0 = df[column][df[target_column] == 0]\n",
        "        category_1 = df[column][df[target_column] == 1]\n",
        "        # Perform t-test\n",
        "        statistic, p_value = ttest_ind(category_0, category_1)\n",
        "        results[column] = p_value\n",
        "\n",
        "    return results"
      ],
      "metadata": {
        "id": "1UoxM6S6cfHp"
      },
      "execution_count": 20,
      "outputs": []
    },
    {
      "cell_type": "code",
      "source": [
        "num_cols=numeric_df.columns"
      ],
      "metadata": {
        "id": "gaf6MHq6cfFL"
      },
      "execution_count": 21,
      "outputs": []
    },
    {
      "cell_type": "code",
      "source": [
        "results = test_numeric_features(data, numeric_columns=num_cols, target_column='LeaveOrNot')\n",
        "print(results)"
      ],
      "metadata": {
        "colab": {
          "base_uri": "https://localhost:8080/"
        },
        "id": "VyJ1qzLrcfCw",
        "outputId": "64472ca4-8255-4b61-977f-0815408df357"
      },
      "execution_count": 22,
      "outputs": [
        {
          "output_type": "stream",
          "name": "stdout",
          "text": [
            "{'JoiningYear': 6.4442957963150105e-12, 'PaymentTier': 4.706212889088187e-08, 'ExperienceInCurrentDomain': 0.2098540613547004}\n"
          ]
        }
      ]
    },
    {
      "cell_type": "code",
      "source": [
        "scaler = StandardScaler()\n",
        "data[num_cols] = scaler.fit_transform(data[num_cols])"
      ],
      "metadata": {
        "id": "BPASGk4wcfAQ"
      },
      "execution_count": 23,
      "outputs": []
    },
    {
      "cell_type": "code",
      "source": [
        "data = pd.get_dummies(data,drop_first=True)"
      ],
      "metadata": {
        "id": "qAgS2vCxNstH"
      },
      "execution_count": 24,
      "outputs": []
    },
    {
      "cell_type": "code",
      "source": [
        "X = data.drop(columns=['LeaveOrNot'])\n",
        "y = data['LeaveOrNot']"
      ],
      "metadata": {
        "id": "yOi0kyukNSTE"
      },
      "execution_count": 25,
      "outputs": []
    },
    {
      "cell_type": "code",
      "source": [
        "# Split the data into training and testing sets\n",
        "X_train, X_test, y_train, y_test = train_test_split(X, y, test_size=0.2,stratify=y, random_state=42)"
      ],
      "metadata": {
        "id": "sLGUF01lNVa0"
      },
      "execution_count": 26,
      "outputs": []
    },
    {
      "cell_type": "code",
      "source": [
        "# Automatically split columns into categorical and numeric\n",
        "categorical_cols = X.select_dtypes(include=['object']).columns.tolist()\n",
        "numeric_cols = X.select_dtypes(exclude=['object']).columns.tolist()"
      ],
      "metadata": {
        "id": "DoLNXZ80OfIa"
      },
      "execution_count": 27,
      "outputs": []
    },
    {
      "cell_type": "code",
      "source": [
        "# Create transformers\n",
        "categorical_transformer = Pipeline(steps=[('onehot', OneHotEncoder(handle_unknown='ignore'))])\n",
        "numeric_transformer = Pipeline(steps=[('scaler', StandardScaler())])"
      ],
      "metadata": {
        "id": "nRSeI8Z0OiGd"
      },
      "execution_count": 28,
      "outputs": []
    },
    {
      "cell_type": "code",
      "source": [
        "# Combine transformers\n",
        "preprocessor = ColumnTransformer(transformers=[('num', numeric_transformer, numeric_cols),('cat', categorical_transformer, categorical_cols)] ,remainder='passthrough')"
      ],
      "metadata": {
        "id": "ltwv770bOlVE"
      },
      "execution_count": 29,
      "outputs": []
    },
    {
      "cell_type": "code",
      "source": [
        "# Preprocess the data\n",
        "X_train = preprocessor.fit_transform(X_train)\n",
        "X_test = preprocessor.transform(X_test)"
      ],
      "metadata": {
        "id": "HF21Rnv-Osoy"
      },
      "execution_count": 30,
      "outputs": []
    },
    {
      "cell_type": "code",
      "source": [
        "# Balance the classes using RandomOverSampler\n",
        "ros = RandomOverSampler(sampling_strategy='auto', random_state=42)\n",
        "X_train_resampled, y_train_resampled = ros.fit_resample(X_train, y_train)"
      ],
      "metadata": {
        "id": "luno37_TWjA3"
      },
      "execution_count": 31,
      "outputs": []
    },
    {
      "cell_type": "code",
      "source": [
        "# Define a function to create and compile your DNN model\n",
        "def create_dnn_model(learning_rate=0.01, dropout_rate=0.4, l2_strength=0.001):\n",
        "    model = keras.Sequential([\n",
        "        layers.Input(shape=(X_train_resampled.shape[1],)),\n",
        "        layers.Dense(128, activation='relu', kernel_regularizer=regularizers.l2(l2_strength)),\n",
        "        layers.BatchNormalization(),\n",
        "        layers.Dropout(dropout_rate),\n",
        "        layers.Dense(64, activation='relu', kernel_regularizer=regularizers.l2(l2_strength)),\n",
        "        layers.BatchNormalization(),\n",
        "        layers.Dropout(dropout_rate),\n",
        "        layers.Dense(32, activation='relu', kernel_regularizer=regularizers.l2(l2_strength)),\n",
        "        layers.BatchNormalization(),\n",
        "        layers.Dropout(dropout_rate),\n",
        "        layers.Dense(16, activation='relu', kernel_regularizer=regularizers.l2(l2_strength)),\n",
        "        layers.BatchNormalization(),\n",
        "        layers.Dropout(dropout_rate),\n",
        "        layers.Dense(1, activation='sigmoid')\n",
        "    ])\n",
        "\n",
        "    model.compile(optimizer=RMSprop(learning_rate=learning_rate), loss='binary_crossentropy', metrics=['accuracy'])\n",
        "    return model"
      ],
      "metadata": {
        "id": "uPZZ2Q8eX2QY"
      },
      "execution_count": 190,
      "outputs": []
    },
    {
      "cell_type": "code",
      "source": [
        "# Define hyperparameters to search\n",
        "learning_rates = [0.001, 0.01, 0.1]\n",
        "dropout_rates = [0.2, 0.3, 0.4]\n",
        "l2_strengths = [0.001, 0.01, 0.1]\n",
        "\n",
        "best_accuracy = 0.0\n",
        "best_hyperparameters = {}"
      ],
      "metadata": {
        "id": "3NL4ZJy3TZFq"
      },
      "execution_count": 191,
      "outputs": []
    },
    {
      "cell_type": "code",
      "source": [
        "#Perform a grid search\n",
        "for learning_rate in learning_rates:\n",
        "    for dropout_rate in dropout_rates:\n",
        "        for l2_strength in l2_strengths:\n",
        "            model = create_dnn_model(learning_rate, dropout_rate, l2_strength)\n",
        "            model.fit(X_train_resampled, y_train_resampled, epochs=100, batch_size=32, validation_split=0.3, verbose=0, callbacks=[early_stopping])\n",
        "            y_pred = model.predict(X_test)\n",
        "            y_pred_binary = (y_pred > 0.5).astype(int)\n",
        "            accuracy = accuracy_score(y_test, y_pred_binary)\n",
        "            if accuracy > best_accuracy:\n",
        "                best_accuracy = accuracy\n",
        "                best_hyperparameters = {\n",
        "                    'learning_rate': learning_rate,\n",
        "                    'dropout_rate': dropout_rate,\n",
        "                    'l2_strength': l2_strength\n",
        "                }"
      ],
      "metadata": {
        "id": "iuDodv2YUM7A",
        "colab": {
          "base_uri": "https://localhost:8080/"
        },
        "outputId": "3ddf1607-90d6-423b-88a4-da77a545354b"
      },
      "execution_count": 193,
      "outputs": [
        {
          "output_type": "stream",
          "name": "stdout",
          "text": [
            "16/16 [==============================] - 0s 2ms/step\n",
            "16/16 [==============================] - 0s 2ms/step\n",
            "16/16 [==============================] - 0s 2ms/step\n",
            "16/16 [==============================] - 0s 2ms/step\n",
            "16/16 [==============================] - 0s 2ms/step\n",
            "16/16 [==============================] - 0s 2ms/step\n",
            "16/16 [==============================] - 0s 3ms/step\n",
            "16/16 [==============================] - 0s 2ms/step\n",
            "16/16 [==============================] - 1s 6ms/step\n",
            "16/16 [==============================] - 1s 6ms/step\n",
            "16/16 [==============================] - 0s 2ms/step\n",
            "16/16 [==============================] - 0s 2ms/step\n",
            "16/16 [==============================] - 0s 2ms/step\n",
            "16/16 [==============================] - 0s 2ms/step\n",
            "16/16 [==============================] - 0s 2ms/step\n",
            "16/16 [==============================] - 0s 2ms/step\n",
            "16/16 [==============================] - 0s 2ms/step\n",
            "16/16 [==============================] - 0s 2ms/step\n",
            "16/16 [==============================] - 0s 2ms/step\n",
            "16/16 [==============================] - 0s 2ms/step\n",
            "16/16 [==============================] - 0s 2ms/step\n",
            "16/16 [==============================] - 0s 2ms/step\n",
            "16/16 [==============================] - 0s 2ms/step\n",
            "16/16 [==============================] - 0s 3ms/step\n",
            "16/16 [==============================] - 0s 4ms/step\n",
            "16/16 [==============================] - 0s 4ms/step\n",
            "16/16 [==============================] - 0s 2ms/step\n"
          ]
        }
      ]
    },
    {
      "cell_type": "code",
      "source": [
        "print(\"Best Hyperparameters:\", best_hyperparameters)\n",
        "print(\"Best Test Accuracy:\", best_accuracy)"
      ],
      "metadata": {
        "id": "vJ4HImnAUb3F",
        "colab": {
          "base_uri": "https://localhost:8080/"
        },
        "outputId": "fafff1fc-9637-40ba-d170-326cde03b5c0"
      },
      "execution_count": 195,
      "outputs": [
        {
          "output_type": "stream",
          "name": "stdout",
          "text": [
            "Best Hyperparameters: {'learning_rate': 0.001, 'dropout_rate': 0.2, 'l2_strength': 0.001}\n",
            "Best Test Accuracy: 0.7984344422700587\n"
          ]
        }
      ]
    },
    {
      "cell_type": "code",
      "source": [
        "# Define and compile your DNN model with regularization, dropout, batch normalization, and more hidden layers/neurons\n",
        "model = keras.Sequential([\n",
        "    layers.Input(shape=(X_train_resampled.shape[1],)),\n",
        "    layers.Dense(128, activation='relu', kernel_regularizer=regularizers.l2(0.001)),\n",
        "    layers.BatchNormalization(),\n",
        "    layers.Dropout(0.2),\n",
        "    layers.Dense(64, activation='relu', kernel_regularizer=regularizers.l2(0.001)),\n",
        "    layers.BatchNormalization(),\n",
        "    layers.Dropout(0.2),\n",
        "    layers.Dense(32, activation='relu', kernel_regularizer=regularizers.l2(0.001)),\n",
        "    layers.BatchNormalization(),\n",
        "    layers.Dropout(0.2),\n",
        "    layers.Dense(16, activation='relu', kernel_regularizer=regularizers.l2(0.01)),\n",
        "    layers.BatchNormalization(),\n",
        "    layers.Dropout(0.2),\n",
        "    layers.Dense(8, activation='relu', kernel_regularizer=regularizers.l2(0.01)),\n",
        "    layers.BatchNormalization(),\n",
        "    layers.Dropout(0.2),\n",
        "    layers.Dense(1, activation='sigmoid')\n",
        "])"
      ],
      "metadata": {
        "id": "HJ8RMS0vZ7rc"
      },
      "execution_count": 52,
      "outputs": []
    },
    {
      "cell_type": "code",
      "source": [
        "# Use a learning rate schedule to gradually reduce the learning rate\n",
        "initial_learning_rate = 0.001\n",
        "lr_schedule = LearningRateScheduler(lambda epoch: initial_learning_rate / (10 ** (epoch // 10)))"
      ],
      "metadata": {
        "id": "QhA3zjhEQ8-R"
      },
      "execution_count": 53,
      "outputs": []
    },
    {
      "cell_type": "code",
      "source": [
        "# Compile the model with the RMSprop optimizer\n",
        "model.compile(optimizer=RMSprop(learning_rate=initial_learning_rate), loss='binary_crossentropy', metrics=['accuracy'])"
      ],
      "metadata": {
        "id": "z8Ck3f5PRBtg"
      },
      "execution_count": 54,
      "outputs": []
    },
    {
      "cell_type": "code",
      "source": [
        "# Define early stopping to prevent overfitting\n",
        "early_stopping = EarlyStopping(patience=10, restore_best_weights=True)"
      ],
      "metadata": {
        "id": "lzV1-VoRRsgt"
      },
      "execution_count": 55,
      "outputs": []
    },
    {
      "cell_type": "code",
      "source": [
        "# Train the model with early stopping based on validation loss\n",
        "history = model.fit(X_train, y_train, epochs=100, batch_size=32, validation_split=0.99)\n",
        "#, callbacks=[lr_schedule, early_stopping]"
      ],
      "metadata": {
        "colab": {
          "base_uri": "https://localhost:8080/"
        },
        "id": "TYVWboCPVSzC",
        "outputId": "18d7dfdd-dd1b-4117-9441-3fdbcd1caee0"
      },
      "execution_count": 82,
      "outputs": [
        {
          "output_type": "stream",
          "name": "stdout",
          "text": [
            "Epoch 1/100\n",
            "2/2 [==============================] - 0s 256ms/step - loss: 0.4188 - accuracy: 0.8108 - val_loss: 0.4229 - val_accuracy: 0.8567\n",
            "Epoch 2/100\n",
            "2/2 [==============================] - 0s 222ms/step - loss: 0.5064 - accuracy: 0.8108 - val_loss: 0.4230 - val_accuracy: 0.8570\n",
            "Epoch 3/100\n",
            "2/2 [==============================] - 0s 336ms/step - loss: 0.3556 - accuracy: 0.8919 - val_loss: 0.4232 - val_accuracy: 0.8573\n",
            "Epoch 4/100\n",
            "2/2 [==============================] - 0s 353ms/step - loss: 0.3973 - accuracy: 0.8378 - val_loss: 0.4232 - val_accuracy: 0.8567\n",
            "Epoch 5/100\n",
            "2/2 [==============================] - 0s 337ms/step - loss: 0.4081 - accuracy: 0.8919 - val_loss: 0.4233 - val_accuracy: 0.8562\n",
            "Epoch 6/100\n",
            "2/2 [==============================] - 0s 224ms/step - loss: 0.3189 - accuracy: 0.8919 - val_loss: 0.4233 - val_accuracy: 0.8559\n",
            "Epoch 7/100\n",
            "2/2 [==============================] - 0s 235ms/step - loss: 0.4854 - accuracy: 0.8649 - val_loss: 0.4235 - val_accuracy: 0.8564\n",
            "Epoch 8/100\n",
            "2/2 [==============================] - 0s 221ms/step - loss: 0.3299 - accuracy: 0.8649 - val_loss: 0.4240 - val_accuracy: 0.8545\n",
            "Epoch 9/100\n",
            "2/2 [==============================] - 0s 222ms/step - loss: 0.3847 - accuracy: 0.8108 - val_loss: 0.4239 - val_accuracy: 0.8548\n",
            "Epoch 10/100\n",
            "2/2 [==============================] - 0s 335ms/step - loss: 0.3985 - accuracy: 0.8378 - val_loss: 0.4241 - val_accuracy: 0.8551\n",
            "Epoch 11/100\n",
            "2/2 [==============================] - 0s 245ms/step - loss: 0.4336 - accuracy: 0.8378 - val_loss: 0.4243 - val_accuracy: 0.8551\n",
            "Epoch 12/100\n",
            "2/2 [==============================] - 0s 242ms/step - loss: 0.3736 - accuracy: 0.8649 - val_loss: 0.4245 - val_accuracy: 0.8543\n",
            "Epoch 13/100\n",
            "2/2 [==============================] - 0s 336ms/step - loss: 0.3175 - accuracy: 0.9189 - val_loss: 0.4245 - val_accuracy: 0.8545\n",
            "Epoch 14/100\n",
            "2/2 [==============================] - 0s 336ms/step - loss: 0.3607 - accuracy: 0.8919 - val_loss: 0.4246 - val_accuracy: 0.8543\n",
            "Epoch 15/100\n",
            "2/2 [==============================] - 0s 337ms/step - loss: 0.4526 - accuracy: 0.8649 - val_loss: 0.4251 - val_accuracy: 0.8543\n",
            "Epoch 16/100\n",
            "2/2 [==============================] - 0s 335ms/step - loss: 0.2865 - accuracy: 0.9189 - val_loss: 0.4252 - val_accuracy: 0.8540\n",
            "Epoch 17/100\n",
            "2/2 [==============================] - 0s 228ms/step - loss: 0.3867 - accuracy: 0.8649 - val_loss: 0.4250 - val_accuracy: 0.8537\n",
            "Epoch 18/100\n",
            "2/2 [==============================] - 0s 209ms/step - loss: 0.3702 - accuracy: 0.8378 - val_loss: 0.4252 - val_accuracy: 0.8537\n",
            "Epoch 19/100\n",
            "2/2 [==============================] - 0s 336ms/step - loss: 0.2693 - accuracy: 0.8919 - val_loss: 0.4252 - val_accuracy: 0.8537\n",
            "Epoch 20/100\n",
            "2/2 [==============================] - 0s 214ms/step - loss: 0.3536 - accuracy: 0.8649 - val_loss: 0.4255 - val_accuracy: 0.8537\n",
            "Epoch 21/100\n",
            "2/2 [==============================] - 0s 298ms/step - loss: 0.2986 - accuracy: 0.8919 - val_loss: 0.4256 - val_accuracy: 0.8535\n",
            "Epoch 22/100\n",
            "2/2 [==============================] - 0s 344ms/step - loss: 0.3584 - accuracy: 0.8649 - val_loss: 0.4259 - val_accuracy: 0.8537\n",
            "Epoch 23/100\n",
            "2/2 [==============================] - 0s 337ms/step - loss: 0.3598 - accuracy: 0.8649 - val_loss: 0.4264 - val_accuracy: 0.8529\n",
            "Epoch 24/100\n",
            "2/2 [==============================] - 0s 348ms/step - loss: 0.3133 - accuracy: 0.9189 - val_loss: 0.4265 - val_accuracy: 0.8535\n",
            "Epoch 25/100\n",
            "2/2 [==============================] - 0s 348ms/step - loss: 0.3230 - accuracy: 0.9189 - val_loss: 0.4266 - val_accuracy: 0.8537\n",
            "Epoch 26/100\n",
            "2/2 [==============================] - 0s 318ms/step - loss: 0.4887 - accuracy: 0.8108 - val_loss: 0.4263 - val_accuracy: 0.8540\n",
            "Epoch 27/100\n",
            "2/2 [==============================] - 0s 372ms/step - loss: 0.2922 - accuracy: 0.8649 - val_loss: 0.4265 - val_accuracy: 0.8543\n",
            "Epoch 28/100\n",
            "2/2 [==============================] - 0s 352ms/step - loss: 0.3070 - accuracy: 0.9459 - val_loss: 0.4262 - val_accuracy: 0.8543\n",
            "Epoch 29/100\n",
            "2/2 [==============================] - 0s 336ms/step - loss: 0.2813 - accuracy: 0.9459 - val_loss: 0.4264 - val_accuracy: 0.8543\n",
            "Epoch 30/100\n",
            "2/2 [==============================] - 0s 336ms/step - loss: 0.3377 - accuracy: 0.8919 - val_loss: 0.4264 - val_accuracy: 0.8543\n",
            "Epoch 31/100\n",
            "2/2 [==============================] - 0s 341ms/step - loss: 0.3502 - accuracy: 0.8649 - val_loss: 0.4263 - val_accuracy: 0.8545\n",
            "Epoch 32/100\n",
            "2/2 [==============================] - 0s 337ms/step - loss: 0.3255 - accuracy: 0.9459 - val_loss: 0.4268 - val_accuracy: 0.8537\n",
            "Epoch 33/100\n",
            "2/2 [==============================] - 0s 343ms/step - loss: 0.3945 - accuracy: 0.9189 - val_loss: 0.4263 - val_accuracy: 0.8543\n",
            "Epoch 34/100\n",
            "2/2 [==============================] - 0s 346ms/step - loss: 0.2526 - accuracy: 0.9730 - val_loss: 0.4269 - val_accuracy: 0.8540\n",
            "Epoch 35/100\n",
            "2/2 [==============================] - 0s 222ms/step - loss: 0.2880 - accuracy: 0.9459 - val_loss: 0.4271 - val_accuracy: 0.8540\n",
            "Epoch 36/100\n",
            "2/2 [==============================] - 0s 226ms/step - loss: 0.2273 - accuracy: 0.9459 - val_loss: 0.4273 - val_accuracy: 0.8543\n",
            "Epoch 37/100\n",
            "2/2 [==============================] - 0s 338ms/step - loss: 0.2796 - accuracy: 0.9189 - val_loss: 0.4275 - val_accuracy: 0.8545\n",
            "Epoch 38/100\n",
            "2/2 [==============================] - 0s 336ms/step - loss: 0.2401 - accuracy: 1.0000 - val_loss: 0.4277 - val_accuracy: 0.8535\n",
            "Epoch 39/100\n",
            "2/2 [==============================] - 0s 219ms/step - loss: 0.3288 - accuracy: 0.9189 - val_loss: 0.4279 - val_accuracy: 0.8535\n",
            "Epoch 40/100\n",
            "2/2 [==============================] - 0s 218ms/step - loss: 0.3471 - accuracy: 0.8919 - val_loss: 0.4279 - val_accuracy: 0.8535\n",
            "Epoch 41/100\n",
            "2/2 [==============================] - 0s 225ms/step - loss: 0.4067 - accuracy: 0.8378 - val_loss: 0.4273 - val_accuracy: 0.8537\n",
            "Epoch 42/100\n",
            "2/2 [==============================] - 0s 212ms/step - loss: 0.3236 - accuracy: 0.8919 - val_loss: 0.4279 - val_accuracy: 0.8540\n",
            "Epoch 43/100\n",
            "2/2 [==============================] - 0s 218ms/step - loss: 0.2770 - accuracy: 0.8919 - val_loss: 0.4277 - val_accuracy: 0.8540\n",
            "Epoch 44/100\n",
            "2/2 [==============================] - 0s 344ms/step - loss: 0.2796 - accuracy: 0.9459 - val_loss: 0.4279 - val_accuracy: 0.8540\n",
            "Epoch 45/100\n",
            "2/2 [==============================] - 0s 335ms/step - loss: 0.3205 - accuracy: 0.8919 - val_loss: 0.4281 - val_accuracy: 0.8540\n",
            "Epoch 46/100\n",
            "2/2 [==============================] - 0s 223ms/step - loss: 0.3650 - accuracy: 0.8919 - val_loss: 0.4284 - val_accuracy: 0.8543\n",
            "Epoch 47/100\n",
            "2/2 [==============================] - 0s 222ms/step - loss: 0.3156 - accuracy: 0.8919 - val_loss: 0.4288 - val_accuracy: 0.8543\n",
            "Epoch 48/100\n",
            "2/2 [==============================] - 0s 336ms/step - loss: 0.2506 - accuracy: 0.9189 - val_loss: 0.4289 - val_accuracy: 0.8543\n",
            "Epoch 49/100\n",
            "2/2 [==============================] - 0s 222ms/step - loss: 0.3318 - accuracy: 0.8919 - val_loss: 0.4293 - val_accuracy: 0.8529\n",
            "Epoch 50/100\n",
            "2/2 [==============================] - 0s 337ms/step - loss: 0.3887 - accuracy: 0.8378 - val_loss: 0.4289 - val_accuracy: 0.8535\n",
            "Epoch 51/100\n",
            "2/2 [==============================] - 0s 209ms/step - loss: 0.4022 - accuracy: 0.8649 - val_loss: 0.4292 - val_accuracy: 0.8532\n",
            "Epoch 52/100\n",
            "2/2 [==============================] - 0s 223ms/step - loss: 0.5058 - accuracy: 0.8649 - val_loss: 0.4290 - val_accuracy: 0.8529\n",
            "Epoch 53/100\n",
            "2/2 [==============================] - 0s 334ms/step - loss: 0.2906 - accuracy: 0.8919 - val_loss: 0.4291 - val_accuracy: 0.8526\n",
            "Epoch 54/100\n",
            "2/2 [==============================] - 0s 340ms/step - loss: 0.2551 - accuracy: 0.9189 - val_loss: 0.4292 - val_accuracy: 0.8529\n",
            "Epoch 55/100\n",
            "2/2 [==============================] - 0s 338ms/step - loss: 0.4367 - accuracy: 0.8649 - val_loss: 0.4295 - val_accuracy: 0.8524\n",
            "Epoch 56/100\n",
            "2/2 [==============================] - 0s 213ms/step - loss: 0.2868 - accuracy: 0.8919 - val_loss: 0.4301 - val_accuracy: 0.8524\n",
            "Epoch 57/100\n",
            "2/2 [==============================] - 0s 222ms/step - loss: 0.2903 - accuracy: 0.9459 - val_loss: 0.4299 - val_accuracy: 0.8526\n",
            "Epoch 58/100\n",
            "2/2 [==============================] - 0s 221ms/step - loss: 0.4156 - accuracy: 0.8649 - val_loss: 0.4304 - val_accuracy: 0.8524\n",
            "Epoch 59/100\n",
            "2/2 [==============================] - 0s 336ms/step - loss: 0.2785 - accuracy: 0.9459 - val_loss: 0.4304 - val_accuracy: 0.8521\n",
            "Epoch 60/100\n",
            "2/2 [==============================] - 0s 336ms/step - loss: 0.3006 - accuracy: 0.9459 - val_loss: 0.4298 - val_accuracy: 0.8529\n",
            "Epoch 61/100\n",
            "2/2 [==============================] - 0s 222ms/step - loss: 0.2697 - accuracy: 0.9189 - val_loss: 0.4302 - val_accuracy: 0.8526\n",
            "Epoch 62/100\n",
            "2/2 [==============================] - 0s 225ms/step - loss: 0.3305 - accuracy: 0.8649 - val_loss: 0.4300 - val_accuracy: 0.8529\n",
            "Epoch 63/100\n",
            "2/2 [==============================] - 0s 354ms/step - loss: 0.4031 - accuracy: 0.8649 - val_loss: 0.4301 - val_accuracy: 0.8524\n",
            "Epoch 64/100\n",
            "2/2 [==============================] - 1s 679ms/step - loss: 0.4304 - accuracy: 0.8649 - val_loss: 0.4298 - val_accuracy: 0.8524\n",
            "Epoch 65/100\n",
            "2/2 [==============================] - 0s 358ms/step - loss: 0.2708 - accuracy: 0.9189 - val_loss: 0.4302 - val_accuracy: 0.8524\n",
            "Epoch 66/100\n",
            "2/2 [==============================] - 0s 346ms/step - loss: 0.3504 - accuracy: 0.8649 - val_loss: 0.4303 - val_accuracy: 0.8524\n",
            "Epoch 67/100\n",
            "2/2 [==============================] - 0s 357ms/step - loss: 0.2585 - accuracy: 0.9459 - val_loss: 0.4301 - val_accuracy: 0.8526\n",
            "Epoch 68/100\n",
            "2/2 [==============================] - 0s 350ms/step - loss: 0.2812 - accuracy: 0.9189 - val_loss: 0.4307 - val_accuracy: 0.8524\n",
            "Epoch 69/100\n",
            "2/2 [==============================] - 0s 220ms/step - loss: 0.3308 - accuracy: 0.8919 - val_loss: 0.4307 - val_accuracy: 0.8526\n",
            "Epoch 70/100\n",
            "2/2 [==============================] - 0s 342ms/step - loss: 0.2603 - accuracy: 0.9459 - val_loss: 0.4308 - val_accuracy: 0.8526\n",
            "Epoch 71/100\n",
            "2/2 [==============================] - 0s 222ms/step - loss: 0.2504 - accuracy: 0.9459 - val_loss: 0.4314 - val_accuracy: 0.8524\n",
            "Epoch 72/100\n",
            "2/2 [==============================] - 0s 219ms/step - loss: 0.2704 - accuracy: 0.9730 - val_loss: 0.4316 - val_accuracy: 0.8524\n",
            "Epoch 73/100\n",
            "2/2 [==============================] - 0s 336ms/step - loss: 0.3257 - accuracy: 0.9189 - val_loss: 0.4317 - val_accuracy: 0.8524\n",
            "Epoch 74/100\n",
            "2/2 [==============================] - 0s 213ms/step - loss: 0.2814 - accuracy: 0.9459 - val_loss: 0.4320 - val_accuracy: 0.8526\n",
            "Epoch 75/100\n",
            "2/2 [==============================] - 0s 338ms/step - loss: 0.2811 - accuracy: 0.9459 - val_loss: 0.4319 - val_accuracy: 0.8521\n",
            "Epoch 76/100\n",
            "2/2 [==============================] - 0s 229ms/step - loss: 0.3090 - accuracy: 0.8919 - val_loss: 0.4320 - val_accuracy: 0.8524\n",
            "Epoch 77/100\n",
            "2/2 [==============================] - 0s 341ms/step - loss: 0.2970 - accuracy: 0.8919 - val_loss: 0.4323 - val_accuracy: 0.8524\n",
            "Epoch 78/100\n",
            "2/2 [==============================] - 0s 337ms/step - loss: 0.3845 - accuracy: 0.8919 - val_loss: 0.4327 - val_accuracy: 0.8529\n",
            "Epoch 79/100\n",
            "2/2 [==============================] - 0s 211ms/step - loss: 0.2988 - accuracy: 0.9189 - val_loss: 0.4331 - val_accuracy: 0.8529\n",
            "Epoch 80/100\n",
            "2/2 [==============================] - 0s 342ms/step - loss: 0.3088 - accuracy: 0.8649 - val_loss: 0.4333 - val_accuracy: 0.8532\n",
            "Epoch 81/100\n",
            "2/2 [==============================] - 0s 233ms/step - loss: 0.3444 - accuracy: 0.9459 - val_loss: 0.4334 - val_accuracy: 0.8532\n",
            "Epoch 82/100\n",
            "2/2 [==============================] - 0s 338ms/step - loss: 0.2469 - accuracy: 0.9189 - val_loss: 0.4337 - val_accuracy: 0.8529\n",
            "Epoch 83/100\n",
            "2/2 [==============================] - 0s 339ms/step - loss: 0.2637 - accuracy: 0.9459 - val_loss: 0.4343 - val_accuracy: 0.8532\n",
            "Epoch 84/100\n",
            "2/2 [==============================] - 0s 337ms/step - loss: 0.2669 - accuracy: 0.9730 - val_loss: 0.4342 - val_accuracy: 0.8532\n",
            "Epoch 85/100\n",
            "2/2 [==============================] - 0s 223ms/step - loss: 0.3118 - accuracy: 0.8649 - val_loss: 0.4348 - val_accuracy: 0.8529\n",
            "Epoch 86/100\n",
            "2/2 [==============================] - 0s 338ms/step - loss: 0.4108 - accuracy: 0.8378 - val_loss: 0.4346 - val_accuracy: 0.8521\n",
            "Epoch 87/100\n",
            "2/2 [==============================] - 0s 214ms/step - loss: 0.4252 - accuracy: 0.8919 - val_loss: 0.4347 - val_accuracy: 0.8524\n",
            "Epoch 88/100\n",
            "2/2 [==============================] - 0s 336ms/step - loss: 0.4101 - accuracy: 0.8919 - val_loss: 0.4348 - val_accuracy: 0.8510\n",
            "Epoch 89/100\n",
            "2/2 [==============================] - 0s 337ms/step - loss: 0.3207 - accuracy: 0.8919 - val_loss: 0.4353 - val_accuracy: 0.8510\n",
            "Epoch 90/100\n",
            "2/2 [==============================] - 0s 344ms/step - loss: 0.3207 - accuracy: 0.8649 - val_loss: 0.4355 - val_accuracy: 0.8513\n",
            "Epoch 91/100\n",
            "2/2 [==============================] - 0s 214ms/step - loss: 0.2774 - accuracy: 0.9189 - val_loss: 0.4356 - val_accuracy: 0.8513\n",
            "Epoch 92/100\n",
            "2/2 [==============================] - 0s 335ms/step - loss: 0.2722 - accuracy: 0.9189 - val_loss: 0.4362 - val_accuracy: 0.8518\n",
            "Epoch 93/100\n",
            "2/2 [==============================] - 0s 228ms/step - loss: 0.2262 - accuracy: 0.9730 - val_loss: 0.4366 - val_accuracy: 0.8518\n",
            "Epoch 94/100\n",
            "2/2 [==============================] - 0s 221ms/step - loss: 0.3389 - accuracy: 0.8649 - val_loss: 0.4371 - val_accuracy: 0.8516\n",
            "Epoch 95/100\n",
            "2/2 [==============================] - 0s 336ms/step - loss: 0.4283 - accuracy: 0.8649 - val_loss: 0.4371 - val_accuracy: 0.8516\n",
            "Epoch 96/100\n",
            "2/2 [==============================] - 0s 334ms/step - loss: 0.2872 - accuracy: 0.9189 - val_loss: 0.4376 - val_accuracy: 0.8510\n",
            "Epoch 97/100\n",
            "2/2 [==============================] - 0s 228ms/step - loss: 0.2959 - accuracy: 0.9730 - val_loss: 0.4379 - val_accuracy: 0.8494\n",
            "Epoch 98/100\n",
            "2/2 [==============================] - 0s 335ms/step - loss: 0.3120 - accuracy: 0.9189 - val_loss: 0.4386 - val_accuracy: 0.8497\n",
            "Epoch 99/100\n",
            "2/2 [==============================] - 0s 344ms/step - loss: 0.3516 - accuracy: 0.8919 - val_loss: 0.4384 - val_accuracy: 0.8499\n",
            "Epoch 100/100\n",
            "2/2 [==============================] - 0s 226ms/step - loss: 0.2660 - accuracy: 0.9189 - val_loss: 0.4385 - val_accuracy: 0.8499\n"
          ]
        }
      ]
    },
    {
      "cell_type": "code",
      "source": [
        "# Calculate accuracy on the training set\n",
        "y_train_pred = model.predict(X_train_resampled)\n",
        "y_train_pred_binary = (y_train_pred > 0.5).astype(int)\n",
        "train_accuracy = accuracy_score(y_train_resampled, y_train_pred_binary)\n",
        "print(f'Training Accuracy: {train_accuracy:.2f}')"
      ],
      "metadata": {
        "colab": {
          "base_uri": "https://localhost:8080/"
        },
        "id": "DPRLekmgbhCV",
        "outputId": "adf8670f-25ca-4ef6-ad2d-bbf60f3f7251"
      },
      "execution_count": 83,
      "outputs": [
        {
          "output_type": "stream",
          "name": "stdout",
          "text": [
            "153/153 [==============================] - 0s 2ms/step\n",
            "Training Accuracy: 0.80\n"
          ]
        }
      ]
    },
    {
      "cell_type": "code",
      "execution_count": 84,
      "metadata": {
        "colab": {
          "base_uri": "https://localhost:8080/"
        },
        "id": "wSUvuY4jGPK3",
        "outputId": "de8d8fb8-17a6-47ed-8971-864697b9de23"
      },
      "outputs": [
        {
          "output_type": "stream",
          "name": "stdout",
          "text": [
            "30/30 [==============================] - 0s 2ms/step\n",
            "Test Accuracy: 0.83\n"
          ]
        }
      ],
      "source": [
        "# Calculate accuracy on Train set\n",
        "y_pred = model.predict(X_test)\n",
        "y_pred_binary = (y_pred > 0.5).astype(int)\n",
        "accuracy = accuracy_score(y_test, y_pred_binary)\n",
        "print(f'Test Accuracy: {accuracy:.2f}')"
      ]
    },
    {
      "cell_type": "code",
      "source": [
        "# Print classification report for more detailed evaluation\n",
        "print(\"Classification Report:\")\n",
        "print(classification_report(y_test, y_pred_binary))"
      ],
      "metadata": {
        "colab": {
          "base_uri": "https://localhost:8080/"
        },
        "id": "eRLAHQnjbk-g",
        "outputId": "4b8ccfb0-ca64-4058-9ae6-939dbab74fda"
      },
      "execution_count": 86,
      "outputs": [
        {
          "output_type": "stream",
          "name": "stdout",
          "text": [
            "Classification Report:\n",
            "              precision    recall  f1-score   support\n",
            "\n",
            "           0       0.82      0.96      0.88       611\n",
            "           1       0.88      0.59      0.71       320\n",
            "\n",
            "    accuracy                           0.83       931\n",
            "   macro avg       0.85      0.77      0.79       931\n",
            "weighted avg       0.84      0.83      0.82       931\n",
            "\n"
          ]
        }
      ]
    },
    {
      "cell_type": "code",
      "source": [],
      "metadata": {
        "id": "cuIbmTqOd8ON"
      },
      "execution_count": null,
      "outputs": []
    }
  ]
}