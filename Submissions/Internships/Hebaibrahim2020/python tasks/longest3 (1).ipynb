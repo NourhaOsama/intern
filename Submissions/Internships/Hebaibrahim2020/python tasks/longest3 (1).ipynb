{
 "cells": [
  {
   "cell_type": "code",
   "execution_count": 7,
   "metadata": {},
   "outputs": [],
   "source": [
    "def longestPeak(array):\n",
    "    \n",
    "     \n",
    "    peaks = {}\n",
    "    val = 0\n",
    "    \n",
    "    for i in range(1, len(array) - 1):\n",
    "        if array[i] > array[i - 1] and array[i] > array[i + 1]:\n",
    "            \n",
    "            peaks[i] = array[i]\n",
    "            \n",
    "    for i, j in peaks.items():\n",
    "        left = i - 1\n",
    "        while left > 0 and array[left - 1] < array[left]:\n",
    "            left -= 1\n",
    "                \n",
    "        right = i + 1\n",
    "        while right < len(array) - 1 and array[right] > array[right + 1]:\n",
    "            right += 1\n",
    "            \n",
    "        val = max(val, right - left + 1)  \n",
    "    \n",
    "    return val\n",
    "\n"
   ]
  },
  {
   "cell_type": "code",
   "execution_count": 8,
   "metadata": {},
   "outputs": [
    {
     "data": {
      "text/plain": [
       "6"
      ]
     },
     "execution_count": 8,
     "metadata": {},
     "output_type": "execute_result"
    }
   ],
   "source": [
    "longestPeak([1, 2, 3, 3, 4, 0, 10, 6, 5, -1, -3, 2, 3])  # Expected: 6  ([0, 10, 6, 5, -1, -3])\n"
   ]
  },
  {
   "cell_type": "code",
   "execution_count": 9,
   "metadata": {},
   "outputs": [
    {
     "data": {
      "text/plain": [
       "4"
      ]
     },
     "execution_count": 9,
     "metadata": {},
     "output_type": "execute_result"
    }
   ],
   "source": [
    "longestPeak([1, 2, 3, 3, 4, 4, -3, 2, 3, 0])\n"
   ]
  }
 ],
 "metadata": {
  "kernelspec": {
   "display_name": "Python 3",
   "language": "python",
   "name": "python3"
  },
  "language_info": {
   "codemirror_mode": {
    "name": "ipython",
    "version": 3
   },
   "file_extension": ".py",
   "mimetype": "text/x-python",
   "name": "python",
   "nbconvert_exporter": "python",
   "pygments_lexer": "ipython3",
   "version": "3.10.0"
  }
 },
 "nbformat": 4,
 "nbformat_minor": 2
}
