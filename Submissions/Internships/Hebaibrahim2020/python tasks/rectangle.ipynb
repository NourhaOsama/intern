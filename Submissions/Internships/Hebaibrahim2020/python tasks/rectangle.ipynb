{
 "cells": [
  {
   "cell_type": "code",
   "execution_count": 98,
   "metadata": {},
   "outputs": [],
   "source": [
    "def intersectingRectangles(rect1, rect2):\n",
    "    x1_rect1, y1_rect1 = rect1[0]\n",
    "    x2_rect1, y2_rect1 = rect1[1]\n",
    "\n",
    "    x1_rect2, y1_rect2 = rect2[0]\n",
    "    x2_rect2, y2_rect2 = rect2[1]\n",
    "\n",
    "    if x1_rect1 >= x2_rect2 or x2_rect1 <= x1_rect2 or y1_rect1 >= y2_rect2 or y2_rect1 <= y1_rect2:\n",
    "        return False\n",
    "    else:\n",
    "        return True\n",
    "\n",
    "\n",
    "\n",
    " "
   ]
  },
  {
   "cell_type": "code",
   "execution_count": 99,
   "metadata": {},
   "outputs": [
    {
     "data": {
      "text/plain": [
       "True"
      ]
     },
     "execution_count": 99,
     "metadata": {},
     "output_type": "execute_result"
    }
   ],
   "source": [
    "intersectingRectangles(rect1 = [[1,2],[3,4]], rect2 = [[2,1],[5,3]])  # Expected: True"
   ]
  },
  {
   "cell_type": "markdown",
   "metadata": {},
   "source": [
    "intersectingRectangles(rect1 = [[3,2],[8,9]], rect2 = [[4,4],[6,7]])  # Expected: True"
   ]
  },
  {
   "cell_type": "code",
   "execution_count": 100,
   "metadata": {},
   "outputs": [
    {
     "data": {
      "text/plain": [
       "False"
      ]
     },
     "execution_count": 100,
     "metadata": {},
     "output_type": "execute_result"
    }
   ],
   "source": [
    "intersectingRectangles(rect1 = [[1,2],[3,4]], rect2 = [[11,1],[9,5]])  # Expected: False"
   ]
  },
  {
   "cell_type": "code",
   "execution_count": 101,
   "metadata": {},
   "outputs": [
    {
     "data": {
      "text/plain": [
       "True"
      ]
     },
     "execution_count": 101,
     "metadata": {},
     "output_type": "execute_result"
    }
   ],
   "source": [
    "intersectingRectangles(rect1 = [[2,2],[6,7]], rect2 = [[1,3],[7,6]])  # Expected: True"
   ]
  },
  {
   "cell_type": "code",
   "execution_count": 95,
   "metadata": {},
   "outputs": [
    {
     "data": {
      "text/plain": [
       "True"
      ]
     },
     "execution_count": 95,
     "metadata": {},
     "output_type": "execute_result"
    }
   ],
   "source": [
    "intersectingRectangles(rect1 = [[6,2],[2,7]], rect2 = [[1,3],[7,6]])  # Expected: True"
   ]
  },
  {
   "cell_type": "code",
   "execution_count": 96,
   "metadata": {},
   "outputs": [
    {
     "data": {
      "text/plain": [
       "True"
      ]
     },
     "execution_count": 96,
     "metadata": {},
     "output_type": "execute_result"
    }
   ],
   "source": [
    "intersectingRectangles(rect1 = [[6,2],[2,7]], rect2 = [[1,1],[8,8]])  # Expected: True"
   ]
  },
  {
   "cell_type": "code",
   "execution_count": 97,
   "metadata": {},
   "outputs": [
    {
     "data": {
      "text/plain": [
       "False"
      ]
     },
     "execution_count": 97,
     "metadata": {},
     "output_type": "execute_result"
    }
   ],
   "source": [
    "intersectingRectangles(rect1 = [[2,2],[6,7]], rect2 = [[1,10],[7,13]])  # Expected: False"
   ]
  }
 ],
 "metadata": {
  "kernelspec": {
   "display_name": "Python 3",
   "language": "python",
   "name": "python3"
  },
  "language_info": {
   "codemirror_mode": {
    "name": "ipython",
    "version": 3
   },
   "file_extension": ".py",
   "mimetype": "text/x-python",
   "name": "python",
   "nbconvert_exporter": "python",
   "pygments_lexer": "ipython3",
   "version": "3.10.0"
  }
 },
 "nbformat": 4,
 "nbformat_minor": 2
}
