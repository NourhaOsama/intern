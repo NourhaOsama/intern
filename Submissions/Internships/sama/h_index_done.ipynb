{
  "cells": [
    {
      "cell_type": "markdown",
      "id": "02efd40c",
      "metadata": {
        "id": "02efd40c"
      },
      "source": [
        "<center>\n",
        "    <H1>\n",
        "        H-Index\n",
        "    </H1>\n",
        "</center>\n",
        "\n",
        "<hr style=\"height:2px\">\n",
        "\n",
        "<center>\n",
        "    <H3>\n",
        "        Problem\n",
        "    </H3>\n",
        "</center>\n",
        "\n",
        "You're given an array of integers `citations` where `citations[i]` is the number of citations a researcher received for their `i`th paper.\n",
        "\n",
        "<BR>\n",
        "<p style=\"font-weight: bold; text-align: center\">\n",
        "    Write a function that returns <u>the researcher's <code>h</code>-index</u>.\n",
        "</p>\n",
        "<BR>\n",
        "\n",
        "A scientist has an index `h` if `h` of their `n` papers have at least `h` citations each, and the other `n − h` papers have no more than `h` citations each.\n",
        "\n",
        "If there are several possible values for `h`, the maximum one is taken as the `h`-index.\n",
        "\n",
        "<hr style=\"height:2px\">\n",
        "\n",
        "<center>\n",
        "    <H3>\n",
        "        Sample Inputs & Outputs\n",
        "    </H3>\n",
        "</center>\n",
        "\n",
        "Sample input(s) and output(s) are given below. Note that the examples below are not exhaustive and that we will try your solution on other examples that are held back for verification later. Do try to account for as many cases as you can. Good Luck!\n",
        "\n",
        "#### Example 1\n",
        "```\n",
        "Input: citations = [3,0,6,1,5]\n",
        "Output: 3\n",
        "```\n",
        "\n",
        "#### Example 2\n",
        "```\n",
        "Input: citations = [1,3,1]\n",
        "Output: 1\n",
        "```\n",
        "\n",
        "#### Constraints:\n",
        "- `n == citations.length`\n",
        "- `1 <= n <= 5000`\n",
        "- `0 <= citations[i] <= 1000`\n",
        "\n",
        "<hr style=\"height:2px\">"
      ]
    },
    {
      "cell_type": "markdown",
      "id": "f8038ac3",
      "metadata": {
        "id": "f8038ac3"
      },
      "source": [
        "Please fill in the function below, then try your solution on the examples given at the bottom of this notebook.\n",
        "\n",
        "**Do NOT import or use any external libraries. AVOID `import` statements in your solution (e.g. `import numpy as np`).\n",
        "Use only base Python functions and pre-loaded libraries.**\n",
        "\n",
        "*You are free to add your own helper functions to be called by the function below.*\n",
        "\n",
        "Examples of functions/methods that you may use:\n",
        "   - min()\n",
        "   - max()\n",
        "   - len()\n",
        "   - type()\n",
        "   - range()\n",
        "   - reversed()\n",
        "   - list.sort()\n",
        "   - list.append()\n",
        "   - list.extend()\n",
        "   - list.pop()\n",
        "   - list.remove()"
      ]
    },
    {
      "cell_type": "code",
      "execution_count": null,
      "id": "3b002751",
      "metadata": {
        "id": "3b002751"
      },
      "outputs": [],
      "source": []
    },
    {
      "cell_type": "code",
      "source": [
        "def hIndex(citations) : # citations [3,0,6,1,5]\n",
        "        citations.sort()  # sort the citations\n",
        "        n, i = len(citations), 1\n",
        "        while i <= n:\n",
        "            if citations[n-i] < i: break\n",
        "            i += 1\n",
        "        return i-1"
      ],
      "metadata": {
        "id": "fAk6J3f6QmF7"
      },
      "id": "fAk6J3f6QmF7",
      "execution_count": 2,
      "outputs": []
    },
    {
      "cell_type": "code",
      "execution_count": 3,
      "id": "e32259fc",
      "metadata": {
        "colab": {
          "base_uri": "https://localhost:8080/"
        },
        "id": "e32259fc",
        "outputId": "af6c7af6-7d4e-4edc-d644-6aecd1625da8"
      },
      "outputs": [
        {
          "output_type": "execute_result",
          "data": {
            "text/plain": [
              "3"
            ]
          },
          "metadata": {},
          "execution_count": 3
        }
      ],
      "source": [
        "hIndex([3,0,6,1,5])  # Expected: 3"
      ]
    },
    {
      "cell_type": "code",
      "execution_count": 4,
      "id": "446c74d9",
      "metadata": {
        "colab": {
          "base_uri": "https://localhost:8080/"
        },
        "id": "446c74d9",
        "outputId": "8cf080b7-f4ca-4936-cf2b-fbe8cab75ae6"
      },
      "outputs": [
        {
          "output_type": "execute_result",
          "data": {
            "text/plain": [
              "1"
            ]
          },
          "metadata": {},
          "execution_count": 4
        }
      ],
      "source": [
        "  hIndex([1,3,1])  # Expected: 1"
      ]
    },
    {
      "cell_type": "code",
      "execution_count": 5,
      "id": "35c5072e",
      "metadata": {
        "colab": {
          "base_uri": "https://localhost:8080/"
        },
        "id": "35c5072e",
        "outputId": "f49e3f31-c2e6-4195-e31b-d8cdce5d6207"
      },
      "outputs": [
        {
          "output_type": "execute_result",
          "data": {
            "text/plain": [
              "5"
            ]
          },
          "metadata": {},
          "execution_count": 5
        }
      ],
      "source": [
        "hIndex([3,3,5,5,6,1,9,7,0,4])"
      ]
    },
    {
      "cell_type": "code",
      "execution_count": 6,
      "id": "9acfba63",
      "metadata": {
        "colab": {
          "base_uri": "https://localhost:8080/"
        },
        "id": "9acfba63",
        "outputId": "7291e596-3a82-4dcb-a332-812f23eced17"
      },
      "outputs": [
        {
          "output_type": "execute_result",
          "data": {
            "text/plain": [
              "6"
            ]
          },
          "metadata": {},
          "execution_count": 6
        }
      ],
      "source": [
        "hIndex([3,3,5,5,6,1,9,7,0,4,8,9,8])"
      ]
    },
    {
      "cell_type": "code",
      "execution_count": null,
      "id": "b025bf1e",
      "metadata": {
        "id": "b025bf1e"
      },
      "outputs": [],
      "source": []
    }
  ],
  "metadata": {
    "kernelspec": {
      "display_name": "Python 3 (ipykernel)",
      "language": "python",
      "name": "python3"
    },
    "language_info": {
      "codemirror_mode": {
        "name": "ipython",
        "version": 3
      },
      "file_extension": ".py",
      "mimetype": "text/x-python",
      "name": "python",
      "nbconvert_exporter": "python",
      "pygments_lexer": "ipython3",
      "version": "3.9.13"
    },
    "colab": {
      "provenance": []
    }
  },
  "nbformat": 4,
  "nbformat_minor": 5
}