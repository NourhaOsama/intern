{
  "nbformat": 4,
  "nbformat_minor": 0,
  "metadata": {
    "colab": {
      "provenance": []
    },
    "kernelspec": {
      "name": "python3",
      "display_name": "Python 3"
    },
    "language_info": {
      "name": "python"
    }
  },
  "cells": [
    {
      "cell_type": "code",
      "source": [
        "\n",
        "class Point:\n",
        "    def __init__(self, x, y):\n",
        "        self.x = x\n",
        "        self.y = y\n",
        "\n",
        "\n",
        "def intersectingRectangles(l1, r1, l2, r2):\n",
        "\n",
        "    if l1.x == r1.x or l1.y == r1.y or r2.x == l2.x or l2.y == r2.y:\n",
        "        return False\n",
        "\n",
        "    if l1.x > r2.x or l2.x > r1.x:\n",
        "        return False\n",
        "\n",
        "    if r1.y > l2.y or r2.y > l1.y:\n",
        "        return False\n",
        "\n",
        "    return True\n",
        "\n",
        "# Driver Code ana fhma all of the above,, bs msh fhma mn awel hina awi\n",
        "if __name__ == \"__main__\":\n",
        "    l1 = Point(0, 10)\n",
        "    r1 = Point(10, 0)\n",
        "    l2 = Point(5, 5)\n",
        "    r2 = Point(15, 0)\n",
        "\n",
        "    if(intersectingRectangles(l1, r1, l2, r2)):\n",
        "        print(\"True\")\n",
        "    else:\n",
        "        print(\"False\")"
      ],
      "metadata": {
        "colab": {
          "base_uri": "https://localhost:8080/"
        },
        "id": "xGnJXBtcsZyw",
        "outputId": "a3aa7391-6d74-4d80-e5e4-05b4f8be264f"
      },
      "execution_count": 2,
      "outputs": [
        {
          "output_type": "stream",
          "name": "stdout",
          "text": [
            "True\n"
          ]
        }
      ]
    }
  ]
}