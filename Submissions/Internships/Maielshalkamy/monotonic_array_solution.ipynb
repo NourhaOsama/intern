{
  "cells": [
    {
      "cell_type": "markdown",
      "id": "2f7fd661",
      "metadata": {
        "id": "2f7fd661"
      },
      "source": [
        "<center>\n",
        "    <H1>\n",
        "        Monotonic Array\n",
        "    </H1>\n",
        "</center>\n",
        "\n",
        "<hr style=\"height:2px\">\n",
        "\n",
        "<center>\n",
        "    <H3>\n",
        "        Problem\n",
        "    </H3>\n",
        "</center>\n",
        "\n",
        "<BR>\n",
        "<p style=\"font-weight: bold; text-align: center\">\n",
        "Write a function that takes in an array of integers and returns <u>a boolean representing whether the array is monotonic</u>.\n",
        "</p>\n",
        "<BR>\n",
        "\n",
        "An array is said to be monotonic if its elements, from left to right, are entirely non-increasing or entirely non-decreasing.\n",
        "\n",
        "Non-increasing elements aren't necessarily exclusively decreasing; they simply don't increase. Similarly, Non-decreasing elements aren't necessarily exclusively increasing; they simply don't decrease.\n",
        "\n",
        "Note that empty arrays and arrays of one element are monotonic.\n",
        "\n",
        "<hr style=\"height:2px\">\n",
        "\n",
        "<center>\n",
        "    <H3>\n",
        "        Sample Inputs & Outputs\n",
        "    </H3>\n",
        "</center>\n",
        "\n",
        "Sample input(s) and output(s) are given below. Note that the examples below are not exhaustive and that we will try your solution on other examples that are held back for verification later. Do try to account for as many cases as you can. Good Luck!\n",
        "\n",
        "#### Example 1\n",
        "```\n",
        "Input: array = [-1, -5, -10, -1100, -1100, -1101, -1102, -9001]\n",
        "Output: True\n",
        "```\n",
        "\n",
        "<hr style=\"height:2px\">"
      ]
    },
    {
      "cell_type": "markdown",
      "id": "c5a66a92",
      "metadata": {
        "id": "c5a66a92"
      },
      "source": [
        "Please fill in the function below, then try your solution on the examples given at the bottom of this notebook.\n",
        "\n",
        "**Do NOT import or use any external libraries. AVOID `import` statements in your solution (e.g. `import numpy as np`).\n",
        "Use only base Python functions and pre-loaded libraries.**\n",
        "\n",
        "*You are free to add your own helper functions to be called by the function below.*\n",
        "\n",
        "Examples of functions/methods that you may use:\n",
        "   - min()\n",
        "   - max()\n",
        "   - len()\n",
        "   - type()\n",
        "   - range()\n",
        "   - reversed()\n",
        "   - list.sort()\n",
        "   - list.append()\n",
        "   - list.extend()\n",
        "   - list.pop()\n",
        "   - list.remove()"
      ]
    },
    {
      "cell_type": "code",
      "execution_count": 17,
      "id": "oRIiq7wDRbhA",
      "metadata": {
        "id": "oRIiq7wDRbhA"
      },
      "outputs": [],
      "source": [
        "\n",
        "def isMonotonic(A):\n",
        "   return (all(A[i] <= A[i + 1] for i in range(len(A) - 1)) or\n",
        "      all(A[i] >= A[i + 1] for i in range(len(A) - 1)))"
      ]
    },
    {
      "cell_type": "code",
      "execution_count": 14,
      "id": "c5651741",
      "metadata": {
        "colab": {
          "base_uri": "https://localhost:8080/"
        },
        "id": "c5651741",
        "outputId": "23436512-4c4e-41c1-c0e7-603cfbd5e19b"
      },
      "outputs": [
        {
          "output_type": "stream",
          "name": "stdout",
          "text": [
            "example1 : expected true\n",
            "True\n",
            "example2 : expected false , to test logic of function \n",
            "False\n"
          ]
        }
      ],
      "source": [
        "print (\"example1 : expected true\")\n",
        "print(isMonotonic([-1, -5, -10, -1100, -1100, -1101, -1102, -9001]))  # Expected: True\n",
        "\n",
        "\n",
        "print (\"example2 : expected false , to test logic of function \")\n",
        "test  = [1, 4, 1, 1, 88, 9]\n",
        "\n",
        "print (isMonotonic(test) )"
      ]
    },
    {
      "cell_type": "code",
      "execution_count": 15,
      "id": "da44d956",
      "metadata": {
        "colab": {
          "base_uri": "https://localhost:8080/"
        },
        "id": "da44d956",
        "outputId": "e67a9d88-5303-46b4-b140-779bfad7789b"
      },
      "outputs": [
        {
          "output_type": "execute_result",
          "data": {
            "text/plain": [
              "True"
            ]
          },
          "metadata": {},
          "execution_count": 15
        }
      ],
      "source": [
        "isMonotonic([1,2,2,3,6,15,15,15,15,89]) # Expected: True"
      ]
    },
    {
      "cell_type": "code",
      "execution_count": 12,
      "id": "35dbaff3",
      "metadata": {
        "colab": {
          "base_uri": "https://localhost:8080/"
        },
        "id": "35dbaff3",
        "outputId": "da9b552a-8dd3-4e9f-dd96-5f72f0491f68"
      },
      "outputs": [
        {
          "output_type": "execute_result",
          "data": {
            "text/plain": [
              "False"
            ]
          },
          "metadata": {},
          "execution_count": 12
        }
      ],
      "source": [
        "isMonotonic([-8, -100, -101, -99, -500])  # Expected: False\n"
      ]
    },
    {
      "cell_type": "code",
      "execution_count": 16,
      "id": "3585d516",
      "metadata": {
        "colab": {
          "base_uri": "https://localhost:8080/"
        },
        "id": "3585d516",
        "outputId": "9040b623-7597-4ef3-9b12-508df053dbf2"
      },
      "outputs": [
        {
          "output_type": "execute_result",
          "data": {
            "text/plain": [
              "True"
            ]
          },
          "metadata": {},
          "execution_count": 16
        }
      ],
      "source": [
        "isMonotonic([7,7,7,7,7,7,7])  # Expected: True\n"
      ]
    },
    {
      "cell_type": "code",
      "execution_count": null,
      "id": "b05247fa",
      "metadata": {
        "id": "b05247fa"
      },
      "outputs": [],
      "source": []
    }
  ],
  "metadata": {
    "colab": {
      "provenance": []
    },
    "kernelspec": {
      "display_name": "Python 3 (ipykernel)",
      "language": "python",
      "name": "python3"
    },
    "language_info": {
      "codemirror_mode": {
        "name": "ipython",
        "version": 3
      },
      "file_extension": ".py",
      "mimetype": "text/x-python",
      "name": "python",
      "nbconvert_exporter": "python",
      "pygments_lexer": "ipython3",
      "version": "3.11.4"
    }
  },
  "nbformat": 4,
  "nbformat_minor": 5
}