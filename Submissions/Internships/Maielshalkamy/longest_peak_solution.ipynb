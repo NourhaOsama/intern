{
  "cells": [
    {
      "cell_type": "markdown",
      "id": "2f7fd661",
      "metadata": {
        "id": "2f7fd661"
      },
      "source": [
        "<center>\n",
        "    <H1>\n",
        "        Longest Peak\n",
        "    </H1>\n",
        "</center>\n",
        "\n",
        "<hr style=\"height:2px\">\n",
        "\n",
        "<center>\n",
        "    <H3>\n",
        "        Problem\n",
        "    </H3>\n",
        "</center>\n",
        "\n",
        "<BR>\n",
        "<p style=\"font-weight: bold; text-align: center\">\n",
        "Write a function that takes in an array of integers and returns <u>the length of the longest peak in the array</u>.\n",
        "</p>\n",
        "<BR>\n",
        "\n",
        "A peak is defined as adjacent integers in the array that are **strictly** increasing until they reach a tip (the highest value in the peak), at which point they become **strictly** decreasing. At least three integers are required to form a peak.\n",
        "\n",
        "For example, the integers `1, 4, 10, 2` form a peak, but the integers `4, 0, 10` don't and neither do the integers `1, 2, 2, 0`. Similarly, the integers `1, 2, 3` don't form a peak because they aren't strictly decreasing after the `3`.\n",
        "\n",
        "<hr style=\"height:2px\">\n",
        "\n",
        "<center>\n",
        "    <H3>\n",
        "        Sample Inputs & Outputs\n",
        "    </H3>\n",
        "</center>\n",
        "\n",
        "Sample input(s) and output(s) are given below. Note that the examples below are not exhaustive and that we will try your solution on other examples that are held back for verification later. Do try to account for as many cases as you can. Good Luck!\n",
        "\n",
        "#### Example\n",
        "```\n",
        "Input: array = [1, 2, 3, 3, 4, 0, 10, 6, 5, -1, -3, 2, 3]\n",
        "Output: 6\n",
        "Explanation: 6 is the length of the longest peak: [0, 10, 6, 5, -1, -3]\n",
        "```\n",
        "\n",
        "<hr style=\"height:2px\">"
      ]
    },
    {
      "cell_type": "markdown",
      "id": "e41fbd7b",
      "metadata": {
        "id": "e41fbd7b"
      },
      "source": [
        "Please fill in the function below, then try your solution on the examples given at the bottom of this notebook.\n",
        "\n",
        "**Do NOT import or use any external libraries. AVOID `import` statements in your solution (e.g. `import numpy as np`).\n",
        "Use only base Python functions and pre-loaded libraries.**\n",
        "\n",
        "*You are free to add your own helper functions to be called by the function below.*\n",
        "\n",
        "Examples of functions/methods that you may use:\n",
        "   - min()\n",
        "   - max()\n",
        "   - len()\n",
        "   - type()\n",
        "   - range()\n",
        "   - reversed()\n",
        "   - list.sort()\n",
        "   - list.append()\n",
        "   - list.extend()\n",
        "   - list.pop()\n",
        "   - list.remove()"
      ]
    },
    {
      "cell_type": "code",
      "execution_count": 9,
      "id": "6d291f34",
      "metadata": {
        "id": "6d291f34"
      },
      "outputs": [],
      "source": [
        "def longestPeak(array):\n",
        "    longest = peakStart = peakEnd = 0\n",
        "    peakArrived = False\n",
        "    for i in range(1, len(array) - 1):\n",
        "        # Check for peak\n",
        "        if array[i-1] < array[i] and array[i] > array[i+1]:\n",
        "            peakArrived = True\n",
        "        # Check for end\n",
        "        if array[i] <= array[i+1] and array[i] < array[i-1]:\n",
        "            peakEnd = i\n",
        "        elif array[i+1] < array[i] and i+2 == len(array):\n",
        "            peakEnd = i+1\n",
        "        # Check for longest\n",
        "        if peakArrived and peakEnd > peakStart:\n",
        "            if peakEnd - peakStart + 1 > longest:\n",
        "                longest = peakEnd - peakStart + 1\n",
        "            peakArrived = False\n",
        "        # Check for start\n",
        "        if array[i] < array[i+1] and array[i] <= array[i-1]:\n",
        "            peakStart = i\n",
        "        elif array[i] > array[i-1] and i == 1:\n",
        "            peakStart = 0\n",
        "\n",
        "    return longest"
      ]
    },
    {
      "cell_type": "code",
      "execution_count": 10,
      "id": "c5651741",
      "metadata": {
        "id": "c5651741",
        "outputId": "1d4b1258-e33d-43b4-e739-834418371561",
        "colab": {
          "base_uri": "https://localhost:8080/"
        }
      },
      "outputs": [
        {
          "output_type": "execute_result",
          "data": {
            "text/plain": [
              "6"
            ]
          },
          "metadata": {},
          "execution_count": 10
        }
      ],
      "source": [
        "longestPeak([1, 2, 3, 3, 4, 0, 10, 6, 5, -1, -3, 2, 3])  # Expected: 6  ([0, 10, 6, 5, -1, -3])"
      ]
    },
    {
      "cell_type": "code",
      "execution_count": 11,
      "id": "fe56770f",
      "metadata": {
        "id": "fe56770f",
        "outputId": "5c0d7bf2-2007-4d1b-d60f-13f7d8e8585b",
        "colab": {
          "base_uri": "https://localhost:8080/"
        }
      },
      "outputs": [
        {
          "output_type": "execute_result",
          "data": {
            "text/plain": [
              "4"
            ]
          },
          "metadata": {},
          "execution_count": 11
        }
      ],
      "source": [
        "longestPeak([1, 2, 3, 3, 4, 4, -3, 2, 3, 0])"
      ]
    },
    {
      "cell_type": "code",
      "execution_count": null,
      "id": "9bcdb77c",
      "metadata": {
        "id": "9bcdb77c"
      },
      "outputs": [],
      "source": []
    }
  ],
  "metadata": {
    "kernelspec": {
      "display_name": "Python 3 (ipykernel)",
      "language": "python",
      "name": "python3"
    },
    "language_info": {
      "codemirror_mode": {
        "name": "ipython",
        "version": 3
      },
      "file_extension": ".py",
      "mimetype": "text/x-python",
      "name": "python",
      "nbconvert_exporter": "python",
      "pygments_lexer": "ipython3",
      "version": "3.9.13"
    },
    "colab": {
      "provenance": []
    }
  },
  "nbformat": 4,
  "nbformat_minor": 5
}